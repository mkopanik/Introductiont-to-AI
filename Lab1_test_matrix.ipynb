{
 "cells": [
  {
   "cell_type": "markdown",
   "metadata": {},
   "source": [
    "# Introduction to Artificial Intelligence\n",
    "Laboratory 1\n",
    "\n"
   ]
  },
  {
   "cell_type": "markdown",
   "metadata": {},
   "source": [
    "Exercise 1 Route searching \n",
    "1.\tCreate a set of cities (as points) with coordinates x, y on a plane with height as z coordinate. The cost of going from city A to city B is equal to the Euclidean distance between two cities, if there exists a road. You should define scenarios according to two criteria: \n",
    "a.\tThere are all the direct connections / c.a. 80% of possible connections\n",
    "b.\tThe problem is symmetrical / asymmetrical (in asymmetrical – going up is height +10%, going down: -10%)\n",
    "You should choose the coordinates randomly from the range <-100, 100> for x,y and <0, 50> for z.\n",
    "2.\tRepresent the created map as a weighted (directed) graph, where cities are the nodes and roads are the edges of the graph.\n",
    "3.\tIn the created scene, solve the traveling salesman problem: The salesman starts from a chosen city and has to visit every city exactly once before returning to the starting city. The goal is to find a path with the lowest cost.\n",
    "In the problem, we define state as a partial or full path from the starting city and the corresponding state. You should represent the search problem in a form of state tree.\n",
    "a.\tImplement a full search of the tree, using BFS and DFS methods.\n",
    "b.\tApproximate the solution using greedy search (NN and Dijkstra)\n",
    "c.\tSolve/approximate the solution using A* with inadmissible/admissible heuristics\n",
    "d.\tApproximate the solution using ACO algorithm\n",
    "4.\tTest each algorithm, in each scenario, for n=5…20 cities, in terms of the found path cost, time and memory consumption.\n"
   ]
  },
  {
   "cell_type": "code",
   "execution_count": 14,
   "metadata": {},
   "outputs": [],
   "source": [
    "import random\n",
    "import numpy as np\n",
    "from support import euclidean_distance\n",
    "class CitiesMap():\n",
    "    def __init__(self,n,seed = None):\n",
    "        \"\"\"\n",
    "        initialize with number of cities to include in graph \n",
    "        \"\"\"    \n",
    "        \n",
    "        if seed is not None:\n",
    "            random.seed(seed)\n",
    "        self.seed = seed\n",
    "        self.n = n \n",
    "        self.cities = []\n",
    "        self.routes = np.zeros(shape = (n,n))  # we can represent routes between cities as a matrix with n x n shape \n",
    "        for i in range(n):\n",
    "            self.cities.append((random.randint(-101,101),random.randint(-101,101),random.randint(-51,51)))\n",
    "\n",
    "        # now let's make sure that we don't have duplicated cities so we'll get derired number of unique cities\n",
    "        \n",
    "        len_check = len(set(self.cities))\n",
    "        \n",
    "        while (len_check != n):\n",
    "            self.cities.append((random.randint(-101,101),random.randint(-101,101),random.randint(-51,51)))\n",
    "            len_check = len(set(self.cities))\n",
    "    \n",
    "    \n",
    "    def calculate_distance(self,symmetrical: bool = True , connections: float = 1):\n",
    "        \"\"\"\n",
    "        Fill matrix with distnaces between city i and j  0 < i,j < n with 0 on main diagonal , when symmetrical = True fills only values above main diagonal, conenctions 1 means all cities will be connected\n",
    "        0.5 only half of them and so on \n",
    "        \n",
    "        \"\"\"\n",
    "             \n",
    "        \n",
    "        if (connections==1):   \n",
    "            for i in range(self.n):\n",
    "                for j in range(i+1 , self.n):  # to not double calcualte\n",
    "                    \n",
    "                    distance = euclidean_distance(self.cities[i], self.cities[j])\n",
    "                \n",
    "                    # Store the route only once, as it is undirected\n",
    "                    self.routes[i,j] = distance\n",
    "            return self.routes\n",
    "    \n",
    "    def calculate_distance2(self,symmetrical: bool = True , connections: float = 1):\n",
    "        \"\"\"\n",
    "        Fill matrix with distnaces between city i and j  0 < i,j < n with 0 on main diagonal , when symmetrical = True fills only values above main diagonal, conenctions 1 means all cities will be connected\n",
    "        0.5 only half of them and so on \n",
    "        \n",
    "        \"\"\"\n",
    "        test = np.zeros(shape = (5,5))\n",
    "        \n",
    "        if (connections==1):   \n",
    "            for i in range(self.n):\n",
    "                for j in range(self.n):  # to not double calcualte\n",
    "                    \n",
    "                    distance = euclidean_distance(self.cities[i], self.cities[j])\n",
    "                \n",
    "                    # Store the route only once, as it is undirected\n",
    "                    test[i,j] = distance\n",
    "            return test  \n",
    "        \n",
    "        \n",
    "    \n",
    "    \n",
    "    \n"
   ]
  },
  {
   "cell_type": "code",
   "execution_count": 15,
   "metadata": {},
   "outputs": [
    {
     "data": {
      "text/plain": [
       "array([[  0.        ,  56.78027827, 139.87851872, 219.26011949,\n",
       "         76.13146524],\n",
       "       [  0.        ,   0.        , 150.39281898, 202.84723316,\n",
       "         82.09750301],\n",
       "       [  0.        ,   0.        ,   0.        , 141.4390328 ,\n",
       "         85.1704174 ],\n",
       "       [  0.        ,   0.        ,   0.        ,   0.        ,\n",
       "        189.55474143],\n",
       "       [  0.        ,   0.        ,   0.        ,   0.        ,\n",
       "          0.        ]])"
      ]
     },
     "execution_count": 15,
     "metadata": {},
     "output_type": "execute_result"
    }
   ],
   "source": [
    "miasta = CitiesMap(5,seed=42)\n",
    "miasta.calculate_distance()\n",
    "miasta.routes"
   ]
  },
  {
   "cell_type": "code",
   "execution_count": 16,
   "metadata": {},
   "outputs": [
    {
     "data": {
      "text/plain": [
       "array([[  0.        ,  56.78027827, 139.87851872, 219.26011949,\n",
       "         76.13146524],\n",
       "       [ 56.78027827,   0.        , 150.39281898, 202.84723316,\n",
       "         82.09750301],\n",
       "       [139.87851872, 150.39281898,   0.        , 141.4390328 ,\n",
       "         85.1704174 ],\n",
       "       [219.26011949, 202.84723316, 141.4390328 ,   0.        ,\n",
       "        189.55474143],\n",
       "       [ 76.13146524,  82.09750301,  85.1704174 , 189.55474143,\n",
       "          0.        ]])"
      ]
     },
     "execution_count": 16,
     "metadata": {},
     "output_type": "execute_result"
    }
   ],
   "source": [
    "miasta.calculate_distance2()"
   ]
  }
 ],
 "metadata": {
  "kernelspec": {
   "display_name": "Python 3",
   "language": "python",
   "name": "python3"
  },
  "language_info": {
   "codemirror_mode": {
    "name": "ipython",
    "version": 3
   },
   "file_extension": ".py",
   "mimetype": "text/x-python",
   "name": "python",
   "nbconvert_exporter": "python",
   "pygments_lexer": "ipython3",
   "version": "3.12.0"
  }
 },
 "nbformat": 4,
 "nbformat_minor": 2
}
