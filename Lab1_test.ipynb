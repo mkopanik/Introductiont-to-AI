{
 "cells": [
  {
   "cell_type": "markdown",
   "metadata": {},
   "source": [
    "# Introduction to Artificial Intelligence\n",
    "Laboratory 1\n",
    "\n"
   ]
  },
  {
   "cell_type": "markdown",
   "metadata": {},
   "source": [
    "Exercise 1 Route searching \n",
    "1.\tCreate a set of cities (as points) with coordinates x, y on a plane with height as z coordinate. The cost of going from city A to city B is equal to the Euclidean distance between two cities, if there exists a road. You should define scenarios according to two criteria: \n",
    "a.\tThere are all the direct connections / c.a. 80% of possible connections\n",
    "b.\tThe problem is symmetrical / asymmetrical (in asymmetrical – going up is height +10%, going down: -10%)\n",
    "You should choose the coordinates randomly from the range <-100, 100> for x,y and <0, 50> for z.\n",
    "2.\tRepresent the created map as a weighted (directed) graph, where cities are the nodes and roads are the edges of the graph.\n",
    "3.\tIn the created scene, solve the traveling salesman problem: The salesman starts from a chosen city and has to visit every city exactly once before returning to the starting city. The goal is to find a path with the lowest cost.\n",
    "In the problem, we define state as a partial or full path from the starting city and the corresponding state. You should represent the search problem in a form of state tree.\n",
    "a.\tImplement a full search of the tree, using BFS and DFS methods.\n",
    "b.\tApproximate the solution using greedy search (NN and Dijkstra)\n",
    "c.\tSolve/approximate the solution using A* with inadmissible/admissible heuristics\n",
    "d.\tApproximate the solution using ACO algorithm\n",
    "4.\tTest each algorithm, in each scenario, for n=5…20 cities, in terms of the found path cost, time and memory consumption.\n"
   ]
  },
  {
   "cell_type": "code",
   "execution_count": 1,
   "metadata": {},
   "outputs": [],
   "source": [
    "def euclidean_distance(a,b)->float:  \n",
    "    \"\"\" \n",
    "    points as a tuple or list for example a = (1,2,3) , b = (4,5,6)\n",
    "    \"\"\"\n",
    "    import math\n",
    "    dimension = len(a)\n",
    "    if (dimension !=len(b)):\n",
    "        print(\"Dimension missmatch\")\n",
    "        return 0 \n",
    "    dist = 0\n",
    "    for i in range(dimension):\n",
    "        dist += math.pow(a[i]-b[i],2)\n",
    "    return math.sqrt(dist)\n",
    "    "
   ]
  },
  {
   "cell_type": "code",
   "execution_count": 2,
   "metadata": {},
   "outputs": [],
   "source": [
    "def name_city(n):\n",
    "    \"\"\"Name cities in Excel convention starting from A after Z going to AA then AAA and so on \n",
    "            Then calculating distances.\n",
    "    \"\"\"\n",
    "    name = \"\"\n",
    "    while True:\n",
    "        \n",
    "        rest = n % 26  # getting so called rest and then convert to letter\n",
    "        name = chr(65+rest) + name # add to already mapped values\n",
    "        \n",
    "        \n",
    "        n  = n // 26 - 1 # move on to 'next' char -1 is neccessary because we have some problem with index without it 26 is mapped to 0->A at last position but 26 // 26 -> 1 at first \n",
    "\n",
    "        if (n < 0 ):        # will be fullfiled when we iterate through last chat -> n // 26 - 1  = 0 -1 = -1 \n",
    "            break\n",
    "    return name\n",
    "        \n",
    "    \n"
   ]
  },
  {
   "cell_type": "code",
   "execution_count": 3,
   "metadata": {},
   "outputs": [
    {
     "data": {
      "text/plain": [
       "4.0"
      ]
     },
     "execution_count": 3,
     "metadata": {},
     "output_type": "execute_result"
    }
   ],
   "source": [
    "euclidean_distance((0,0,0),(0,0,4))"
   ]
  },
  {
   "cell_type": "code",
   "execution_count": 25,
   "metadata": {},
   "outputs": [],
   "source": [
    "class CitiesMap():\n",
    "    def __init__(self,n):\n",
    "        \"\"\"\n",
    "        initialize with number of cities to include in graph \n",
    "        \"\"\"    \n",
    "        import random\n",
    "        self.cities = []\n",
    "        self.routes = dict()\n",
    "        for i in range(n):\n",
    "            self.cities.append((random.randint(-101,101),random.randint(-101,101),random.randint(-51,51)))\n",
    "\n",
    "        # now let's make sure that we don't have duplicated cities so we'll get derired number of unique cities\n",
    "        \n",
    "        len_check = len(set(self.cities))\n",
    "        \n",
    "        while (len_check != n):\n",
    "            self.cities.append((random.randint(-101,101),random.randint(-101,101),random.randint(-51,51)))\n",
    "            len_check = len(set(self.cities))\n",
    "        self.cities = set(self.cities)\n",
    "        \n",
    "\n",
    "        \n",
    "    def create_routes_symmetrical(self, connections = 1):\n",
    "        \"\"\"Creates basic graph symmetrical . Default all connections, however setting connections to 0.5 will result in approx 1/2 connections possible connections \n",
    "        \"\"\"\n",
    "        # for now example with connections to every city\n",
    "        cities = list(self.cities)\n",
    "        indexes = len(cities)\n",
    "                   \n",
    "                \n",
    "        if (connections==1):   \n",
    "            for i in range(indexes):\n",
    "                for j in range(i+1 , indexes):  # to not double calcualte\n",
    "                    name_i = name_city(i)\n",
    "                    name_j = name_city(j)\n",
    "                    distance = euclidean_distance(cities[i], cities[j])\n",
    "                \n",
    "                    # Store the route only once, as it is undirected\n",
    "                    self.routes[(name_i, name_j)] = distance\n",
    "            return self.routes\n",
    "        else:\n",
    "            import random\n",
    "            # in this part we also neeed to keep track cities that we already connected\n",
    "            cons =  indexes * connections\n",
    "            index_cons = random.sample(range(0,indexes),cons)\n",
    "            for i in range(index_cons):\n",
    "                for j in range(i+1 , indexes):  # to not double calcualte\n",
    "                    name_i = name_city(i)\n",
    "                    name_j = name_city(j)\n",
    "                    distance = euclidean_distance(cities[i], cities[j])\n",
    "                \n",
    "                    # Store the route only once, as it is undirected\n",
    "                    self.routes[(name_i, name_j)] = distance\n",
    "            return self.routes\n",
    "            \n",
    "            \n",
    "            \n",
    "        "
   ]
  },
  {
   "cell_type": "code",
   "execution_count": 32,
   "metadata": {},
   "outputs": [
    {
     "ename": "TypeError",
     "evalue": "'list' object is not callable",
     "output_type": "error",
     "traceback": [
      "\u001b[1;31m---------------------------------------------------------------------------\u001b[0m",
      "\u001b[1;31mTypeError\u001b[0m                                 Traceback (most recent call last)",
      "Cell \u001b[1;32mIn[32], line 2\u001b[0m\n\u001b[0;32m      1\u001b[0m test \u001b[38;5;241m=\u001b[39m CitiesMap(\u001b[38;5;241m10\u001b[39m)\n\u001b[1;32m----> 2\u001b[0m \u001b[43mtest\u001b[49m\u001b[38;5;241;43m.\u001b[39;49m\u001b[43mcreate_routes_symmetrical\u001b[49m\u001b[43m(\u001b[49m\u001b[43m)\u001b[49m\n",
      "Cell \u001b[1;32mIn[25], line 27\u001b[0m, in \u001b[0;36mCitiesMap.create_routes_symmetrical\u001b[1;34m(self, connections)\u001b[0m\n\u001b[0;32m     24\u001b[0m \u001b[38;5;250m\u001b[39m\u001b[38;5;124;03m\"\"\"Creates basic graph symmetrical . Default all connections, however setting connections to 0.5 will result in approx 1/2 connections possible connections \u001b[39;00m\n\u001b[0;32m     25\u001b[0m \u001b[38;5;124;03m\"\"\"\u001b[39;00m\n\u001b[0;32m     26\u001b[0m \u001b[38;5;66;03m# for now example with connections to every city\u001b[39;00m\n\u001b[1;32m---> 27\u001b[0m cities \u001b[38;5;241m=\u001b[39m \u001b[38;5;28;43mlist\u001b[39;49m\u001b[43m(\u001b[49m\u001b[38;5;28;43mself\u001b[39;49m\u001b[38;5;241;43m.\u001b[39;49m\u001b[43mcities\u001b[49m\u001b[43m)\u001b[49m\n\u001b[0;32m     28\u001b[0m indexes \u001b[38;5;241m=\u001b[39m \u001b[38;5;28mlen\u001b[39m(cities)\n\u001b[0;32m     31\u001b[0m \u001b[38;5;28;01mif\u001b[39;00m (connections\u001b[38;5;241m==\u001b[39m\u001b[38;5;241m1\u001b[39m):   \n",
      "\u001b[1;31mTypeError\u001b[0m: 'list' object is not callable"
     ]
    }
   ],
   "source": [
    "test = CitiesMap(10)\n",
    "test.create_routes_symmetrical()"
   ]
  }
 ],
 "metadata": {
  "kernelspec": {
   "display_name": "Python 3",
   "language": "python",
   "name": "python3"
  },
  "language_info": {
   "codemirror_mode": {
    "name": "ipython",
    "version": 3
   },
   "file_extension": ".py",
   "mimetype": "text/x-python",
   "name": "python",
   "nbconvert_exporter": "python",
   "pygments_lexer": "ipython3",
   "version": "3.12.0"
  }
 },
 "nbformat": 4,
 "nbformat_minor": 2
}
