{
 "cells": [
  {
   "cell_type": "markdown",
   "metadata": {},
   "source": [
    "# Introduction to Artificial Intelligence\n",
    "Laboratory 1\n",
    "\n"
   ]
  },
  {
   "cell_type": "markdown",
   "metadata": {},
   "source": [
    "Exercise 1 Route searching \n",
    "1.\tCreate a set of cities (as points) with coordinates x, y on a plane with height as z coordinate. The cost of going from city A to city B is equal to the Euclidean distance between two cities, if there exists a road. You should define scenarios according to two criteria: \n",
    "a.\tThere are all the direct connections / c.a. 80% of possible connections\n",
    "b.\tThe problem is symmetrical / asymmetrical (in asymmetrical – going up is height +10%, going down: -10%)\n",
    "You should choose the coordinates randomly from the range <-100, 100> for x,y and <0, 50> for z.\n",
    "2.\tRepresent the created map as a weighted (directed) graph, where cities are the nodes and roads are the edges of the graph.\n",
    "3.\tIn the created scene, solve the traveling salesman problem: The salesman starts from a chosen city and has to visit every city exactly once before returning to the starting city. The goal is to find a path with the lowest cost.\n",
    "In the problem, we define state as a partial or full path from the starting city and the corresponding state. You should represent the search problem in a form of state tree.\n",
    "a.\tImplement a full search of the tree, using BFS and DFS methods.\n",
    "b.\tApproximate the solution using greedy search (NN and Dijkstra)\n",
    "c.\tSolve/approximate the solution using A* with inadmissible/admissible heuristics\n",
    "d.\tApproximate the solution using ACO algorithm\n",
    "4.\tTest each algorithm, in each scenario, for n=5…20 cities, in terms of the found path cost, time and memory consumption.\n"
   ]
  },
  {
   "cell_type": "code",
   "execution_count": null,
   "metadata": {},
   "outputs": [],
   "source": []
  }
 ],
 "metadata": {
  "kernelspec": {
   "display_name": "Python 3",
   "language": "python",
   "name": "python3"
  },
  "language_info": {
   "name": "python",
   "version": "3.12.2"
  }
 },
 "nbformat": 4,
 "nbformat_minor": 2
}
