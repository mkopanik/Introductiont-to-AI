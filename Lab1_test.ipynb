{
 "cells": [
  {
   "cell_type": "markdown",
   "metadata": {},
   "source": [
    "# Introduction to Artificial Intelligence\n",
    "Laboratory 1\n",
    "\n"
   ]
  },
  {
   "cell_type": "markdown",
   "metadata": {},
   "source": [
    "Exercise 1 Route searching \n",
    "1.\tCreate a set of cities (as points) with coordinates x, y on a plane with height as z coordinate. The cost of going from city A to city B is equal to the Euclidean distance between two cities, if there exists a road. You should define scenarios according to two criteria: \n",
    "a.\tThere are all the direct connections / c.a. 80% of possible connections\n",
    "b.\tThe problem is symmetrical / asymmetrical (in asymmetrical – going up is height +10%, going down: -10%)\n",
    "You should choose the coordinates randomly from the range <-100, 100> for x,y and <0, 50> for z.\n",
    "2.\tRepresent the created map as a weighted (directed) graph, where cities are the nodes and roads are the edges of the graph.\n",
    "3.\tIn the created scene, solve the traveling salesman problem: The salesman starts from a chosen city and has to visit every city exactly once before returning to the starting city. The goal is to find a path with the lowest cost.\n",
    "In the problem, we define state as a partial or full path from the starting city and the corresponding state. You should represent the search problem in a form of state tree.\n",
    "a.\tImplement a full search of the tree, using BFS and DFS methods.\n",
    "b.\tApproximate the solution using greedy search (NN and Dijkstra)\n",
    "c.\tSolve/approximate the solution using A* with inadmissible/admissible heuristics\n",
    "d.\tApproximate the solution using ACO algorithm\n",
    "4.\tTest each algorithm, in each scenario, for n=5…20 cities, in terms of the found path cost, time and memory consumption.\n"
   ]
  },
  {
   "cell_type": "code",
   "execution_count": 2,
   "metadata": {},
   "outputs": [],
   "source": [
    "def euclidean_distance(a,b)->float:  \n",
    "    \"\"\" \n",
    "    points as a tuple or list for example a = (1,2,3) , b = (4,5,6)\n",
    "    \"\"\"\n",
    "    import math\n",
    "    dimension = len(a)\n",
    "    if (dimension !=len(b)):\n",
    "        print(\"Dimension missmatch\")\n",
    "        return 0 \n",
    "    dist = 0\n",
    "    for i in range(dimension):\n",
    "        dist += math.pow(a[i]-b[i],2)\n",
    "    return math.sqrt(dist)\n",
    "    "
   ]
  },
  {
   "cell_type": "code",
   "execution_count": 90,
   "metadata": {},
   "outputs": [],
   "source": [
    "def name_city(n):\n",
    "    name = \"\"\n",
    "    while True:\n",
    "        \n",
    "        rest = n % 26  # getting so called rest and then convert to letter\n",
    "        name = chr(65+rest) + name # add to already mapped values\n",
    "        \n",
    "        \n",
    "        n  = n // 26 - 1 # move on to 'next' char -1 is neccessary because we have some problem with index without it 26 is mapped to 0->A at last position but 26 // 26 -> 1 at first \n",
    "\n",
    "        if (n < 0 ):        # will be fullfiled when we iterate through last chat -> n // 26 - 1  = 0 -1 = -1 \n",
    "            break\n",
    "    return name\n",
    "        \n",
    "    \n"
   ]
  },
  {
   "cell_type": "code",
   "execution_count": 43,
   "metadata": {},
   "outputs": [
    {
     "data": {
      "text/plain": [
       "4.0"
      ]
     },
     "execution_count": 43,
     "metadata": {},
     "output_type": "execute_result"
    }
   ],
   "source": [
    "euclidean_distance((0,0,0),(0,0,4))"
   ]
  },
  {
   "cell_type": "code",
   "execution_count": 109,
   "metadata": {},
   "outputs": [],
   "source": [
    "class CitiesMap():\n",
    "    def __init__(self,n):\n",
    "        \"\"\"\n",
    "        initialize with number of cities to include in graph \n",
    "        \"\"\"    \n",
    "        import random\n",
    "        self.cities = []\n",
    "        self.routes = dict()\n",
    "        for i in range(n):\n",
    "            self.cities.append((random.randint(-101,101),random.randint(-101,101),random.randint(-51,51)))\n",
    "\n",
    "        # now let's make sure that we don't have duplicated cities so we'll get derired number of unique cities\n",
    "        \n",
    "        len_check = len(set(self.cities))\n",
    "        \n",
    "        while (len_check != n):\n",
    "            self.cities.append((random.randint(-101,101),random.randint(-101,101),random.randint(-51,51)))\n",
    "            len_check = len(set(self.cities))\n",
    "        self.cities = set(self.cities)\n",
    "        \n",
    "\n",
    "        \n",
    "    def create_routes(self):\n",
    "        \"\"\"Name cities in Excel convention starting from A after Z going to AA then AAA and so on \n",
    "            Then calculating distances.\n",
    "        \"\"\"\n",
    "        # for now example with connections to every city\n",
    "        cities = list(self.cities)\n",
    "        indexes = len(cities)      \n",
    "        for i in range(indexes):\n",
    "            name = name_city(i)\n",
    "            for j in range(indexes):\n",
    "                if (i !=j):  # ignore same indexes to not append distance from A to A and so on\n",
    "                    if name in self.routes:    \n",
    "                        self.routes[name].append((name_city(j),euclidean_distance(cities[i],cities[j]))) \n",
    "                    else:\n",
    "                        self.routes[name] = [(name_city(j),euclidean_distance(cities[i],cities[j]))]\n",
    "        return self.routes\n",
    "    \n",
    "    \n",
    "        \n",
    "            \n",
    "        \n",
    "        \n",
    "        \n",
    "        \n",
    "        \n",
    "           \n",
    "    \n",
    "    \n",
    "    \n",
    "    \n",
    "        \n",
    "        \n",
    "        "
   ]
  },
  {
   "cell_type": "code",
   "execution_count": 110,
   "metadata": {},
   "outputs": [
    {
     "data": {
      "text/plain": [
       "{'A': [('B', 77.3950902835574),\n",
       "  ('C', 75.90783885739337),\n",
       "  ('D', 62.52999280345393),\n",
       "  ('E', 85.70880934886448)],\n",
       " 'B': [('A', 77.3950902835574),\n",
       "  ('C', 125.29165973838802),\n",
       "  ('D', 97.6933979345585),\n",
       "  ('E', 159.0911688309568)],\n",
       " 'C': [('A', 75.90783885739337),\n",
       "  ('B', 125.29165973838802),\n",
       "  ('D', 132.62729734108285),\n",
       "  ('E', 119.96666203575059)],\n",
       " 'D': [('A', 62.52999280345393),\n",
       "  ('B', 97.6933979345585),\n",
       "  ('C', 132.62729734108285),\n",
       "  ('E', 89.05054744357274)],\n",
       " 'E': [('A', 85.70880934886448),\n",
       "  ('B', 159.0911688309568),\n",
       "  ('C', 119.96666203575059),\n",
       "  ('D', 89.05054744357274)]}"
      ]
     },
     "execution_count": 110,
     "metadata": {},
     "output_type": "execute_result"
    }
   ],
   "source": [
    "test = CitiesMap(5)\n",
    "test.create_routes()"
   ]
  },
  {
   "cell_type": "code",
   "execution_count": 46,
   "metadata": {},
   "outputs": [
    {
     "data": {
      "text/plain": [
       "25"
      ]
     },
     "execution_count": 46,
     "metadata": {},
     "output_type": "execute_result"
    }
   ],
   "source": [
    "ord ('z')-ord('a')"
   ]
  }
 ],
 "metadata": {
  "kernelspec": {
   "display_name": "Python 3",
   "language": "python",
   "name": "python3"
  },
  "language_info": {
   "codemirror_mode": {
    "name": "ipython",
    "version": 3
   },
   "file_extension": ".py",
   "mimetype": "text/x-python",
   "name": "python",
   "nbconvert_exporter": "python",
   "pygments_lexer": "ipython3",
   "version": "3.12.0"
  }
 },
 "nbformat": 4,
 "nbformat_minor": 2
}
