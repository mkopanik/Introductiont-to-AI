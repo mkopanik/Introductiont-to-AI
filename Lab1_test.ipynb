{
 "cells": [
  {
   "cell_type": "markdown",
   "metadata": {},
   "source": [
    "# Introduction to Artificial Intelligence\n",
    "Laboratory 1\n",
    "\n"
   ]
  },
  {
   "cell_type": "markdown",
   "metadata": {},
   "source": [
    "Exercise 1 Route searching \n",
    "1.\tCreate a set of cities (as points) with coordinates x, y on a plane with height as z coordinate. The cost of going from city A to city B is equal to the Euclidean distance between two cities, if there exists a road. You should define scenarios according to two criteria: \n",
    "a.\tThere are all the direct connections / c.a. 80% of possible connections\n",
    "b.\tThe problem is symmetrical / asymmetrical (in asymmetrical – going up is height +10%, going down: -10%)\n",
    "You should choose the coordinates randomly from the range <-100, 100> for x,y and <0, 50> for z.\n",
    "2.\tRepresent the created map as a weighted (directed) graph, where cities are the nodes and roads are the edges of the graph.\n",
    "3.\tIn the created scene, solve the traveling salesman problem: The salesman starts from a chosen city and has to visit every city exactly once before returning to the starting city. The goal is to find a path with the lowest cost.\n",
    "In the problem, we define state as a partial or full path from the starting city and the corresponding state. You should represent the search problem in a form of state tree.\n",
    "a.\tImplement a full search of the tree, using BFS and DFS methods.\n",
    "b.\tApproximate the solution using greedy search (NN and Dijkstra)\n",
    "c.\tSolve/approximate the solution using A* with inadmissible/admissible heuristics\n",
    "d.\tApproximate the solution using ACO algorithm\n",
    "4.\tTest each algorithm, in each scenario, for n=5…20 cities, in terms of the found path cost, time and memory consumption.\n"
   ]
  },
  {
   "cell_type": "code",
   "execution_count": 41,
   "metadata": {},
   "outputs": [],
   "source": [
    "def euclidean_distance(a,b)->float:  \n",
    "    \"\"\" \n",
    "    points as a tuple or list for example a = (1,2,3) , b = (4,5,6)\n",
    "    \"\"\"\n",
    "    import math\n",
    "    dimension = len(a)\n",
    "    if (dimension !=len(b)):\n",
    "        print(\"Dimension missmatch\")\n",
    "        return 0 \n",
    "    dist = 0\n",
    "    for i in range(dimension):\n",
    "        dist += math.pow(a[i]-b[i],2)\n",
    "    return math.sqrt(dist)\n",
    "    "
   ]
  },
  {
   "cell_type": "code",
   "execution_count": 94,
   "metadata": {},
   "outputs": [],
   "source": [
    "def name_city(ix):\n",
    "    name = []\n",
    "    index =  ix // 27\n",
    "    print(index)\n",
    "    for i in range(index+1,0,step = -1):\n",
    "        name.append(chr(ix % (i * 27)))\n",
    "        \n",
    "        \n",
    "    return ''.join(name)\n"
   ]
  },
  {
   "cell_type": "code",
   "execution_count": 95,
   "metadata": {},
   "outputs": [
    {
     "name": "stdout",
     "output_type": "stream",
     "text": [
      "0\n"
     ]
    },
    {
     "ename": "TypeError",
     "evalue": "range() takes no keyword arguments",
     "output_type": "error",
     "traceback": [
      "\u001b[0;31m---------------------------------------------------------------------------\u001b[0m",
      "\u001b[0;31mTypeError\u001b[0m                                 Traceback (most recent call last)",
      "Cell \u001b[0;32mIn[95], line 1\u001b[0m\n\u001b[0;32m----> 1\u001b[0m \u001b[43mname_city\u001b[49m\u001b[43m(\u001b[49m\u001b[38;5;241;43m20\u001b[39;49m\u001b[43m)\u001b[49m\n",
      "Cell \u001b[0;32mIn[94], line 5\u001b[0m, in \u001b[0;36mname_city\u001b[0;34m(ix)\u001b[0m\n\u001b[1;32m      3\u001b[0m index \u001b[38;5;241m=\u001b[39m  ix \u001b[38;5;241m/\u001b[39m\u001b[38;5;241m/\u001b[39m \u001b[38;5;241m27\u001b[39m\n\u001b[1;32m      4\u001b[0m \u001b[38;5;28mprint\u001b[39m(index)\n\u001b[0;32m----> 5\u001b[0m \u001b[38;5;28;01mfor\u001b[39;00m i \u001b[38;5;129;01min\u001b[39;00m \u001b[38;5;28;43mrange\u001b[39;49m\u001b[43m(\u001b[49m\u001b[43mindex\u001b[49m\u001b[38;5;241;43m+\u001b[39;49m\u001b[38;5;241;43m1\u001b[39;49m\u001b[43m,\u001b[49m\u001b[38;5;241;43m0\u001b[39;49m\u001b[43m,\u001b[49m\u001b[43mstep\u001b[49m\u001b[43m \u001b[49m\u001b[38;5;241;43m=\u001b[39;49m\u001b[43m \u001b[49m\u001b[38;5;241;43m-\u001b[39;49m\u001b[38;5;241;43m1\u001b[39;49m\u001b[43m)\u001b[49m:\n\u001b[1;32m      6\u001b[0m     name\u001b[38;5;241m.\u001b[39mappend(\u001b[38;5;28mchr\u001b[39m(ix \u001b[38;5;241m%\u001b[39m (i \u001b[38;5;241m*\u001b[39m \u001b[38;5;241m27\u001b[39m)))\n\u001b[1;32m      9\u001b[0m \u001b[38;5;28;01mreturn\u001b[39;00m \u001b[38;5;124m'\u001b[39m\u001b[38;5;124m'\u001b[39m\u001b[38;5;241m.\u001b[39mjoin(name)\n",
      "\u001b[0;31mTypeError\u001b[0m: range() takes no keyword arguments"
     ]
    }
   ],
   "source": [
    "name_city(20)\n"
   ]
  },
  {
   "cell_type": "code",
   "execution_count": 55,
   "metadata": {},
   "outputs": [
    {
     "ename": "IndexError",
     "evalue": "list assignment index out of range",
     "output_type": "error",
     "traceback": [
      "\u001b[0;31m---------------------------------------------------------------------------\u001b[0m",
      "\u001b[0;31mIndexError\u001b[0m                                Traceback (most recent call last)",
      "Cell \u001b[0;32mIn[55], line 1\u001b[0m\n\u001b[0;32m----> 1\u001b[0m \u001b[43mname_city\u001b[49m\u001b[43m(\u001b[49m\u001b[38;5;241;43m100\u001b[39;49m\u001b[43m)\u001b[49m\n",
      "Cell \u001b[0;32mIn[54], line 5\u001b[0m, in \u001b[0;36mname_city\u001b[0;34m(ix)\u001b[0m\n\u001b[1;32m      3\u001b[0m index \u001b[38;5;241m=\u001b[39m  ix \u001b[38;5;241m/\u001b[39m\u001b[38;5;241m/\u001b[39m \u001b[38;5;241m27\u001b[39m\n\u001b[1;32m      4\u001b[0m \u001b[38;5;28;01mfor\u001b[39;00m i \u001b[38;5;129;01min\u001b[39;00m \u001b[38;5;28mrange\u001b[39m(index\u001b[38;5;241m+\u001b[39m\u001b[38;5;241m1\u001b[39m):\n\u001b[0;32m----> 5\u001b[0m     \u001b[43mname\u001b[49m\u001b[43m[\u001b[49m\u001b[43mi\u001b[49m\u001b[43m]\u001b[49m \u001b[38;5;241m=\u001b[39m \u001b[38;5;241m65\u001b[39m \u001b[38;5;241m+\u001b[39m (i \u001b[38;5;241m+\u001b[39m index \u001b[38;5;241m*\u001b[39m i) \u001b[38;5;241m%\u001b[39m \u001b[38;5;241m27\u001b[39m\n\u001b[1;32m      6\u001b[0m \u001b[38;5;28;01mreturn\u001b[39;00m \u001b[38;5;124m'\u001b[39m\u001b[38;5;124m'\u001b[39m\u001b[38;5;241m.\u001b[39mjoin(name)\n",
      "\u001b[0;31mIndexError\u001b[0m: list assignment index out of range"
     ]
    }
   ],
   "source": [
    "name_city(100)\n"
   ]
  },
  {
   "cell_type": "code",
   "execution_count": 43,
   "metadata": {},
   "outputs": [
    {
     "data": {
      "text/plain": [
       "4.0"
      ]
     },
     "execution_count": 43,
     "metadata": {},
     "output_type": "execute_result"
    }
   ],
   "source": [
    "euclidean_distance((0,0,0),(0,0,4))"
   ]
  },
  {
   "cell_type": "code",
   "execution_count": 39,
   "metadata": {},
   "outputs": [],
   "source": [
    "class CitiesMap():\n",
    "    def __init__(self,n):\n",
    "        \"\"\"\n",
    "        initialize with number of cities to include in graph \n",
    "        \"\"\"    \n",
    "        import random\n",
    "        self.cities = []\n",
    "        self.routes = dict()\n",
    "        for i in range(n):\n",
    "            self.cities.append((random.randint(-101,101),random.randint(-101,101),random.randint(-51,51)))\n",
    "\n",
    "        # now let's make sure that we don't have duplicated cities so we'll get derired number of unique cities\n",
    "        \n",
    "        len_check = len(set(self.cities))\n",
    "        \n",
    "        while (len_check != n):\n",
    "            self.cities.append((random.randint(-101,101),random.randint(-101,101),random.randint(-51,51)))\n",
    "            len_check = len(set(self.cities))\n",
    "        self.cities = set(self.cities)\n",
    "        \n",
    "\n",
    "        \n",
    "    def create_routes(self):\n",
    "        \"\"\"Name cities in Excel convention starting from A after Z going to AA then AAA and so on \n",
    "            Then calculating distances.\n",
    "        \"\"\"\n",
    "        # for now example with connections to every city\n",
    "        cities = list(self.cities)\n",
    "        indexes = len(cities)\n",
    "        for i in range(indexes):\n",
    "            name = ord(i + 65)\n",
    "            for j in range(indexes):\n",
    "                cities.routes[name] = ord(j+65),euclidean_distance(cities[i],cities[j])  # calc\n",
    "                \n",
    "\n",
    "            \n",
    "        \n",
    "        \n",
    "        \n",
    "        \n",
    "        \n",
    "           \n",
    "    \n",
    "    \n",
    "    \n",
    "    \n",
    "        \n",
    "        \n",
    "        "
   ]
  },
  {
   "cell_type": "code",
   "execution_count": 40,
   "metadata": {},
   "outputs": [
    {
     "name": "stdout",
     "output_type": "stream",
     "text": [
      "{(46, 57, -5), (56, -20, -31), (27, -77, 22), (29, 39, 25), (-28, 82, 30)}\n"
     ]
    },
    {
     "data": {
      "text/plain": [
       "<__main__.CitiesMap at 0x128d1e6f0>"
      ]
     },
     "execution_count": 40,
     "metadata": {},
     "output_type": "execute_result"
    }
   ],
   "source": [
    "test = CitiesMap(5)\n",
    "test"
   ]
  },
  {
   "cell_type": "code",
   "execution_count": 46,
   "metadata": {},
   "outputs": [
    {
     "data": {
      "text/plain": [
       "25"
      ]
     },
     "execution_count": 46,
     "metadata": {},
     "output_type": "execute_result"
    }
   ],
   "source": [
    "ord ('z')-ord('a')"
   ]
  }
 ],
 "metadata": {
  "kernelspec": {
   "display_name": "Python 3",
   "language": "python",
   "name": "python3"
  },
  "language_info": {
   "codemirror_mode": {
    "name": "ipython",
    "version": 3
   },
   "file_extension": ".py",
   "mimetype": "text/x-python",
   "name": "python",
   "nbconvert_exporter": "python",
   "pygments_lexer": "ipython3",
   "version": "3.12.2"
  }
 },
 "nbformat": 4,
 "nbformat_minor": 2
}
