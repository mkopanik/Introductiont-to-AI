{
 "cells": [
  {
   "cell_type": "markdown",
   "metadata": {},
   "source": [
    "Exercise 1 Simple neural network\n",
    "Implement a simple neural network that predicts the class of iris plant basing on its parameters. \n",
    "Use 2 hidden layers. The layers should be fully connected with RELu activation function, except for the output layer, which should use softmax function.\n",
    " No regularisation or optimalisation are needed. No batching is needed. \n"
   ]
  },
  {
   "cell_type": "code",
   "execution_count": 38,
   "metadata": {},
   "outputs": [],
   "source": [
    "import numpy as np\n",
    "from sklearn import datasets\n",
    "from sklearn.model_selection import train_test_split\n",
    "iris = datasets.load_iris()\n"
   ]
  },
  {
   "cell_type": "code",
   "execution_count": 39,
   "metadata": {},
   "outputs": [
    {
     "name": "stdout",
     "output_type": "stream",
     "text": [
      ".. _iris_dataset:\n",
      "\n",
      "Iris plants dataset\n",
      "--------------------\n",
      "\n",
      "**Data Set Characteristics:**\n",
      "\n",
      ":Number of Instances: 150 (50 in each of three classes)\n",
      ":Number of Attributes: 4 numeric, predictive attributes and the class\n",
      ":Attribute Information:\n",
      "    - sepal length in cm\n",
      "    - sepal width in cm\n",
      "    - petal length in cm\n",
      "    - petal width in cm\n",
      "    - class:\n",
      "            - Iris-Setosa\n",
      "            - Iris-Versicolour\n",
      "            - Iris-Virginica\n",
      "\n",
      ":Summary Statistics:\n",
      "\n",
      "============== ==== ==== ======= ===== ====================\n",
      "                Min  Max   Mean    SD   Class Correlation\n",
      "============== ==== ==== ======= ===== ====================\n",
      "sepal length:   4.3  7.9   5.84   0.83    0.7826\n",
      "sepal width:    2.0  4.4   3.05   0.43   -0.4194\n",
      "petal length:   1.0  6.9   3.76   1.76    0.9490  (high!)\n",
      "petal width:    0.1  2.5   1.20   0.76    0.9565  (high!)\n",
      "============== ==== ==== ======= ===== ====================\n",
      "\n",
      ":Missing Attribute Values: None\n",
      ":Class Distribution: 33.3% for each of 3 classes.\n",
      ":Creator: R.A. Fisher\n",
      ":Donor: Michael Marshall (MARSHALL%PLU@io.arc.nasa.gov)\n",
      ":Date: July, 1988\n",
      "\n",
      "The famous Iris database, first used by Sir R.A. Fisher. The dataset is taken\n",
      "from Fisher's paper. Note that it's the same as in R, but not as in the UCI\n",
      "Machine Learning Repository, which has two wrong data points.\n",
      "\n",
      "This is perhaps the best known database to be found in the\n",
      "pattern recognition literature.  Fisher's paper is a classic in the field and\n",
      "is referenced frequently to this day.  (See Duda & Hart, for example.)  The\n",
      "data set contains 3 classes of 50 instances each, where each class refers to a\n",
      "type of iris plant.  One class is linearly separable from the other 2; the\n",
      "latter are NOT linearly separable from each other.\n",
      "\n",
      "|details-start|\n",
      "**References**\n",
      "|details-split|\n",
      "\n",
      "- Fisher, R.A. \"The use of multiple measurements in taxonomic problems\"\n",
      "  Annual Eugenics, 7, Part II, 179-188 (1936); also in \"Contributions to\n",
      "  Mathematical Statistics\" (John Wiley, NY, 1950).\n",
      "- Duda, R.O., & Hart, P.E. (1973) Pattern Classification and Scene Analysis.\n",
      "  (Q327.D83) John Wiley & Sons.  ISBN 0-471-22361-1.  See page 218.\n",
      "- Dasarathy, B.V. (1980) \"Nosing Around the Neighborhood: A New System\n",
      "  Structure and Classification Rule for Recognition in Partially Exposed\n",
      "  Environments\".  IEEE Transactions on Pattern Analysis and Machine\n",
      "  Intelligence, Vol. PAMI-2, No. 1, 67-71.\n",
      "- Gates, G.W. (1972) \"The Reduced Nearest Neighbor Rule\".  IEEE Transactions\n",
      "  on Information Theory, May 1972, 431-433.\n",
      "- See also: 1988 MLC Proceedings, 54-64.  Cheeseman et al\"s AUTOCLASS II\n",
      "  conceptual clustering system finds 3 classes in the data.\n",
      "- Many, many more ...\n",
      "\n",
      "|details-end|\n",
      "\n"
     ]
    }
   ],
   "source": [
    "print(iris.DESCR)\n"
   ]
  },
  {
   "cell_type": "code",
   "execution_count": 40,
   "metadata": {},
   "outputs": [],
   "source": [
    "X = iris.data\n",
    "y = iris.target"
   ]
  },
  {
   "cell_type": "code",
   "execution_count": 32,
   "metadata": {},
   "outputs": [
    {
     "data": {
      "text/plain": [
       "(150, 4)"
      ]
     },
     "execution_count": 32,
     "metadata": {},
     "output_type": "execute_result"
    }
   ],
   "source": [
    "X.shape"
   ]
  },
  {
   "cell_type": "code",
   "execution_count": 41,
   "metadata": {},
   "outputs": [],
   "source": [
    "X_train , X_test , y_train, y_test = train_test_split(X,y , test_size=0.25 , random_state=42,shuffle=True)\n",
    "train_labels = np.eye(3)[y] # one hot encoding 3 type of flowers  # full set \n"
   ]
  },
  {
   "cell_type": "code",
   "execution_count": 24,
   "metadata": {},
   "outputs": [],
   "source": [
    "class Neuron():\n",
    "    def __init__(self,in_features,out_features):\n",
    "        self.weights = np.random.uniform(low = - ((1 / in_features)**0.5) ,high= (1 / in_features)**0.5 , size = (in_features,out_features))    # as in PyTorch\n",
    "        self.bias = np.random.uniform(low = - ((1 / in_features)**0.5) ,high= (1 / in_features)**0.5 , size = (1,out_features))\n",
    "        \n",
    "    \n",
    "    \n",
    "\n",
    "\n",
    "    "
   ]
  },
  {
   "cell_type": "code",
   "execution_count": 77,
   "metadata": {},
   "outputs": [],
   "source": [
    "def hidden_unit(X , in_features, out_features):\n",
    "    weights = np.random.uniform(low = - ((1 / in_features)**0.5) ,high= (1 / in_features)**0.5 , size = (in_features,out_features))    # as in PyTorch\n",
    "    bias = np.random.uniform(low = - ((1 / in_features)**0.5) ,high= (1 / in_features)**0.5 , size = (1,out_features))\n",
    "    \n",
    "    return X @ weights + bias\n",
    "\n",
    "def Relu_forward(X):\n",
    "    return np.maximum(X,0)\n",
    "\n",
    "def Relu_derivative(X):\n",
    "    # basicly kill gradient if <=0\n",
    "    X[X<=0] = 0\n",
    "    # X[X>0] = 1\n",
    "    return X\n",
    "\n",
    "def Softmax_forward(X):\n",
    "    X_exp = np.exp(X)\n",
    "    row_sum = np.sum(X_exp,axis=1,keepdims=True)\n",
    "    return X_exp/row_sum  \n",
    "def Logloss(X,labels):\n",
    "    # matrix after softmax \n",
    "    return -np.mean(labels * np.log(X))\n",
    "\n",
    "def CrossEntropyBackward(Softmax_output,labels):\n",
    "    # combining log loss and soft max gives nice derivative \n",
    "    # X is output of softmax and labels are true labels\n",
    "    return Softmax_output - labels     \n",
    "\n",
    "\n"
   ]
  },
  {
   "cell_type": "markdown",
   "metadata": {},
   "source": [
    "http://neuralnetworksanddeeplearning.com/chap2.html\n"
   ]
  },
  {
   "cell_type": "code",
   "execution_count": 100,
   "metadata": {},
   "outputs": [],
   "source": [
    "\n",
    "\n",
    "# initializing neurons for layers\n",
    "N_1 = Neuron(4,10)\n",
    "N_2 = Neuron(10,10)\n",
    "N_3 = Neuron(10,3)\n",
    "\n",
    "X_1 = np.dot(X,N_1.weights)\n",
    "A_1 = Relu_forward(X_1)\n",
    "\n",
    "X_2 = np.dot(A_1,N_2.weights)\n",
    "A_2 = Relu_forward(X_2)\n",
    "\n",
    "X_3 = np.dot(A_2,N_3.weights)\n",
    "A_3 = Softmax_forward(X_3)\n",
    "loss = Logloss(A_3, train_labels)\n",
    "\n",
    "\n",
    "N_3_error = A_3 - train_labels\n",
    "N_3_weight_grad = np.dot(N_3_error.T,Relu_derivative(X_3))  # A_3 to co wpada do funckji aktywacji \n",
    "N_3_bias_grad = np.mean(N_3_error,axis=1,keepdims=True)\n",
    "\n",
    "N_2_error = ((N_3.weights.T))\n",
    "# N_2_weight_grad = np.dot(N_2_error,A_1)\n",
    "# N_2_bias_grad = N_2_error\n",
    "\n",
    "# N_1_error = \n",
    "# N_1_weight_grad = np.dot(N_1_error,X)\n",
    "# N_1_bias_grad = N_1_error\n",
    "\n"
   ]
  },
  {
   "cell_type": "code",
   "execution_count": 101,
   "metadata": {},
   "outputs": [
    {
     "data": {
      "text/plain": [
       "(150, 3)"
      ]
     },
     "execution_count": 101,
     "metadata": {},
     "output_type": "execute_result"
    }
   ],
   "source": [
    "X_3.shape"
   ]
  },
  {
   "cell_type": "code",
   "execution_count": 97,
   "metadata": {},
   "outputs": [
    {
     "data": {
      "text/plain": [
       "array([[ 0.74497782,  0.75015403,  0.24975072],\n",
       "       [-2.90621919, -2.40287636, -2.84332313],\n",
       "       [ 2.16124137,  1.65272232,  2.5935724 ]])"
      ]
     },
     "execution_count": 97,
     "metadata": {},
     "output_type": "execute_result"
    }
   ],
   "source": [
    "N_3_weight_grad"
   ]
  },
  {
   "cell_type": "code",
   "execution_count": 92,
   "metadata": {},
   "outputs": [
    {
     "data": {
      "text/plain": [
       "(150, 1)"
      ]
     },
     "execution_count": 92,
     "metadata": {},
     "output_type": "execute_result"
    }
   ],
   "source": [
    "np.mean(N_3_bias_grad,axis=1,keepdims=True)"
   ]
  },
  {
   "cell_type": "code",
   "execution_count": 87,
   "metadata": {},
   "outputs": [
    {
     "data": {
      "text/plain": [
       "(150, 3)"
      ]
     },
     "execution_count": 87,
     "metadata": {},
     "output_type": "execute_result"
    }
   ],
   "source": [
    "Relu_derivative(A_3).shape"
   ]
  },
  {
   "cell_type": "code",
   "execution_count": 81,
   "metadata": {},
   "outputs": [
    {
     "data": {
      "text/plain": [
       "(150, 3)"
      ]
     },
     "execution_count": 81,
     "metadata": {},
     "output_type": "execute_result"
    }
   ],
   "source": [
    "N_3_error.shape"
   ]
  },
  {
   "cell_type": "code",
   "execution_count": null,
   "metadata": {},
   "outputs": [
    {
     "ename": "ValueError",
     "evalue": "operands could not be broadcast together with shapes (4,10) (4,3) (4,10) ",
     "output_type": "error",
     "traceback": [
      "\u001b[1;31m---------------------------------------------------------------------------\u001b[0m",
      "\u001b[1;31mValueError\u001b[0m                                Traceback (most recent call last)",
      "Cell \u001b[1;32mIn[26], line 49\u001b[0m\n\u001b[0;32m     42\u001b[0m Z_1_bias \u001b[38;5;241m=\u001b[39m np\u001b[38;5;241m.\u001b[39mmean(Z_1_relu , axis \u001b[38;5;241m=\u001b[39m \u001b[38;5;241m1\u001b[39m)             \u001b[38;5;66;03m# gradient for X_1 bias\u001b[39;00m\n\u001b[0;32m     45\u001b[0m \u001b[38;5;66;03m# gradients applied in this form will reset every loop \u001b[39;00m\n\u001b[0;32m     46\u001b[0m \u001b[38;5;66;03m# for now let's hardcode learning rate to 0.01 so we need to update in reverse gradient direction \u001b[39;00m\n\u001b[1;32m---> 49\u001b[0m \u001b[43mN_1\u001b[49m\u001b[38;5;241;43m.\u001b[39;49m\u001b[43mweights\u001b[49m\u001b[43m \u001b[49m\u001b[38;5;241;43m-\u001b[39;49m\u001b[38;5;241;43m=\u001b[39;49m\u001b[43m \u001b[49m\u001b[38;5;241;43m0.01\u001b[39;49m\u001b[43m \u001b[49m\u001b[38;5;241;43m*\u001b[39;49m\u001b[43m \u001b[49m\u001b[43mZ_1_weights\u001b[49m\n\u001b[0;32m     50\u001b[0m N_1\u001b[38;5;241m.\u001b[39mbias \u001b[38;5;241m-\u001b[39m\u001b[38;5;241m=\u001b[39m \u001b[38;5;241m0.01\u001b[39m \u001b[38;5;241m*\u001b[39m Z_1_bias\n\u001b[0;32m     52\u001b[0m N_2\u001b[38;5;241m.\u001b[39mweights \u001b[38;5;241m-\u001b[39m\u001b[38;5;241m=\u001b[39m \u001b[38;5;241m0.01\u001b[39m \u001b[38;5;241m*\u001b[39m Z_2_weights\n",
      "\u001b[1;31mValueError\u001b[0m: operands could not be broadcast together with shapes (4,10) (4,3) (4,10) "
     ]
    }
   ],
   "source": [
    "\n",
    "\n",
    "# initializing neurons for layers\n",
    "N_1 = Neuron(4,10)\n",
    "N_2 = Neuron(10,10)\n",
    "N_3 = Neuron(10,3)\n",
    "for step in range(10):\n",
    "    # forward pary\n",
    "    # 1st layer\n",
    "    X_1 = N_1.forward(X)\n",
    "    X_1_Relu = Relu_forward(X_1)\n",
    "\n",
    "\n",
    "    # 2nd layer\n",
    "    X_2 = N_2.forward(X_1_Relu)\n",
    "    X_2 = Relu_forward(X_2)\n",
    "\n",
    "\n",
    "    # final layer\n",
    "    X_3 = N_3.forward(X_2)\n",
    "\n",
    "    X_softmax = Softmax_forward(X_3)\n",
    "\n",
    "    loss = Logloss(X_softmax, train_labels)\n",
    "\n",
    "    # now backward part\n",
    "\n",
    "    Z_softmax = CrossEntropyBackward(X_softmax,train_labels)\n",
    "\n",
    "    Z_3_weigths = X_2.T @ Z_softmax    # weights for final layer\n",
    "    Z_3_bias = np.mean(Z_softmax , axis=1)           # + just plug forward gradient from previous layer  and calculate mean by rows \n",
    "\n",
    "    # we have relu implemented correctly for chain rule so we just now apply \n",
    "\n",
    "    Z_3_input = Z_softmax @ Z_3_weigths.T\n",
    "        \n",
    "    Z_2_relu = Relu_backward(Z_3_weigths)\n",
    "\n",
    "    Z_2_weights = X_1_Relu @ Z_2_relu   # gradient for X_1 bias\n",
    "\n",
    "    Z_2_bias = np.mean(Z_2_relu , axis=1)           # gradient for X_2 bias\n",
    "\n",
    "    Z_1_relu = Relu_backward(Z_2_weights)\n",
    "\n",
    "    Z_1_weights = X.T @ Z_1_relu    # gradient for X_1 weights\n",
    "    Z_1_bias = np.mean(Z_1_relu , axis = 1)             # gradient for X_1 bias\n",
    "\n",
    "\n",
    "    # gradients applied in this form will reset every loop \n",
    "    # for now let's hardcode learning rate to 0.01 so we need to update in reverse gradient direction \n",
    "\n",
    "\n",
    "    N_1.weights -= 0.01 * Z_1_weights\n",
    "    N_1.bias -= 0.01 * Z_1_bias\n",
    "\n",
    "    N_2.weights -= 0.01 * Z_2_weights\n",
    "    N_2.bias -= 0.01 * Z_2_bias\n",
    "\n",
    "    N_3.weights -= 0.01 * Z_3_weigths\n",
    "    N_3.bias -= 0.01 * Z_3_bias\n",
    "\n",
    "\n",
    "    print(f\"Step: {step}, loss value: {loss}\")\n",
    "\n",
    "\n",
    "        \n",
    "        "
   ]
  }
 ],
 "metadata": {
  "kernelspec": {
   "display_name": "Python 3",
   "language": "python",
   "name": "python3"
  },
  "language_info": {
   "codemirror_mode": {
    "name": "ipython",
    "version": 3
   },
   "file_extension": ".py",
   "mimetype": "text/x-python",
   "name": "python",
   "nbconvert_exporter": "python",
   "pygments_lexer": "ipython3",
   "version": "3.12.0"
  }
 },
 "nbformat": 4,
 "nbformat_minor": 2
}
