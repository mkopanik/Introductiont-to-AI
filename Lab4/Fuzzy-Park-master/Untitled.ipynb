{
 "cells": [
  {
   "cell_type": "code",
   "execution_count": 2,
   "id": "1c352acd",
   "metadata": {},
   "outputs": [
    {
     "name": "stdout",
     "output_type": "stream",
     "text": [
      "Not connected to remote API server\n"
     ]
    },
    {
     "ename": "SystemExit",
     "evalue": "Could not connect",
     "output_type": "error",
     "traceback": [
      "An exception has occurred, use %tb to see the full traceback.\n",
      "\u001b[1;31mSystemExit\u001b[0m\u001b[1;31m:\u001b[0m Could not connect\n"
     ]
    }
   ],
   "source": [
    "from utils.control import run_with_controller\n",
    "from park import PerpParkController, ParaParkController\n",
    "\n",
    "\n",
    "if __name__ == '__main__':\n",
    "    # run_with_controller(PerpParkController)\n",
    "    run_with_controller(ParaParkController)"
   ]
  },
  {
   "cell_type": "code",
   "execution_count": null,
   "id": "b4325b36",
   "metadata": {},
   "outputs": [],
   "source": []
  }
 ],
 "metadata": {
  "kernelspec": {
   "display_name": "Python 3 (ipykernel)",
   "language": "python",
   "name": "python3"
  },
  "language_info": {
   "codemirror_mode": {
    "name": "ipython",
    "version": 3
   },
   "file_extension": ".py",
   "mimetype": "text/x-python",
   "name": "python",
   "nbconvert_exporter": "python",
   "pygments_lexer": "ipython3",
   "version": "3.11.1"
  }
 },
 "nbformat": 4,
 "nbformat_minor": 5
}
