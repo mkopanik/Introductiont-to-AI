{
 "cells": [
  {
   "cell_type": "code",
   "execution_count": 1,
   "metadata": {},
   "outputs": [],
   "source": [
    "import vrep \n",
    "import sys\n",
    "import time \n",
    "import numpy as np\n",
    "import skfuzzy as fuzz\n",
    "from skfuzzy import control as ctrl\n",
    "\n",
    "from tank import *"
   ]
  },
  {
   "cell_type": "code",
   "execution_count": null,
   "metadata": {},
   "outputs": [
    {
     "name": "stdout",
     "output_type": "stream",
     "text": [
      "Connected to remote API server\n"
     ]
    }
   ],
   "source": [
    "vrep.simxFinish(-1) # closes all opened connections, in case any prevoius wasnt finished\n",
    "clientID=vrep.simxStart('127.0.0.1',19999,True,True,5000,5) # start a connection\n",
    "\n",
    "if clientID!=-1:\n",
    "    print (\"Connected to remote API server\")\n",
    "else:\n",
    "    print(\"Not connected to remote API server\")\n",
    "    sys.exit(\"Could not connect\")\n",
    "\n",
    "#create instance of Tank\n",
    "tank=Tank(clientID)"
   ]
  },
  {
   "cell_type": "code",
   "execution_count": 23,
   "metadata": {},
   "outputs": [],
   "source": [
    "proximity_sensors=[\"EN\",\"ES\",\"NE\",\"NW\",\"SE\",\"SW\",\"WN\",\"WS\"]\n",
    "proximity_sensors_handles=[0]*8\n",
    "\n",
    "# get handle to proximity sensors\n",
    "for i in range(len(proximity_sensors)):\n",
    "    err_code,proximity_sensors_handles[i] = vrep.simxGetObjectHandle(clientID,\"Proximity_sensor_\"+proximity_sensors[i], vrep.simx_opmode_blocking)\n",
    "    \n",
    "#read and print values from proximity sensors\n",
    "#first reading should be done with simx_opmode_streaming, further with simx_opmode_buffer parameter\n",
    "for sensor_name, sensor_handle in zip(proximity_sensors,proximity_sensors_handles):\n",
    "        err_code,detectionState,detectedPoint,detectedObjectHandle,detectedSurfaceNormalVector=vrep.simxReadProximitySensor(clientID,sensor_handle,vrep.simx_opmode_streaming)"
   ]
  },
  {
   "cell_type": "code",
   "execution_count": 24,
   "metadata": {},
   "outputs": [],
   "source": [
    "# tank.forward(5)\n",
    "\n",
    "# #continue reading and printing values from proximity sensors\n",
    "# t = time.time()\n",
    "# counter = 0\n",
    "# while (time.time()-t)<15: # read values for 5 seconds\n",
    "#     counter +=1\n",
    "\n",
    "#     for sensor_name, sensor_handle in zip(proximity_sensors,proximity_sensors_handles):\n",
    "#         err_code,detectionState,detectedPoint,detectedObjectHandle,detectedSurfaceNormalVector=vrep.simxReadProximitySensor(clientID,sensor_handle,vrep.simx_opmode_buffer )\n",
    "#         if(err_code == 0):\n",
    "#             if counter % 5000 == 0:\n",
    "#                 print(\"Proximity_sensor_\"+sensor_name, np.linalg.norm(detectedPoint))\n",
    "#                 print()\n",
    "#     # print()\n",
    "    \n",
    "# tank.stop()"
   ]
  },
  {
   "cell_type": "code",
   "execution_count": 25,
   "metadata": {},
   "outputs": [],
   "source": [
    "# tank.forward(5)\n"
   ]
  },
  {
   "cell_type": "code",
   "execution_count": 26,
   "metadata": {},
   "outputs": [],
   "source": [
    "# tank.turn_right()"
   ]
  },
  {
   "cell_type": "code",
   "execution_count": 27,
   "metadata": {},
   "outputs": [],
   "source": [
    "\n",
    "    # \n",
    "# tank.stop()"
   ]
  },
  {
   "cell_type": "code",
   "execution_count": 28,
   "metadata": {},
   "outputs": [],
   "source": [
    "def search_for_para_place(search_time = 10):\n",
    "    tank.forward(5)\n",
    "    t = time.time()\n",
    "    # condition = True\n",
    "    values = []\n",
    "    while True:\n",
    "        \n",
    "        condition = True\n",
    "        if (time.time()-t)>search_time:\n",
    "            tank.stop()\n",
    "            print(\"Didn't found parking spot \")\n",
    "            return 0\n",
    "        important_list = ['EN',\"ES\",\"NE\",\"SE\"]\n",
    "        values = []\n",
    "        for sensor_name, sensor_handle in zip(proximity_sensors,proximity_sensors_handles):\n",
    "            \n",
    "            if sensor_name in important_list:\n",
    "                \n",
    "                err_code,detectionState,detectedPoint,detectedObjectHandle,detectedSurfaceNormalVector=vrep.simxReadProximitySensor(clientID,sensor_handle,vrep.simx_opmode_buffer )\n",
    "                if(err_code == 0):\n",
    "                    values.append(np.linalg.norm(detectedPoint))\n",
    "        if len(values) == 4:\n",
    "            \n",
    "            for value in values:\n",
    "                if ((value<1.3)|(value>1.85)):   # if any condition not in range we will be out of range\n",
    "                    condition = False\n",
    "\n",
    "            # if we reached that point that means that all value are in defined range = we found parking spot\n",
    "            \n",
    "            if condition:\n",
    "                tank.stop()\n",
    "                print(\"Found parking spot\")\n",
    "                return 1 \n",
    "    \n",
    "\n",
    "                \n",
    "                    \n",
    "                        "
   ]
  },
  {
   "cell_type": "code",
   "execution_count": 29,
   "metadata": {},
   "outputs": [],
   "source": [
    "# search_for_para_place()"
   ]
  },
  {
   "cell_type": "code",
   "execution_count": 30,
   "metadata": {},
   "outputs": [],
   "source": [
    "# now after we found parking spot, we need to position out tank correctly.\n",
    "# to do that we will focus on SE sensor that should represent distance from 'car behind'\n",
    "# around 3 we want tank to stop \n",
    "def prepare_parking_logic():\n",
    "    # for now let's ignore spped \n",
    "    \n",
    "    # rules\n",
    "    in_se = ctrl.Antecedent(np.arange(1.3,3.5,0.05),'in_se')\n",
    "    out_velo = ctrl.Consequent(np.arange(0,5.1,0.1),'out_velo')\n",
    "    out_velo.defuzzify_method = 'centroid'\n",
    "    in_se['low'] = fuzz.trimf(in_se.universe,[1.3,1.3,2.2])\n",
    "    in_se['medium'] = fuzz.trimf(in_se.universe,[1.3,2.2,3.5])\n",
    "    in_se['high'] = fuzz.trimf(in_se.universe,[2.2,3.5,3.5])\n",
    "    out_velo['low'] = fuzz.trimf(out_velo.universe,[0,0,2.1])\n",
    "\n",
    "    out_velo['medium'] = fuzz.trimf(out_velo.universe,[0,2.1,2.5])\n",
    "\n",
    "    out_velo['high'] = fuzz.trimf(out_velo.universe,[2.5,5,5])\n",
    "    \n",
    "    acc_rule = ctrl.Rule(antecedent= in_se['low'] ,consequent = out_velo['high'])\n",
    "\n",
    "    rul0 = ctrl.Rule(antecedent=(in_se['medium'] ),consequent=out_velo['medium'])\n",
    "\n",
    "    dec_rule = ctrl.Rule(antecedent=in_se['high'],consequent=out_velo['low'])\n",
    "    speed_ctrl = ctrl.ControlSystem([dec_rule,acc_rule,rul0])\n",
    "    velo_updater = ctrl.ControlSystemSimulation(speed_ctrl)\n",
    "    \n",
    "    \n",
    "    \n",
    "    \n",
    "    return velo_updater"
   ]
  },
  {
   "cell_type": "code",
   "execution_count": 31,
   "metadata": {},
   "outputs": [],
   "source": [
    "step1 = prepare_parking_logic()"
   ]
  },
  {
   "cell_type": "code",
   "execution_count": 32,
   "metadata": {},
   "outputs": [],
   "source": [
    "def prepare_parking(step1 = step1):\n",
    "    sensor = \"SE\"\n",
    "    counter = 0\n",
    "    keep_track_of_previous_value = 0\n",
    "    while True:\n",
    "        \n",
    "        for sensor_name, sensor_handle in zip(proximity_sensors,proximity_sensors_handles):\n",
    "            if sensor_name ==sensor:\n",
    "                err_code,detectionState,detectedPoint,detectedObjectHandle,detectedSurfaceNormalVector=vrep.simxReadProximitySensor(clientID,sensor_handle,vrep.simx_opmode_buffer )\n",
    "                \n",
    "                if(err_code == 0): \n",
    "                    distance_data = np.linalg.norm(detectedPoint)\n",
    "                    if distance_data > keep_track_of_previous_value:  \n",
    "                        # sensor czasami zaczyna zwracać irracjonalnie niskie wartości, pomimo że na symulacji widac, ze jeszcze nie łapie kolejnego auta więc spodziewamy się co raz większych odległości\n",
    "                        counter +=1\n",
    "                        step1.input['in_se'] = distance_data\n",
    "                        step1.compute()\n",
    "                        tank.forward(step1.output['out_velo'])\n",
    "                        keep_track_of_previous_value = distance_data\n",
    "                        if counter % 10 == 0:\n",
    "                            print(\"Proximity_sensor\",distance_data,\"Velocity\",tank.rightvelocity)\n",
    "                        \n",
    "        if tank.rightvelocity < 0.95:\n",
    "            print(\"Velocity below 0.95 stoping the tank; Tank prepared to begin parking\")\n",
    "            tank.stop()\n",
    "            return 1\n",
    "                        \n",
    "                        \n",
    "                    "
   ]
  },
  {
   "cell_type": "code",
   "execution_count": 33,
   "metadata": {},
   "outputs": [],
   "source": [
    "def rotate_tank():\n",
    "    sensor = 'NE'\n",
    "    tank.backward(1)\n",
    "    tank.turn_left()\n",
    "    t = time.time()\n",
    "    while True:\n",
    "        \n",
    "        for sensor_name, sensor_handle in zip(proximity_sensors,proximity_sensors_handles):\n",
    "            if sensor_name == sensor:\n",
    "                err_code,detectionState,detectedPoint,detectedObjectHandle,detectedSurfaceNormalVector=vrep.simxReadProximitySensor(clientID,sensor_handle,vrep.simx_opmode_buffer )\n",
    "                \n",
    "                if(err_code == 0): \n",
    "                    distance_data = np.linalg.norm(detectedPoint)\n",
    "                    # print(distance_data)\n",
    "                    if time.time() - t >2.85:\n",
    "                        tank.stop()\n",
    "                        return 1\n",
    "                        "
   ]
  },
  {
   "cell_type": "code",
   "execution_count": 34,
   "metadata": {},
   "outputs": [],
   "source": [
    "\n",
    "def prepare_backing_logic():\n",
    "    # for now let's ignore spped \n",
    "    \n",
    "    # rules\n",
    "    in_sw = ctrl.Antecedent(np.arange(1.0,3,0.05),'in_sw')\n",
    "    out_velo = ctrl.Consequent(np.arange(0,1,0.01),'out_velo')\n",
    "    out_velo.defuzzify_method = 'centroid'\n",
    "    in_sw['low'] = fuzz.trimf(in_sw.universe,[1.0,1.0,1.6])\n",
    "    in_sw['medium'] = fuzz.trimf(in_sw.universe,[1.6,2.2,3])\n",
    "    in_sw['high'] = fuzz.trimf(in_sw.universe,[2.2,3,3])\n",
    "    out_velo['low'] = fuzz.trimf(out_velo.universe,[0,0,0.4])\n",
    "\n",
    "    out_velo['medium'] = fuzz.trimf(out_velo.universe,[0,0.4,0.7])\n",
    "\n",
    "    out_velo['high'] = fuzz.trimf(out_velo.universe,[0.7,1,1])\n",
    "    \n",
    "    acc_rule = ctrl.Rule(antecedent= in_sw['low'] ,consequent = out_velo['low'])\n",
    "\n",
    "    rul0 = ctrl.Rule(antecedent=(in_sw['medium'] ),consequent=out_velo['medium'])\n",
    "\n",
    "    dec_rule = ctrl.Rule(antecedent=in_sw['high'],consequent=out_velo['high'])\n",
    "    speed_ctrl = ctrl.ControlSystem([dec_rule,acc_rule,rul0])\n",
    "    velo_updater = ctrl.ControlSystemSimulation(speed_ctrl)\n",
    "    \n",
    "    \n",
    "    \n",
    "    \n",
    "    return velo_updater"
   ]
  },
  {
   "cell_type": "code",
   "execution_count": 35,
   "metadata": {},
   "outputs": [],
   "source": [
    "step2= prepare_backing_logic()"
   ]
  },
  {
   "cell_type": "code",
   "execution_count": 36,
   "metadata": {},
   "outputs": [],
   "source": [
    "def go_back(step1 = step2):\n",
    "    sensor = \"SE\"\n",
    "    tank.stop()\n",
    "    tank.backward(0)\n",
    "    tank.backward(3.3)\n",
    "    t = time.time()\n",
    "    while True:\n",
    "        \n",
    "        for sensor_name, sensor_handle in zip(proximity_sensors,proximity_sensors_handles):\n",
    "            if sensor_name ==sensor:\n",
    "                err_code,detectionState,detectedPoint,detectedObjectHandle,detectedSurfaceNormalVector=vrep.simxReadProximitySensor(clientID,sensor_handle,vrep.simx_opmode_buffer )\n",
    "                \n",
    "                if(err_code == 0): \n",
    "                    distance_data = np.linalg.norm(detectedPoint)\n",
    "                    timer = time.time()\n",
    "                    if timer > t + 1:  \n",
    "                        # sensor czasami zaczyna zwracać irracjonalnie niskie wartości, pomimo że na symulacji widac, ze jeszcze nie łapie kolejnego auta więc spodziewamy się co raz większych odległości\n",
    "                        \n",
    "                        step1.input['in_sw'] = distance_data\n",
    "                        step1.compute()\n",
    "                        # - + + i\n",
    "                        if tank.rightvelocity + step1.output['out_velo'] >0:\n",
    "                            tank.stop()\n",
    "                            return 1 \n",
    "                        tank.backward(-tank.rightvelocity - step1.output['out_velo'])\n",
    "                        \n",
    "                        \n",
    "                        print(\"Proximity_sensor\",distance_data,\"Velocity\",tank.rightvelocity)\n",
    "                        t = timer\n",
    "                        \n",
    "       \n",
    "                        "
   ]
  },
  {
   "cell_type": "code",
   "execution_count": 37,
   "metadata": {},
   "outputs": [],
   "source": [
    "def correct():\n",
    "    tank.turn_right()\n",
    "    t = time.time()\n",
    "    tank.forward(0)\n",
    "    while True:\n",
    "        t1 = time.time()\n",
    "        if t1 - t >2:\n",
    "            tank.stop()\n",
    "            return\n",
    "        \n",
    "        tank.turn_right()\n",
    "        "
   ]
  },
  {
   "cell_type": "code",
   "execution_count": 38,
   "metadata": {},
   "outputs": [],
   "source": [
    "def parking_combined():\n",
    "    place = search_for_para_place()\n",
    "    if place == 1:\n",
    "        prepare_parking()\n",
    "        rotate_tank()\n",
    "        go_back()\n",
    "        correct()\n",
    "        return 1\n",
    "    else:\n",
    "        print(\"Place not found\")\n",
    "        return 0 \n",
    "    \n",
    "    # time.sleep(10)\n",
    "    # vrep.simxStopSimulation(clientID,vrep.simx_opmode_oneshot) # stop the simulation in vrep     \n",
    "    "
   ]
  },
  {
   "cell_type": "code",
   "execution_count": 39,
   "metadata": {},
   "outputs": [
    {
     "name": "stdout",
     "output_type": "stream",
     "text": [
      "Found parking spot\n",
      "Proximity_sensor 1.455807953460337 Velocity 3.4509937561514863\n",
      "Proximity_sensor 1.5598540016545068 Velocity 3.1506737984276207\n",
      "Proximity_sensor 1.673409678248494 Velocity 2.8901719490879323\n",
      "Proximity_sensor 1.748820432293017 Velocity 2.735693008163577\n",
      "Proximity_sensor 1.8421303655494858 Velocity 2.549961366978757\n",
      "Proximity_sensor 1.9239808514414618 Velocity 2.3807122550652573\n",
      "Proximity_sensor 2.0746457237331613 Velocity 2.0068253783811425\n",
      "Proximity_sensor 2.121996414742371 Velocity 1.8549619969665712\n",
      "Proximity_sensor 2.274261690904771 Velocity 1.5270710499025528\n",
      "Proximity_sensor 2.3265634716232637 Velocity 1.5166907293471812\n",
      "Proximity_sensor 2.3669952544688133 Velocity 1.504598950922205\n",
      "Proximity_sensor 2.4840229717563806 Velocity 1.4557909494331152\n",
      "Proximity_sensor 3.1090015421209665 Velocity 0.9780461073654667\n",
      "Velocity below 0.95 stoping the tank; Tank prepared to begin parking\n",
      "Proximity_sensor 0.7606740204270357 Velocity -3.1666666666666665\n",
      "Proximity_sensor 2.0441160453166605 Velocity -2.8017859742723994\n",
      "Proximity_sensor 1.3802767511145133 Velocity -2.6356704229982206\n",
      "Proximity_sensor 2.8794175619416174 Velocity -1.9664948669339648\n",
      "Proximity_sensor 2.998742268665594 Velocity -1.1991028255349603\n",
      "Proximity_sensor 3.1037931233882783 Velocity -0.43171078413595587\n"
     ]
    },
    {
     "data": {
      "text/plain": [
       "1"
      ]
     },
     "execution_count": 39,
     "metadata": {},
     "output_type": "execute_result"
    }
   ],
   "source": [
    "parking_combined()"
   ]
  },
  {
   "cell_type": "code",
   "execution_count": 40,
   "metadata": {},
   "outputs": [
    {
     "name": "stdout",
     "output_type": "stream",
     "text": [
      "Proximity_sensor_EN 28038964183040.0\n",
      "\n",
      "Proximity_sensor_ES 28038964183040.0\n",
      "\n",
      "Proximity_sensor_NE 1.3055124381897159\n",
      "\n",
      "Proximity_sensor_NW 1.2386574391804244\n",
      "\n",
      "Proximity_sensor_SE 0.944402203728235\n",
      "\n",
      "Proximity_sensor_SW 0.9463942003563041\n",
      "\n",
      "Proximity_sensor_WN 3.2073169411294393\n",
      "\n",
      "Proximity_sensor_WS 3.2883397850168072\n",
      "\n"
     ]
    }
   ],
   "source": [
    "#continue reading and printing values from proximity sensors\n",
    "t = time.time()\n",
    "counter = 0\n",
    "# while (time.time()-t)<11: # read values for 5 seconds\n",
    "    # counter +=1\n",
    "\n",
    "for sensor_name, sensor_handle in zip(proximity_sensors,proximity_sensors_handles):\n",
    "    err_code,detectionState,detectedPoint,detectedObjectHandle,detectedSurfaceNormalVector=vrep.simxReadProximitySensor(clientID,sensor_handle,vrep.simx_opmode_buffer )\n",
    "    if(err_code == 0):\n",
    "        if counter % 5000 == 0:\n",
    "            print(\"Proximity_sensor_\"+sensor_name, np.linalg.norm(detectedPoint))\n",
    "            print()\n",
    "# print()"
   ]
  }
 ],
 "metadata": {
  "kernelspec": {
   "display_name": "Python 3",
   "language": "python",
   "name": "python3"
  },
  "language_info": {
   "codemirror_mode": {
    "name": "ipython",
    "version": 3
   },
   "file_extension": ".py",
   "mimetype": "text/x-python",
   "name": "python",
   "nbconvert_exporter": "python",
   "pygments_lexer": "ipython3",
   "version": "3.12.8"
  }
 },
 "nbformat": 4,
 "nbformat_minor": 2
}
