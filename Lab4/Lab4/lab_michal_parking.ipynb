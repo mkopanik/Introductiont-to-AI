{
 "cells": [
  {
   "cell_type": "code",
   "execution_count": 211,
   "metadata": {},
   "outputs": [],
   "source": [
    "import vrep \n",
    "import sys\n",
    "import time \n",
    "import numpy as np\n",
    "import skfuzzy as fuzz\n",
    "\n",
    "from tank import *"
   ]
  },
  {
   "cell_type": "code",
   "execution_count": 212,
   "metadata": {},
   "outputs": [
    {
     "name": "stdout",
     "output_type": "stream",
     "text": [
      "Connected to remote API server\n"
     ]
    }
   ],
   "source": [
    "vrep.simxFinish(-1) # closes all opened connections, in case any prevoius wasnt finished\n",
    "clientID=vrep.simxStart('127.0.0.1',19999,True,True,5000,5) # start a connection\n",
    "\n",
    "if clientID!=-1:\n",
    "    print (\"Connected to remote API server\")\n",
    "else:\n",
    "    print(\"Not connected to remote API server\")\n",
    "    sys.exit(\"Could not connect\")\n",
    "\n",
    "#create instance of Tank\n",
    "tank=Tank(clientID)"
   ]
  },
  {
   "cell_type": "code",
   "execution_count": 213,
   "metadata": {},
   "outputs": [],
   "source": [
    "proximity_sensors=[\"EN\",\"ES\",\"NE\",\"NW\",\"SE\",\"SW\",\"WN\",\"WS\"]\n",
    "proximity_sensors_handles=[0]*8\n",
    "\n",
    "# get handle to proximity sensors\n",
    "for i in range(len(proximity_sensors)):\n",
    "    err_code,proximity_sensors_handles[i] = vrep.simxGetObjectHandle(clientID,\"Proximity_sensor_\"+proximity_sensors[i], vrep.simx_opmode_blocking)\n",
    "    \n",
    "#read and print values from proximity sensors\n",
    "#first reading should be done with simx_opmode_streaming, further with simx_opmode_buffer parameter\n",
    "for sensor_name, sensor_handle in zip(proximity_sensors,proximity_sensors_handles):\n",
    "        err_code,detectionState,detectedPoint,detectedObjectHandle,detectedSurfaceNormalVector=vrep.simxReadProximitySensor(clientID,sensor_handle,vrep.simx_opmode_streaming)"
   ]
  },
  {
   "cell_type": "code",
   "execution_count": 214,
   "metadata": {},
   "outputs": [],
   "source": [
    "# tank.forward(5)\n",
    "\n",
    "# #continue reading and printing values from proximity sensors\n",
    "# t = time.time()\n",
    "# counter = 0\n",
    "# while (time.time()-t)<15: # read values for 5 seconds\n",
    "#     counter +=1\n",
    "\n",
    "#     for sensor_name, sensor_handle in zip(proximity_sensors,proximity_sensors_handles):\n",
    "#         err_code,detectionState,detectedPoint,detectedObjectHandle,detectedSurfaceNormalVector=vrep.simxReadProximitySensor(clientID,sensor_handle,vrep.simx_opmode_buffer )\n",
    "#         if(err_code == 0):\n",
    "#             if counter % 5000 == 0:\n",
    "#                 print(\"Proximity_sensor_\"+sensor_name, np.linalg.norm(detectedPoint))\n",
    "#                 print()\n",
    "#     # print()\n",
    "    \n",
    "# tank.stop()"
   ]
  },
  {
   "cell_type": "code",
   "execution_count": 215,
   "metadata": {},
   "outputs": [],
   "source": [
    "# tank.forward(5)\n"
   ]
  },
  {
   "cell_type": "code",
   "execution_count": 216,
   "metadata": {},
   "outputs": [],
   "source": [
    "\n",
    "    \n",
    "# tank.stop()"
   ]
  },
  {
   "cell_type": "code",
   "execution_count": 217,
   "metadata": {},
   "outputs": [],
   "source": [
    "def search_for_para_place(search_time = 10):\n",
    "    tank.forward(5)\n",
    "    t = time.time()\n",
    "    # condition = True\n",
    "    values = []\n",
    "    while True:\n",
    "        \n",
    "        condition = True\n",
    "        if (time.time()-t)>search_time:\n",
    "            tank.stop()\n",
    "            print(\"Didn't found parking spot \")\n",
    "            return 0\n",
    "        important_list = ['EN',\"ES\",\"NE\",\"SE\"]\n",
    "        values = []\n",
    "        for sensor_name, sensor_handle in zip(proximity_sensors,proximity_sensors_handles):\n",
    "            \n",
    "            if sensor_name in important_list:\n",
    "                \n",
    "                err_code,detectionState,detectedPoint,detectedObjectHandle,detectedSurfaceNormalVector=vrep.simxReadProximitySensor(clientID,sensor_handle,vrep.simx_opmode_buffer )\n",
    "                if(err_code == 0):\n",
    "                    values.append(np.linalg.norm(detectedPoint))\n",
    "        if len(values) == 4:\n",
    "            \n",
    "            for value in values:\n",
    "                if ((value<1.25)|(value>1.85)):   # if any condition not in range we will be out of range\n",
    "                    condition = False\n",
    "\n",
    "            # if we reached that point that means that all value are in defined range = we found parking spot\n",
    "            \n",
    "            if condition:\n",
    "                tank.stop()\n",
    "                print(\"Found parking spot\")\n",
    "                return 1 \n",
    "    \n",
    "\n",
    "                \n",
    "                    \n",
    "                        "
   ]
  },
  {
   "cell_type": "code",
   "execution_count": 218,
   "metadata": {},
   "outputs": [
    {
     "name": "stdout",
     "output_type": "stream",
     "text": [
      "Found parking spot\n"
     ]
    },
    {
     "data": {
      "text/plain": [
       "1"
      ]
     },
     "execution_count": 218,
     "metadata": {},
     "output_type": "execute_result"
    }
   ],
   "source": [
    "search_for_para_place()"
   ]
  },
  {
   "cell_type": "code",
   "execution_count": 219,
   "metadata": {},
   "outputs": [
    {
     "name": "stdout",
     "output_type": "stream",
     "text": [
      "Proximity_sensor_EN 1.7733825791778808\n",
      "\n",
      "Proximity_sensor_ES 1.3465264040262217\n",
      "\n",
      "Proximity_sensor_NE 1.5628431214787604\n",
      "\n",
      "Proximity_sensor_NW 1.5628431214787604\n",
      "\n",
      "Proximity_sensor_SE 1.4872369813048092\n",
      "\n",
      "Proximity_sensor_SW 2.710923612405947\n",
      "\n",
      "Proximity_sensor_WN 2.061218285174429\n",
      "\n",
      "Proximity_sensor_WS 2.061218285174429\n",
      "\n"
     ]
    }
   ],
   "source": [
    "#continue reading and printing values from proximity sensors\n",
    "t = time.time()\n",
    "counter = 0\n",
    "# while (time.time()-t)<11: # read values for 5 seconds\n",
    "    # counter +=1\n",
    "\n",
    "for sensor_name, sensor_handle in zip(proximity_sensors,proximity_sensors_handles):\n",
    "    err_code,detectionState,detectedPoint,detectedObjectHandle,detectedSurfaceNormalVector=vrep.simxReadProximitySensor(clientID,sensor_handle,vrep.simx_opmode_buffer )\n",
    "    if(err_code == 0):\n",
    "        if counter % 5000 == 0:\n",
    "            print(\"Proximity_sensor_\"+sensor_name, np.linalg.norm(detectedPoint))\n",
    "            print()\n",
    "# print()"
   ]
  }
 ],
 "metadata": {
  "kernelspec": {
   "display_name": "Python 3",
   "language": "python",
   "name": "python3"
  },
  "language_info": {
   "codemirror_mode": {
    "name": "ipython",
    "version": 3
   },
   "file_extension": ".py",
   "mimetype": "text/x-python",
   "name": "python",
   "nbconvert_exporter": "python",
   "pygments_lexer": "ipython3",
   "version": "3.12.8"
  }
 },
 "nbformat": 4,
 "nbformat_minor": 2
}
