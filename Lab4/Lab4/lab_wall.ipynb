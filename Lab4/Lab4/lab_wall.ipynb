{
 "cells": [
  {
   "cell_type": "code",
   "execution_count": 59,
   "metadata": {},
   "outputs": [],
   "source": [
    "import vrep \n",
    "import sys\n",
    "import time \n",
    "import numpy as np\n",
    "import skfuzzy as fuzz\n",
    "\n",
    "from tank import *"
   ]
  },
  {
   "cell_type": "code",
   "execution_count": 60,
   "metadata": {},
   "outputs": [
    {
     "name": "stdout",
     "output_type": "stream",
     "text": [
      "Connected to remote API server\n"
     ]
    }
   ],
   "source": [
    "vrep.simxFinish(-1) # closes all opened connections, in case any prevoius wasnt finished\n",
    "clientID=vrep.simxStart('127.0.0.1',19999,True,True,5000,5) # start a connection\n",
    "\n",
    "if clientID!=-1:\n",
    "    print (\"Connected to remote API server\")\n",
    "else:\n",
    "    print(\"Not connected to remote API server\")\n",
    "    sys.exit(\"Could not connect\")\n",
    "\n",
    "#create instance of Tank\n",
    "tank=Tank(clientID)"
   ]
  },
  {
   "cell_type": "code",
   "execution_count": 61,
   "metadata": {},
   "outputs": [],
   "source": [
    "proximity_sensor=\"Proximity_sensor\"\n",
    "\n",
    "\n",
    "# get handle to proximity sensor\n",
    "err_code,proximity_sensors_handle = vrep.simxGetObjectHandle(clientID,\"Proximity_sensor\", vrep.simx_opmode_blocking)\n",
    "    \n",
    "#read and print values from proximity sensors\n",
    "#first reading should be done with simx_opmode_streaming, further with simx_opmode_buffer parameter\n",
    "\n",
    "err_code,detectionState,detectedPoint,detectedObjectHandle,detectedSurfaceNormalVector=vrep.simxReadProximitySensor(clientID,proximity_sensors_handle,vrep.simx_opmode_streaming)"
   ]
  },
  {
   "cell_type": "code",
   "execution_count": 62,
   "metadata": {},
   "outputs": [
    {
     "data": {
      "text/plain": [
       "0"
      ]
     },
     "execution_count": 62,
     "metadata": {},
     "output_type": "execute_result"
    }
   ],
   "source": [
    "tank.rightvelocity"
   ]
  },
  {
   "cell_type": "code",
   "execution_count": 63,
   "metadata": {},
   "outputs": [],
   "source": [
    "# proximity sensor value starts in this scene from above 7 and might be as low as 0 when buliding is hit\n",
    "# we will define current speed of tank and distance from building as inputs to control systems and change in velocity as an output"
   ]
  },
  {
   "cell_type": "code",
   "execution_count": 64,
   "metadata": {},
   "outputs": [],
   "source": [
    "in_dist = np.arange(0.5,7.2,0.1)\n",
    "in_velo = np.arange(0,10,0.1)\n",
    "out_velo = np.arange(0,10,0.1)\n",
    "\n",
    "# Generate fuzzy membership functions\n",
    "in_dist_lo = fuzz.trimf(in_dist,[0.5,0.5,3.5])\n",
    "in_dist_mid = fuzz.trimf(in_dist,[0.5,3.5,5.5])\n",
    "in_dist_high = fuzz.trimf(in_dist,[3.5,7.2,7.2])\n",
    "\n",
    "# in speed \n",
    "\n",
    "in_velo_lo = fuzz.trimf(in_velo,[0,0,5])\n",
    "in_velo_mid = fuzz.trimf(in_velo,[0,5,10])\n",
    "in_velo_high = fuzz.trimf(in_velo,[5,10,10])\n",
    "\n",
    "out_velo_lo = fuzz.trimf(out_velo,[0,0,5])\n",
    "out_velo_mid = fuzz.trimf(out_velo,[0,5,10])\n",
    "out_velo_high = fuzz.trimf(out_velo,[5,10,10])"
   ]
  },
  {
   "cell_type": "code",
   "execution_count": 65,
   "metadata": {},
   "outputs": [],
   "source": [
    "def velo_update(dist,velo):\n",
    "\n",
    "    # Generate fuzzy membership functions\n",
    "    dist_level_lo = fuzz.interp_membership(in_dist,in_dist_lo,dist)\n",
    "    dist_level_mid = fuzz.interp_membership(in_dist,in_dist_mid,dist)\n",
    "    dist_level_high = fuzz.interp_membership(in_dist,in_dist_high,dist)\n",
    "\n",
    "    # in speed \n",
    "\n",
    "    in_velo_level_lo = fuzz.interp_membership(in_velo,in_velo_lo,velo)\n",
    "    in_velo_level_mid = fuzz.interp_membership(in_velo,in_velo_mid,velo)\n",
    "    in_velo_elvel_high = fuzz.interp_membership(in_velo,in_velo_high,velo)\n",
    "\n",
    "\n",
    "\n",
    "\n",
    "    # now rules\n",
    "    \n",
    "    # decreasing velocity rules\n",
    "    # we need to decrease speed if distance is low (with any speed) or if distance is mid and velocity is high \n",
    "    \n",
    "    dec_rule1 = np.fmin(dist_level_lo,in_velo_level_lo)\n",
    "    dec_rule2 = np.fmin(dist_level_mid,in_velo_elvel_high)\n",
    "    \n",
    "    # or operator = max and operatior = min\n",
    "    \n",
    "    dec_rule = np.fmax(dec_rule1,dec_rule2)\n",
    "    \n",
    "    # now some rules for not doing anything \n",
    "    \n",
    "    no_rule1 = np.fmin(dist_level_mid,in_velo_level_mid)\n",
    "    no_rule2 = np.fmin(dist_level_high,in_velo_elvel_high)\n",
    "    \n",
    "    no_rule = np.fmin(no_rule1,no_rule2)\n",
    "    \n",
    "    \n",
    "    # acceleration\n",
    "    \n",
    "    acc_rule1 =np.fmin(dist_level_high,in_velo_level_lo)\n",
    "    acc_rule2 =np.fmin(dist_level_high,in_velo_level_mid)\n",
    "    acc_rule3 = np.fmin(dist_level_mid,in_velo_elvel_high)\n",
    "    \n",
    "    acc_rule = np.fmax(acc_rule1,np.fmax(acc_rule2,acc_rule3))\n",
    "    \n",
    "    \n",
    "    # acitvation to get output velocity \n",
    "    dec_activation = np.fmin(dec_rule,out_velo_lo)\n",
    "    no_activation = np.fmin(no_rule,out_velo_mid)\n",
    "    acc_activation = np.fmin(acc_rule,out_velo_high)\n",
    "    # Aggregate all three output membership functions together\n",
    "    aggregated = np.fmax(dec_activation,np.fmax(no_activation,acc_activation))\n",
    "    \n",
    "    # Calculate defuzzified result\n",
    "    new_velo = fuzz.defuzz(out_velo, aggregated, 'centroid')    \n",
    "    \n",
    "    \n",
    "    return new_velo\n",
    "\n"
   ]
  },
  {
   "cell_type": "code",
   "execution_count": 66,
   "metadata": {},
   "outputs": [
    {
     "name": "stdout",
     "output_type": "stream",
     "text": [
      "Proximity_sensor 7.1738242444239795 Velocity 5\n"
     ]
    },
    {
     "ename": "EmptyMembershipError",
     "evalue": "The membership function area is empty.",
     "output_type": "error",
     "traceback": [
      "\u001b[1;31m---------------------------------------------------------------------------\u001b[0m",
      "\u001b[1;31mEmptyMembershipError\u001b[0m                      Traceback (most recent call last)",
      "Cell \u001b[1;32mIn[66], line 15\u001b[0m\n\u001b[0;32m     12\u001b[0m \u001b[38;5;28mprint\u001b[39m(\u001b[38;5;124m\"\u001b[39m\u001b[38;5;124mProximity_sensor\u001b[39m\u001b[38;5;124m\"\u001b[39m,distance_data,\u001b[38;5;124m\"\u001b[39m\u001b[38;5;124mVelocity\u001b[39m\u001b[38;5;124m\"\u001b[39m,tank\u001b[38;5;241m.\u001b[39mrightvelocity)\n\u001b[0;32m     14\u001b[0m \u001b[38;5;66;03m# controler \u001b[39;00m\n\u001b[1;32m---> 15\u001b[0m velo \u001b[38;5;241m=\u001b[39m \u001b[43mvelo_update\u001b[49m\u001b[43m(\u001b[49m\u001b[43mdistance_data\u001b[49m\u001b[43m,\u001b[49m\u001b[43mtank\u001b[49m\u001b[38;5;241;43m.\u001b[39;49m\u001b[43mrightvelocity\u001b[49m\u001b[43m)\u001b[49m\n\u001b[0;32m     16\u001b[0m tank\u001b[38;5;241m.\u001b[39mforward(velo)\n",
      "Cell \u001b[1;32mIn[65], line 54\u001b[0m, in \u001b[0;36mvelo_update\u001b[1;34m(dist, velo)\u001b[0m\n\u001b[0;32m     51\u001b[0m aggregated \u001b[38;5;241m=\u001b[39m np\u001b[38;5;241m.\u001b[39mfmax(dec_activation,np\u001b[38;5;241m.\u001b[39mfmax(no_activation,acc_activation))\n\u001b[0;32m     53\u001b[0m \u001b[38;5;66;03m# Calculate defuzzified result\u001b[39;00m\n\u001b[1;32m---> 54\u001b[0m new_velo \u001b[38;5;241m=\u001b[39m \u001b[43mfuzz\u001b[49m\u001b[38;5;241;43m.\u001b[39;49m\u001b[43mdefuzz\u001b[49m\u001b[43m(\u001b[49m\u001b[43mout_velo\u001b[49m\u001b[43m,\u001b[49m\u001b[43m \u001b[49m\u001b[43maggregated\u001b[49m\u001b[43m,\u001b[49m\u001b[43m \u001b[49m\u001b[38;5;124;43m'\u001b[39;49m\u001b[38;5;124;43mcentroid\u001b[39;49m\u001b[38;5;124;43m'\u001b[39;49m\u001b[43m)\u001b[49m    \n\u001b[0;32m     57\u001b[0m \u001b[38;5;28;01mreturn\u001b[39;00m new_velo\n",
      "File \u001b[1;32mc:\\Users\\akopa\\AppData\\Local\\Programs\\Python\\Python312\\Lib\\site-packages\\skfuzzy\\defuzzify\\defuzz.py:258\u001b[0m, in \u001b[0;36mdefuzz\u001b[1;34m(x, mfx, mode)\u001b[0m\n\u001b[0;32m    256\u001b[0m \u001b[38;5;28;01mif\u001b[39;00m \u001b[38;5;124m'\u001b[39m\u001b[38;5;124mcentroid\u001b[39m\u001b[38;5;124m'\u001b[39m \u001b[38;5;129;01min\u001b[39;00m mode \u001b[38;5;129;01mor\u001b[39;00m \u001b[38;5;124m'\u001b[39m\u001b[38;5;124mbisector\u001b[39m\u001b[38;5;124m'\u001b[39m \u001b[38;5;129;01min\u001b[39;00m mode:\n\u001b[0;32m    257\u001b[0m     \u001b[38;5;28;01mif\u001b[39;00m mfx\u001b[38;5;241m.\u001b[39msum() \u001b[38;5;241m==\u001b[39m \u001b[38;5;241m0\u001b[39m:  \u001b[38;5;66;03m# Approximation of total area\u001b[39;00m\n\u001b[1;32m--> 258\u001b[0m         \u001b[38;5;28;01mraise\u001b[39;00m EmptyMembershipError()\n\u001b[0;32m    260\u001b[0m     \u001b[38;5;28;01mif\u001b[39;00m \u001b[38;5;124m'\u001b[39m\u001b[38;5;124mcentroid\u001b[39m\u001b[38;5;124m'\u001b[39m \u001b[38;5;129;01min\u001b[39;00m mode:\n\u001b[0;32m    261\u001b[0m         \u001b[38;5;28;01mreturn\u001b[39;00m centroid(x, mfx)\n",
      "\u001b[1;31mEmptyMembershipError\u001b[0m: The membership function area is empty."
     ]
    }
   ],
   "source": [
    "\n",
    "tank.forward(5)\n",
    "#continue reading and printing values from proximity sensors\n",
    "# right and left velocity seems to be the same so will be using right velocity if needed to read it \n",
    "# tank.rightvelocity()\n",
    "velo = 0\n",
    "while True: # read values for 5 seconds\n",
    "    \n",
    "    err_code,detectionState,detectedPoint,detectedObjectHandle,detectedSurfaceNormalVector=vrep.simxReadProximitySensor(clientID,proximity_sensors_handle,vrep.simx_opmode_buffer )\n",
    "    \n",
    "    if (err_code == 0):\n",
    "        distance_data = np.linalg.norm(detectedPoint)\n",
    "        print(\"Proximity_sensor\",distance_data,\"Velocity\",tank.rightvelocity)\n",
    "      \n",
    "        # controler \n",
    "        velo = velo_update(distance_data,tank.rightvelocity)\n",
    "        tank.forward(velo)\n",
    "      \n",
    "    "
   ]
  }
 ],
 "metadata": {
  "kernelspec": {
   "display_name": "Python 3",
   "language": "python",
   "name": "python3"
  },
  "language_info": {
   "codemirror_mode": {
    "name": "ipython",
    "version": 3
   },
   "file_extension": ".py",
   "mimetype": "text/x-python",
   "name": "python",
   "nbconvert_exporter": "python",
   "pygments_lexer": "ipython3",
   "version": "3.12.8"
  }
 },
 "nbformat": 4,
 "nbformat_minor": 2
}
