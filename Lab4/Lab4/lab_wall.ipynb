{
 "cells": [
  {
   "cell_type": "code",
   "execution_count": 51,
   "metadata": {},
   "outputs": [],
   "source": [
    "import vrep \n",
    "import sys\n",
    "import time \n",
    "import numpy as np\n",
    "from tank import *"
   ]
  },
  {
   "cell_type": "code",
   "execution_count": 52,
   "metadata": {},
   "outputs": [
    {
     "name": "stdout",
     "output_type": "stream",
     "text": [
      "Connected to remote API server\n"
     ]
    }
   ],
   "source": [
    "vrep.simxFinish(-1) # closes all opened connections, in case any prevoius wasnt finished\n",
    "clientID=vrep.simxStart('127.0.0.1',19999,True,True,5000,5) # start a connection\n",
    "\n",
    "if clientID!=-1:\n",
    "    print (\"Connected to remote API server\")\n",
    "else:\n",
    "    print(\"Not connected to remote API server\")\n",
    "    sys.exit(\"Could not connect\")\n",
    "\n",
    "#create instance of Tank\n",
    "tank=Tank(clientID)"
   ]
  },
  {
   "cell_type": "code",
   "execution_count": 53,
   "metadata": {},
   "outputs": [],
   "source": [
    "proximity_sensor=\"Proximity_sensor\"\n",
    "\n",
    "\n",
    "# get handle to proximity sensor\n",
    "err_code,proximity_sensors_handle = vrep.simxGetObjectHandle(clientID,\"Proximity_sensor\", vrep.simx_opmode_blocking)\n",
    "    \n",
    "#read and print values from proximity sensors\n",
    "#first reading should be done with simx_opmode_streaming, further with simx_opmode_buffer parameter\n",
    "\n",
    "err_code,detectionState,detectedPoint,detectedObjectHandle,detectedSurfaceNormalVector=vrep.simxReadProximitySensor(clientID,proximity_sensors_handle,vrep.simx_opmode_streaming)"
   ]
  },
  {
   "cell_type": "code",
   "execution_count": 54,
   "metadata": {},
   "outputs": [
    {
     "ename": "KeyboardInterrupt",
     "evalue": "",
     "output_type": "error",
     "traceback": [
      "\u001b[1;31m---------------------------------------------------------------------------\u001b[0m",
      "\u001b[1;31mKeyboardInterrupt\u001b[0m                         Traceback (most recent call last)",
      "Cell \u001b[1;32mIn[54], line 8\u001b[0m\n\u001b[0;32m      3\u001b[0m \u001b[38;5;66;03m#continue reading and printing values from proximity sensors\u001b[39;00m\n\u001b[0;32m      4\u001b[0m \u001b[38;5;66;03m# right and left velocity seems to be the same so will be using right velocity if needed to read it \u001b[39;00m\n\u001b[0;32m      5\u001b[0m \u001b[38;5;66;03m# tank.rightvelocity()\u001b[39;00m\n\u001b[0;32m      7\u001b[0m \u001b[38;5;28;01mwhile\u001b[39;00m \u001b[38;5;28;01mTrue\u001b[39;00m: \u001b[38;5;66;03m# read values for 5 seconds\u001b[39;00m\n\u001b[1;32m----> 8\u001b[0m     \u001b[43mtank\u001b[49m\u001b[38;5;241;43m.\u001b[39;49m\u001b[43mforward\u001b[49m\u001b[43m(\u001b[49m\u001b[38;5;241;43m5\u001b[39;49m\u001b[43m)\u001b[49m\n\u001b[0;32m      9\u001b[0m     err_code,detectionState,detectedPoint,detectedObjectHandle,detectedSurfaceNormalVector\u001b[38;5;241m=\u001b[39mvrep\u001b[38;5;241m.\u001b[39msimxReadProximitySensor(clientID,proximity_sensors_handle,vrep\u001b[38;5;241m.\u001b[39msimx_opmode_buffer )\n\u001b[0;32m     10\u001b[0m     \u001b[38;5;28;01mif\u001b[39;00m(err_code \u001b[38;5;241m==\u001b[39m \u001b[38;5;241m0\u001b[39m):\n",
      "File \u001b[1;32mc:\\Programowanko\\Introductiont-to-AI\\Lab4\\Lab4\\tank.py:77\u001b[0m, in \u001b[0;36mTank.forward\u001b[1;34m(self, velocity)\u001b[0m\n\u001b[0;32m     76\u001b[0m \u001b[38;5;28;01mdef\u001b[39;00m \u001b[38;5;21mforward\u001b[39m(\u001b[38;5;28mself\u001b[39m, velocity\u001b[38;5;241m=\u001b[39m\u001b[38;5;28;01mNone\u001b[39;00m):\n\u001b[1;32m---> 77\u001b[0m     \u001b[38;5;28;43mself\u001b[39;49m\u001b[38;5;241;43m.\u001b[39;49m\u001b[43mgo\u001b[49m\u001b[43m(\u001b[49m\u001b[43m)\u001b[49m\n\u001b[0;32m     78\u001b[0m     \u001b[38;5;28;01mif\u001b[39;00m velocity\u001b[38;5;241m!=\u001b[39m\u001b[38;5;28;01mNone\u001b[39;00m:\n\u001b[0;32m     79\u001b[0m         \u001b[38;5;28mself\u001b[39m\u001b[38;5;241m.\u001b[39mleftvelocity\u001b[38;5;241m=\u001b[39mvelocity\n",
      "File \u001b[1;32mc:\\Programowanko\\Introductiont-to-AI\\Lab4\\Lab4\\tank.py:54\u001b[0m, in \u001b[0;36mTank.go\u001b[1;34m(self)\u001b[0m\n\u001b[0;32m     52\u001b[0m force \u001b[38;5;241m=\u001b[39m\u001b[38;5;241m0\u001b[39m\n\u001b[0;32m     53\u001b[0m \u001b[38;5;28;01mfor\u001b[39;00m h \u001b[38;5;129;01min\u001b[39;00m \u001b[38;5;28mself\u001b[39m\u001b[38;5;241m.\u001b[39mside_handles:\n\u001b[1;32m---> 54\u001b[0m     err_code \u001b[38;5;241m=\u001b[39m \u001b[43mvrep\u001b[49m\u001b[38;5;241;43m.\u001b[39;49m\u001b[43msimxSetJointForce\u001b[49m\u001b[43m(\u001b[49m\u001b[38;5;28;43mself\u001b[39;49m\u001b[38;5;241;43m.\u001b[39;49m\u001b[43mclientID\u001b[49m\u001b[43m,\u001b[49m\u001b[43m \u001b[49m\u001b[43mh\u001b[49m\u001b[43m,\u001b[49m\u001b[43m \u001b[49m\u001b[43mforce\u001b[49m\u001b[43m,\u001b[49m\u001b[43m \u001b[49m\u001b[43mvrep\u001b[49m\u001b[38;5;241;43m.\u001b[39;49m\u001b[43msimx_opmode_oneshot\u001b[49m\u001b[43m)\u001b[49m\n",
      "File \u001b[1;32mc:\\Programowanko\\Introductiont-to-AI\\Lab4\\Lab4\\vrep.py:205\u001b[0m, in \u001b[0;36msimxSetJointForce\u001b[1;34m(clientID, jointHandle, force, operationMode)\u001b[0m\n\u001b[0;32m    201\u001b[0m \u001b[38;5;28;01mdef\u001b[39;00m \u001b[38;5;21msimxSetJointForce\u001b[39m(clientID, jointHandle, force, operationMode):\n\u001b[0;32m    202\u001b[0m \u001b[38;5;250m    \u001b[39m\u001b[38;5;124;03m'''\u001b[39;00m\n\u001b[0;32m    203\u001b[0m \u001b[38;5;124;03m    Please have a look at the function description/documentation in the V-REP user manual\u001b[39;00m\n\u001b[0;32m    204\u001b[0m \u001b[38;5;124;03m    '''\u001b[39;00m\n\u001b[1;32m--> 205\u001b[0m     \u001b[38;5;28;01mreturn\u001b[39;00m \u001b[43mc_SetJointForce\u001b[49m\u001b[43m(\u001b[49m\u001b[43mclientID\u001b[49m\u001b[43m,\u001b[49m\u001b[43m \u001b[49m\u001b[43mjointHandle\u001b[49m\u001b[43m,\u001b[49m\u001b[43m \u001b[49m\u001b[43mforce\u001b[49m\u001b[43m,\u001b[49m\u001b[43m \u001b[49m\u001b[43moperationMode\u001b[49m\u001b[43m)\u001b[49m\n",
      "\u001b[1;31mKeyboardInterrupt\u001b[0m: "
     ]
    }
   ],
   "source": [
    "tank.forward(5)\n",
    "\n",
    "#continue reading and printing values from proximity sensors\n",
    "# right and left velocity seems to be the same so will be using right velocity if needed to read it \n",
    "# tank.rightvelocity()\n",
    "\n",
    "while True: # read values for 5 seconds\n",
    "    tank.forward(5)\n",
    "    err_code,detectionState,detectedPoint,detectedObjectHandle,detectedSurfaceNormalVector=vrep.simxReadProximitySensor(clientID,proximity_sensors_handle,vrep.simx_opmode_buffer )\n",
    "    if(err_code == 0):\n",
    "        print(\"Proximity_sensor\", np.linalg.norm(detectedPoint))\n",
    "      \n",
    "        if (np.linalg.norm(detectedPoint)<1):\n",
    "            tank.stop()\n",
    "            break\n",
    "      \n",
    "    "
   ]
  }
 ],
 "metadata": {
  "kernelspec": {
   "display_name": "Python 3",
   "language": "python",
   "name": "python3"
  },
  "language_info": {
   "codemirror_mode": {
    "name": "ipython",
    "version": 3
   },
   "file_extension": ".py",
   "mimetype": "text/x-python",
   "name": "python",
   "nbconvert_exporter": "python",
   "pygments_lexer": "ipython3",
   "version": "3.12.8"
  }
 },
 "nbformat": 4,
 "nbformat_minor": 2
}
