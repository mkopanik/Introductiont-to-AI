{
 "cells": [
  {
   "cell_type": "code",
   "execution_count": 568,
   "metadata": {},
   "outputs": [],
   "source": [
    "# exploring data attached \n",
    "import pandas as pd \n"
   ]
  },
  {
   "cell_type": "code",
   "execution_count": 569,
   "metadata": {},
   "outputs": [
    {
     "data": {
      "text/html": [
       "<div>\n",
       "<style scoped>\n",
       "    .dataframe tbody tr th:only-of-type {\n",
       "        vertical-align: middle;\n",
       "    }\n",
       "\n",
       "    .dataframe tbody tr th {\n",
       "        vertical-align: top;\n",
       "    }\n",
       "\n",
       "    .dataframe thead th {\n",
       "        text-align: right;\n",
       "    }\n",
       "</style>\n",
       "<table border=\"1\" class=\"dataframe\">\n",
       "  <thead>\n",
       "    <tr style=\"text-align: right;\">\n",
       "      <th></th>\n",
       "      <th>1</th>\n",
       "      <th>Unnamed: 1</th>\n",
       "      <th>2</th>\n",
       "      <th>Unnamed: 3</th>\n",
       "      <th>3</th>\n",
       "      <th>Unnamed: 5</th>\n",
       "      <th>4</th>\n",
       "      <th>Unnamed: 7</th>\n",
       "      <th>5</th>\n",
       "      <th>Unnamed: 9</th>\n",
       "      <th>...</th>\n",
       "      <th>46</th>\n",
       "      <th>Unnamed: 91</th>\n",
       "      <th>47</th>\n",
       "      <th>Unnamed: 93</th>\n",
       "      <th>48</th>\n",
       "      <th>Unnamed: 95</th>\n",
       "      <th>49</th>\n",
       "      <th>Unnamed: 97</th>\n",
       "      <th>50</th>\n",
       "      <th>Unnamed: 99</th>\n",
       "    </tr>\n",
       "  </thead>\n",
       "  <tbody>\n",
       "    <tr>\n",
       "      <th>0</th>\n",
       "      <td>R</td>\n",
       "      <td>T</td>\n",
       "      <td>R</td>\n",
       "      <td>T</td>\n",
       "      <td>R</td>\n",
       "      <td>T</td>\n",
       "      <td>R</td>\n",
       "      <td>T</td>\n",
       "      <td>R</td>\n",
       "      <td>T</td>\n",
       "      <td>...</td>\n",
       "      <td>R</td>\n",
       "      <td>T</td>\n",
       "      <td>R</td>\n",
       "      <td>T</td>\n",
       "      <td>R</td>\n",
       "      <td>T</td>\n",
       "      <td>R</td>\n",
       "      <td>T</td>\n",
       "      <td>R</td>\n",
       "      <td>T</td>\n",
       "    </tr>\n",
       "    <tr>\n",
       "      <th>1</th>\n",
       "      <td>9</td>\n",
       "      <td>22</td>\n",
       "      <td>5</td>\n",
       "      <td>17</td>\n",
       "      <td>5</td>\n",
       "      <td>24</td>\n",
       "      <td>8</td>\n",
       "      <td>40</td>\n",
       "      <td>9</td>\n",
       "      <td>14</td>\n",
       "      <td>...</td>\n",
       "      <td>7</td>\n",
       "      <td>21</td>\n",
       "      <td>9</td>\n",
       "      <td>24</td>\n",
       "      <td>6</td>\n",
       "      <td>37</td>\n",
       "      <td>9</td>\n",
       "      <td>26</td>\n",
       "      <td>10</td>\n",
       "      <td>36</td>\n",
       "    </tr>\n",
       "    <tr>\n",
       "      <th>2</th>\n",
       "      <td>3</td>\n",
       "      <td>49</td>\n",
       "      <td>10</td>\n",
       "      <td>13</td>\n",
       "      <td>4</td>\n",
       "      <td>28</td>\n",
       "      <td>5</td>\n",
       "      <td>47</td>\n",
       "      <td>7</td>\n",
       "      <td>45</td>\n",
       "      <td>...</td>\n",
       "      <td>3</td>\n",
       "      <td>10</td>\n",
       "      <td>10</td>\n",
       "      <td>40</td>\n",
       "      <td>7</td>\n",
       "      <td>22</td>\n",
       "      <td>1</td>\n",
       "      <td>39</td>\n",
       "      <td>2</td>\n",
       "      <td>46</td>\n",
       "    </tr>\n",
       "    <tr>\n",
       "      <th>3</th>\n",
       "      <td>1</td>\n",
       "      <td>47</td>\n",
       "      <td>7</td>\n",
       "      <td>23</td>\n",
       "      <td>1</td>\n",
       "      <td>18</td>\n",
       "      <td>5</td>\n",
       "      <td>47</td>\n",
       "      <td>6</td>\n",
       "      <td>30</td>\n",
       "      <td>...</td>\n",
       "      <td>8</td>\n",
       "      <td>22</td>\n",
       "      <td>9</td>\n",
       "      <td>24</td>\n",
       "      <td>3</td>\n",
       "      <td>39</td>\n",
       "      <td>6</td>\n",
       "      <td>31</td>\n",
       "      <td>4</td>\n",
       "      <td>16</td>\n",
       "    </tr>\n",
       "    <tr>\n",
       "      <th>4</th>\n",
       "      <td>9</td>\n",
       "      <td>30</td>\n",
       "      <td>4</td>\n",
       "      <td>29</td>\n",
       "      <td>5</td>\n",
       "      <td>32</td>\n",
       "      <td>7</td>\n",
       "      <td>18</td>\n",
       "      <td>2</td>\n",
       "      <td>20</td>\n",
       "      <td>...</td>\n",
       "      <td>7</td>\n",
       "      <td>27</td>\n",
       "      <td>7</td>\n",
       "      <td>22</td>\n",
       "      <td>2</td>\n",
       "      <td>49</td>\n",
       "      <td>10</td>\n",
       "      <td>13</td>\n",
       "      <td>5</td>\n",
       "      <td>18</td>\n",
       "    </tr>\n",
       "    <tr>\n",
       "      <th>5</th>\n",
       "      <td>5</td>\n",
       "      <td>21</td>\n",
       "      <td>6</td>\n",
       "      <td>27</td>\n",
       "      <td>4</td>\n",
       "      <td>17</td>\n",
       "      <td>7</td>\n",
       "      <td>27</td>\n",
       "      <td>10</td>\n",
       "      <td>42</td>\n",
       "      <td>...</td>\n",
       "      <td>7</td>\n",
       "      <td>50</td>\n",
       "      <td>4</td>\n",
       "      <td>26</td>\n",
       "      <td>4</td>\n",
       "      <td>19</td>\n",
       "      <td>1</td>\n",
       "      <td>20</td>\n",
       "      <td>2</td>\n",
       "      <td>21</td>\n",
       "    </tr>\n",
       "    <tr>\n",
       "      <th>6</th>\n",
       "      <td>3</td>\n",
       "      <td>19</td>\n",
       "      <td>8</td>\n",
       "      <td>33</td>\n",
       "      <td>10</td>\n",
       "      <td>31</td>\n",
       "      <td>2</td>\n",
       "      <td>43</td>\n",
       "      <td>1</td>\n",
       "      <td>29</td>\n",
       "      <td>...</td>\n",
       "      <td>10</td>\n",
       "      <td>29</td>\n",
       "      <td>8</td>\n",
       "      <td>17</td>\n",
       "      <td>3</td>\n",
       "      <td>38</td>\n",
       "      <td>10</td>\n",
       "      <td>21</td>\n",
       "      <td>2</td>\n",
       "      <td>33</td>\n",
       "    </tr>\n",
       "    <tr>\n",
       "      <th>7</th>\n",
       "      <td>2</td>\n",
       "      <td>18</td>\n",
       "      <td>2</td>\n",
       "      <td>49</td>\n",
       "      <td>8</td>\n",
       "      <td>50</td>\n",
       "      <td>7</td>\n",
       "      <td>33</td>\n",
       "      <td>4</td>\n",
       "      <td>21</td>\n",
       "      <td>...</td>\n",
       "      <td>10</td>\n",
       "      <td>33</td>\n",
       "      <td>7</td>\n",
       "      <td>12</td>\n",
       "      <td>6</td>\n",
       "      <td>24</td>\n",
       "      <td>5</td>\n",
       "      <td>25</td>\n",
       "      <td>8</td>\n",
       "      <td>46</td>\n",
       "    </tr>\n",
       "    <tr>\n",
       "      <th>8</th>\n",
       "      <td>7</td>\n",
       "      <td>45</td>\n",
       "      <td>9</td>\n",
       "      <td>39</td>\n",
       "      <td>7</td>\n",
       "      <td>34</td>\n",
       "      <td>1</td>\n",
       "      <td>10</td>\n",
       "      <td>9</td>\n",
       "      <td>35</td>\n",
       "      <td>...</td>\n",
       "      <td>10</td>\n",
       "      <td>11</td>\n",
       "      <td>6</td>\n",
       "      <td>42</td>\n",
       "      <td>8</td>\n",
       "      <td>20</td>\n",
       "      <td>4</td>\n",
       "      <td>18</td>\n",
       "      <td>3</td>\n",
       "      <td>40</td>\n",
       "    </tr>\n",
       "    <tr>\n",
       "      <th>9</th>\n",
       "      <td>6</td>\n",
       "      <td>10</td>\n",
       "      <td>1</td>\n",
       "      <td>15</td>\n",
       "      <td>5</td>\n",
       "      <td>38</td>\n",
       "      <td>1</td>\n",
       "      <td>35</td>\n",
       "      <td>7</td>\n",
       "      <td>43</td>\n",
       "      <td>...</td>\n",
       "      <td>5</td>\n",
       "      <td>13</td>\n",
       "      <td>2</td>\n",
       "      <td>24</td>\n",
       "      <td>4</td>\n",
       "      <td>48</td>\n",
       "      <td>6</td>\n",
       "      <td>40</td>\n",
       "      <td>7</td>\n",
       "      <td>27</td>\n",
       "    </tr>\n",
       "    <tr>\n",
       "      <th>10</th>\n",
       "      <td>8</td>\n",
       "      <td>39</td>\n",
       "      <td>9</td>\n",
       "      <td>12</td>\n",
       "      <td>1</td>\n",
       "      <td>29</td>\n",
       "      <td>7</td>\n",
       "      <td>15</td>\n",
       "      <td>1</td>\n",
       "      <td>12</td>\n",
       "      <td>...</td>\n",
       "      <td>6</td>\n",
       "      <td>28</td>\n",
       "      <td>2</td>\n",
       "      <td>39</td>\n",
       "      <td>6</td>\n",
       "      <td>20</td>\n",
       "      <td>3</td>\n",
       "      <td>40</td>\n",
       "      <td>7</td>\n",
       "      <td>43</td>\n",
       "    </tr>\n",
       "    <tr>\n",
       "      <th>11</th>\n",
       "      <td>5</td>\n",
       "      <td>46</td>\n",
       "      <td>7</td>\n",
       "      <td>13</td>\n",
       "      <td>1</td>\n",
       "      <td>26</td>\n",
       "      <td>9</td>\n",
       "      <td>39</td>\n",
       "      <td>7</td>\n",
       "      <td>36</td>\n",
       "      <td>...</td>\n",
       "      <td>8</td>\n",
       "      <td>11</td>\n",
       "      <td>4</td>\n",
       "      <td>33</td>\n",
       "      <td>9</td>\n",
       "      <td>31</td>\n",
       "      <td>1</td>\n",
       "      <td>19</td>\n",
       "      <td>8</td>\n",
       "      <td>18</td>\n",
       "    </tr>\n",
       "  </tbody>\n",
       "</table>\n",
       "<p>12 rows × 100 columns</p>\n",
       "</div>"
      ],
      "text/plain": [
       "    1 Unnamed: 1   2 Unnamed: 3   3 Unnamed: 5  4 Unnamed: 7   5 Unnamed: 9  \\\n",
       "0   R          T   R          T   R          T  R          T   R          T   \n",
       "1   9         22   5         17   5         24  8         40   9         14   \n",
       "2   3         49  10         13   4         28  5         47   7         45   \n",
       "3   1         47   7         23   1         18  5         47   6         30   \n",
       "4   9         30   4         29   5         32  7         18   2         20   \n",
       "5   5         21   6         27   4         17  7         27  10         42   \n",
       "6   3         19   8         33  10         31  2         43   1         29   \n",
       "7   2         18   2         49   8         50  7         33   4         21   \n",
       "8   7         45   9         39   7         34  1         10   9         35   \n",
       "9   6         10   1         15   5         38  1         35   7         43   \n",
       "10  8         39   9         12   1         29  7         15   1         12   \n",
       "11  5         46   7         13   1         26  9         39   7         36   \n",
       "\n",
       "    ...  46 Unnamed: 91  47 Unnamed: 93 48 Unnamed: 95  49 Unnamed: 97  50  \\\n",
       "0   ...   R           T   R           T  R           T   R           T   R   \n",
       "1   ...   7          21   9          24  6          37   9          26  10   \n",
       "2   ...   3          10  10          40  7          22   1          39   2   \n",
       "3   ...   8          22   9          24  3          39   6          31   4   \n",
       "4   ...   7          27   7          22  2          49  10          13   5   \n",
       "5   ...   7          50   4          26  4          19   1          20   2   \n",
       "6   ...  10          29   8          17  3          38  10          21   2   \n",
       "7   ...  10          33   7          12  6          24   5          25   8   \n",
       "8   ...  10          11   6          42  8          20   4          18   3   \n",
       "9   ...   5          13   2          24  4          48   6          40   7   \n",
       "10  ...   6          28   2          39  6          20   3          40   7   \n",
       "11  ...   8          11   4          33  9          31   1          19   8   \n",
       "\n",
       "   Unnamed: 99  \n",
       "0            T  \n",
       "1           36  \n",
       "2           46  \n",
       "3           16  \n",
       "4           18  \n",
       "5           21  \n",
       "6           33  \n",
       "7           46  \n",
       "8           40  \n",
       "9           27  \n",
       "10          43  \n",
       "11          18  \n",
       "\n",
       "[12 rows x 100 columns]"
      ]
     },
     "execution_count": 569,
     "metadata": {},
     "output_type": "execute_result"
    }
   ],
   "source": [
    "jobs = pd.read_excel(\"GA_task.xlsx\")\n",
    "jobs"
   ]
  },
  {
   "cell_type": "markdown",
   "metadata": {},
   "source": [
    "So to not get to confused with vocabulary. We face following problem we have 50 `tasks` each of them requires Resource R for some period of time T. Let's call one single element of this Task a Job for each Task Jobs need to be performed within declared order. Each resource we'll call a Machine so for job to be done we need some working time on specified machine."
   ]
  },
  {
   "cell_type": "code",
   "execution_count": 570,
   "metadata": {},
   "outputs": [],
   "source": [
    "\n",
    "class Task: \n",
    "    def __init__(self , jobs: list , id:int):\n",
    "        \"\"\"\n",
    "        Represents a single task that requries some jobs within order to be done \n",
    "        Jobs a list of pair R - T for this task \n",
    "        \"\"\"\n",
    "        self.jobs = jobs                 # Jobs in order to be performed\n",
    "        self.id = id            # as a Id in excel file is 1 -index and python is  0 - index\n",
    "        self.current_timestamp = 0     # in our timeline kinda time mark at which we're with task so for example if we start first job at time 0 and 15 T is required we set this to 15.                        \n",
    "    def __str__(self) -> str:\n",
    "        return f\"Task id: {self.id} \\n jobs to perform: \\n {self.jobs}\"\n",
    "    \n",
    "    def return_machines(self):\n",
    "        machines_required = []\n",
    "        for job in self.jobs:\n",
    "            machines_required.append(job[0])\n",
    "        return machines_required\n",
    "    \n",
    "    def get_timestamp(self):\n",
    "        return self.current_timestamp\n",
    "    \n",
    "    def get_machine_ix(self):\n",
    "        return  self.jobs[0][0] - 1       # first job -> resource (1 index) - 1 to get 0_ix \n",
    "    \n",
    "    def get_T(self):\n",
    "        return  self.jobs[0][1]\n",
    "    \n",
    "    def next_step(self,time):              # we update our task after scheduling of first job to do\n",
    "        self.jobs.pop(0)\n",
    "        self.current_timestamp = time\n",
    "    \n",
    "   \n",
    "        "
   ]
  },
  {
   "cell_type": "code",
   "execution_count": 571,
   "metadata": {},
   "outputs": [],
   "source": [
    "class Machine:\n",
    "    \"\"\"Initialize machine object \"\"\"\n",
    "    def __init__(self, ix):\n",
    "        self.id = ix   \n",
    "        self.busy_until = 0   \n",
    "        self.schedule =  []  # for now let's separete self.tasks for plot or even omit and create another parameter with let's call it occupation slots start-end of job performed on machine\n",
    "        self.tasks = [[],[],[],[]]  # we'll try to perform visualization in a gant chart style, probably will work only on some small subset of our tasks \n",
    "        # format to then convert it to dataframe and utilize plotly so [[machine_id],[task_id],[start_time],[end_time]\n",
    "        self.schedule.append((0,0)) # for consistency let's assume that on start machine is occupied with start at 0 and end at 0\n",
    "        self.task_scheduled = 1  # we now that at init task list has one trivial task\n",
    "    def get_timestamp(self):\n",
    "        return self.busy_until\n",
    "        \n",
    "    # let's also here add method to give a machine abilty to return slot at which it can perform given task, \n",
    "    def schedule_task(self,timestamp,time):\n",
    "        \"\"\"Timestamp first point in time at which task can be scheduled, time -> for task big T - time to perform job\"\"\"\n",
    "        # we need to keep schedule in order \n",
    "        if self.task_scheduled == 1:\n",
    "            self.schedule.append((timestamp,timestamp+time))\n",
    "            self.busy_until = timestamp+time\n",
    "            self.tasks[2].append(timestamp)                        # getting our table for chart ready probably to improve\n",
    "            self.tasks[3].append(timestamp+time)\n",
    "        else:\n",
    "            for i in range(1,self.task_scheduled):\n",
    "                end_of_previous_job = self.schedule[i-1][1]\n",
    "                start_of_next_job = self.schedule[i][0]\n",
    "                if ((timestamp <= end_of_previous_job) and (end_of_previous_job+time <=start_of_next_job)):   # checking two conditions to answer question Can we fit new task somewhere between old scheduled tasks\n",
    "                    self.schedule.insert(i,(end_of_previous_job,end_of_previous_job+time))   # put task into gap\n",
    "                    self.tasks[2].append(end_of_previous_job)\n",
    "                    self.tasks[3].append(end_of_previous_job+time)\n",
    "                    # only situation that end of current job in the task will differ from machine.busy_unitl\n",
    "                    self.tasks[0].append(self.id)\n",
    "                    # print(timestamp+time)\n",
    "                    return end_of_previous_job+time # we need this to update task timeline \n",
    "                # polish cuz tired -> tu opisaliśmy sytuację gdzie możemy zacząć zadanie w trakcie kiedy jeszcze wyonujemy coś na maszynie, ale zmiescimy zadanie przed kolejnym już zaplanowanym \n",
    "                # mozemy jeszcze mieć sytuację, ze zaczniemy zadanie w trakcie przerwy, ale będizemy mogli rozpocząć dopiero po jakimś czasie od zwolnienia maszyny, ale i tak się wyrabiamy przed kolejnym zaplanowanym\n",
    "                elif((end_of_previous_job <= timestamp <= start_of_next_job) and  (timestamp+time <=start_of_next_job)):\n",
    "                    self.schedule.insert(i,(timestamp,timestamp+time))   # put task into gap\n",
    "                    self.tasks[2].append(timestamp)\n",
    "                    self.tasks[3].append(timestamp+time)\n",
    "                    # only situation that end of current job in the task will differ from machine.busy_unitl\n",
    "                    self.tasks[0].append(self.id)\n",
    "                    # print(timestamp+time)\n",
    "                    return timestamp+time # we need this to update task timeline \n",
    "                \n",
    "                \n",
    "                    \n",
    "            else:\n",
    "                # we need to append at the end of task list for the machine but also first check if task.timepoint (end of previous job) > machine.timepoint(end of last scheduled task)\n",
    "                if (timestamp<self.busy_until):\n",
    "                    self.schedule.append((self.busy_until,self.busy_until+time))\n",
    "                    self.busy_until  += time\n",
    "                    self.tasks[2].append(self.busy_until)\n",
    "                    self.tasks[3].append(self.busy_until+time)\n",
    "                else:\n",
    "                    self.schedule.append((timestamp,timestamp+time))\n",
    "                    self.busy_until = timestamp + time\n",
    "                    self.tasks[2].append(timestamp)\n",
    "                    self.tasks[3].append(timestamp+time)\n",
    "        \n",
    "        self.tasks[0].append(self.id)  # adding machine index just for getting good dataframe for plot  \n",
    "        \n",
    "        # print(self.busy_until)\n",
    "        return self.busy_until # in every other situation we can return self.busy_until\n",
    "\n",
    "    def update_task_list(self,task_id):\n",
    "        # during step of adding we also add task_id to the table:\n",
    "        self.tasks[1].append(task_id)\n",
    "        \n",
    "    def df_task_list(self):\n",
    "        return pd.DataFrame({'machine_id':self.tasks[0],'task_id':self.tasks[1],'start_time':self.tasks[2],'end_time':self.tasks[3]})\n",
    "    \n",
    "    def next_step(self):\n",
    "        self.task_scheduled += 1\n",
    "        \n",
    "        \n",
    "        "
   ]
  },
  {
   "cell_type": "code",
   "execution_count": 572,
   "metadata": {},
   "outputs": [],
   "source": [
    "\n",
    "def read_tasks(n = None):\n",
    "    jobs = pd.read_excel(\"GA_task.xlsx\")\n",
    "    table = []\n",
    "    col_number = len(jobs.columns)\n",
    "  \n",
    "    if n:\n",
    "        length = 0\n",
    "        for i in range(0, col_number,2):\n",
    "            id = jobs.columns[i]\n",
    "            task_jobs = list(zip(jobs.iloc[1:,i],jobs.iloc[1:,i+1]))\n",
    "            table.append(Task(jobs=task_jobs,id = id)) # we add zipped pairs of machine and time for each task , and we convert to 0 index\n",
    "            length +=1\n",
    "            if length == n: return table\n",
    "        \n",
    "    for i in range(0, col_number,2):\n",
    "        id = jobs.columns[i]\n",
    "        task_jobs = list(zip(jobs.iloc[1:,i],jobs.iloc[1:,i+1]))\n",
    "        table.append(Task(jobs=task_jobs,id = id)) # we add zipped pairs of machine and time for each task , and we convert to 0 index\n",
    "    \n",
    "    return table\n",
    "\n",
    "\n",
    "def extract_machines(task_table: list):\n",
    "    \"\"\" Requires task_table -> list of Task objects\"\"\"\n",
    "    list_of_machines = []\n",
    "    for task in task_table:\n",
    "        machines_for_task = task.return_machines()   # this method returns list of machines for this task\n",
    "        for machine in machines_for_task:\n",
    "            list_of_machines.append(machine)   # we append machine requried\n",
    "    # in the end remove duplicates and return \n",
    "    return list(set(list_of_machines))\n",
    "    "
   ]
  },
  {
   "cell_type": "code",
   "execution_count": 573,
   "metadata": {},
   "outputs": [],
   "source": [
    "task_table = read_tasks(5)"
   ]
  },
  {
   "cell_type": "code",
   "execution_count": 574,
   "metadata": {},
   "outputs": [
    {
     "data": {
      "text/plain": [
       "[<__main__.Task at 0x29611e99fd0>,\n",
       " <__main__.Task at 0x29611e23170>,\n",
       " <__main__.Task at 0x296124b0350>,\n",
       " <__main__.Task at 0x296124b0200>,\n",
       " <__main__.Task at 0x296124b0050>]"
      ]
     },
     "execution_count": 574,
     "metadata": {},
     "output_type": "execute_result"
    }
   ],
   "source": [
    "task_table"
   ]
  },
  {
   "cell_type": "code",
   "execution_count": 575,
   "metadata": {},
   "outputs": [],
   "source": [
    "machines = extract_machines(task_table)"
   ]
  },
  {
   "cell_type": "code",
   "execution_count": 576,
   "metadata": {},
   "outputs": [],
   "source": [
    "# now we are ready to initialize table of machines \n",
    "\n",
    "machine_table = []\n",
    "\n",
    "for ix in machines:\n",
    "    machine_table.append(Machine(ix = ix))"
   ]
  },
  {
   "cell_type": "code",
   "execution_count": 577,
   "metadata": {},
   "outputs": [
    {
     "data": {
      "text/plain": [
       "[<__main__.Machine at 0x296126546e0>,\n",
       " <__main__.Machine at 0x29610ae3fb0>,\n",
       " <__main__.Machine at 0x296124b0500>,\n",
       " <__main__.Machine at 0x296124b0740>,\n",
       " <__main__.Machine at 0x296124b07d0>,\n",
       " <__main__.Machine at 0x296124b0260>,\n",
       " <__main__.Machine at 0x296124b0590>,\n",
       " <__main__.Machine at 0x296124b07a0>,\n",
       " <__main__.Machine at 0x296124b04d0>,\n",
       " <__main__.Machine at 0x296124b0a10>]"
      ]
     },
     "execution_count": 577,
     "metadata": {},
     "output_type": "execute_result"
    }
   ],
   "source": [
    "machine_table"
   ]
  },
  {
   "cell_type": "code",
   "execution_count": 578,
   "metadata": {},
   "outputs": [
    {
     "data": {
      "text/plain": [
       "[]"
      ]
     },
     "execution_count": 578,
     "metadata": {},
     "output_type": "execute_result"
    }
   ],
   "source": [
    "machine_table[0].tasks[2]"
   ]
  },
  {
   "cell_type": "code",
   "execution_count": 579,
   "metadata": {},
   "outputs": [],
   "source": [
    "# and now finally Genotype here we'll probably make the most of calcualtion and also for each genotype we need to calcualte time to complete tasks in given order \n",
    "# so to do that we'll utilize Machine and Task classes and their methods\n",
    "import random\n",
    "class Genotype:\n",
    "    def __init__(self,task_table,machine_table):\n",
    "        \"\"\" It needs to be initialized with tables of Tasks and Machines\"\"\"\n",
    "        # with assumption that each task requires same number of jobs length of genotype will be len(task_table) * len(machine_table)\n",
    "        self.geno = self.initialize_geno(len(task_table),len(machine_table))\n",
    "        self.task_table = task_table\n",
    "        self.machine_table = machine_table\n",
    "        self.time = 0 \n",
    "    def initialize_geno(self,n,k):\n",
    "        geno = list(range(0,n)) * k     # just creating random genotype \n",
    "        random.shuffle(geno)\n",
    "        return geno\n",
    "        \n",
    "    def calculate_time(self): \n",
    "        for task_ix in self.geno:\n",
    "            machine_ix = self.task_table[task_ix].get_machine_ix()  # extracting first machine_x from task\n",
    "            task_timestamp = self.task_table[task_ix].get_timestamp()   # extracting current position in time of this task end\n",
    "            # machine_timestamp = self.machine_table[machine_ix].get_timestamp()  # extracting current position in time of machine required\n",
    "            # # two options\n",
    "            time = self.task_table[task_ix].get_T() # getting Time of job\n",
    "            \n",
    "            task_till = self.machine_table[machine_ix].schedule_task(task_timestamp,time)   # this function will return point in time at which we're with this task\n",
    "            # just for future visualization\n",
    "            self.machine_table[machine_ix].update_task_list(task_ix)\n",
    "            # and now we need to pop this job from task requirments It's done or at least planned to be done\n",
    "            self.task_table[task_ix].next_step(task_till)   # we remove first job from job list for this task and we update point in time of this task\n",
    "            \n",
    "            self.machine_table[machine_ix].next_step()   # just keep tracking of number scheduled jobs for machine\n",
    "             \n",
    "        # at the end of this loop we have all machines in table scheduled we now we can extract time at which each of them finish and max of it is time in this genotype\n",
    "        \n",
    "        max = 0\n",
    "        for machine in self.machine_table:\n",
    "            if (machine.busy_until > max):\n",
    "                max = machine.busy_until\n",
    "        self.time = max\n",
    "            \n",
    "            \n",
    "            \n",
    "        \n",
    "        \n",
    "        \n",
    "        \n",
    "        \n"
   ]
  },
  {
   "cell_type": "code",
   "execution_count": 580,
   "metadata": {},
   "outputs": [
    {
     "data": {
      "text/plain": [
       "[4,\n",
       " 3,\n",
       " 2,\n",
       " 2,\n",
       " 0,\n",
       " 1,\n",
       " 4,\n",
       " 4,\n",
       " 1,\n",
       " 3,\n",
       " 4,\n",
       " 4,\n",
       " 2,\n",
       " 1,\n",
       " 0,\n",
       " 1,\n",
       " 0,\n",
       " 4,\n",
       " 0,\n",
       " 0,\n",
       " 3,\n",
       " 2,\n",
       " 1,\n",
       " 3,\n",
       " 0,\n",
       " 1,\n",
       " 3,\n",
       " 2,\n",
       " 1,\n",
       " 2,\n",
       " 3,\n",
       " 0,\n",
       " 3,\n",
       " 0,\n",
       " 3,\n",
       " 4,\n",
       " 3,\n",
       " 4,\n",
       " 0,\n",
       " 1,\n",
       " 2,\n",
       " 4,\n",
       " 3,\n",
       " 1,\n",
       " 1,\n",
       " 2,\n",
       " 0,\n",
       " 2,\n",
       " 2,\n",
       " 4]"
      ]
     },
     "execution_count": 580,
     "metadata": {},
     "output_type": "execute_result"
    }
   ],
   "source": [
    "testowy_genotyp = Genotype(task_table,machine_table)\n",
    "testowy_genotyp.geno"
   ]
  },
  {
   "cell_type": "code",
   "execution_count": 581,
   "metadata": {},
   "outputs": [
    {
     "name": "stdout",
     "output_type": "stream",
     "text": [
      "[(0, 0)]\n",
      "[(0, 0)]\n",
      "[(0, 0)]\n",
      "[(0, 0)]\n",
      "[(0, 0)]\n",
      "[(0, 0)]\n",
      "[(0, 0)]\n",
      "[(0, 0)]\n",
      "[(0, 0)]\n",
      "[(0, 0)]\n"
     ]
    }
   ],
   "source": [
    "for i in machine_table:\n",
    "    print(i.schedule)"
   ]
  },
  {
   "cell_type": "code",
   "execution_count": 582,
   "metadata": {},
   "outputs": [
    {
     "name": "stdout",
     "output_type": "stream",
     "text": [
      "[[], [], [], []]\n",
      "[[], [], [], []]\n",
      "[[], [], [], []]\n",
      "[[], [], [], []]\n",
      "[[], [], [], []]\n",
      "[[], [], [], []]\n",
      "[[], [], [], []]\n",
      "[[], [], [], []]\n",
      "[[], [], [], []]\n",
      "[[], [], [], []]\n"
     ]
    }
   ],
   "source": [
    "for i in machine_table:\n",
    "    print(i.tasks)"
   ]
  },
  {
   "cell_type": "code",
   "execution_count": 590,
   "metadata": {},
   "outputs": [],
   "source": [
    "df_list = []\n",
    "for i in machine_table:\n",
    "    df_list.append(i.df_task_list())"
   ]
  },
  {
   "cell_type": "code",
   "execution_count": 591,
   "metadata": {},
   "outputs": [
    {
     "data": {
      "text/html": [
       "<div>\n",
       "<style scoped>\n",
       "    .dataframe tbody tr th:only-of-type {\n",
       "        vertical-align: middle;\n",
       "    }\n",
       "\n",
       "    .dataframe tbody tr th {\n",
       "        vertical-align: top;\n",
       "    }\n",
       "\n",
       "    .dataframe thead th {\n",
       "        text-align: right;\n",
       "    }\n",
       "</style>\n",
       "<table border=\"1\" class=\"dataframe\">\n",
       "  <thead>\n",
       "    <tr style=\"text-align: right;\">\n",
       "      <th></th>\n",
       "      <th>machine_id</th>\n",
       "      <th>task_id</th>\n",
       "      <th>start_time</th>\n",
       "      <th>end_time</th>\n",
       "    </tr>\n",
       "  </thead>\n",
       "  <tbody>\n",
       "    <tr>\n",
       "      <th>0</th>\n",
       "      <td>1</td>\n",
       "      <td>2</td>\n",
       "      <td>52</td>\n",
       "      <td>70</td>\n",
       "    </tr>\n",
       "    <tr>\n",
       "      <th>1</th>\n",
       "      <td>1</td>\n",
       "      <td>0</td>\n",
       "      <td>85</td>\n",
       "      <td>132</td>\n",
       "    </tr>\n",
       "    <tr>\n",
       "      <th>2</th>\n",
       "      <td>1</td>\n",
       "      <td>4</td>\n",
       "      <td>151</td>\n",
       "      <td>180</td>\n",
       "    </tr>\n",
       "    <tr>\n",
       "      <th>3</th>\n",
       "      <td>1</td>\n",
       "      <td>3</td>\n",
       "      <td>296</td>\n",
       "      <td>306</td>\n",
       "    </tr>\n",
       "    <tr>\n",
       "      <th>4</th>\n",
       "      <td>1</td>\n",
       "      <td>3</td>\n",
       "      <td>306</td>\n",
       "      <td>341</td>\n",
       "    </tr>\n",
       "    <tr>\n",
       "      <th>5</th>\n",
       "      <td>1</td>\n",
       "      <td>1</td>\n",
       "      <td>275</td>\n",
       "      <td>290</td>\n",
       "    </tr>\n",
       "    <tr>\n",
       "      <th>6</th>\n",
       "      <td>1</td>\n",
       "      <td>2</td>\n",
       "      <td>471</td>\n",
       "      <td>500</td>\n",
       "    </tr>\n",
       "    <tr>\n",
       "      <th>7</th>\n",
       "      <td>1</td>\n",
       "      <td>4</td>\n",
       "      <td>384</td>\n",
       "      <td>396</td>\n",
       "    </tr>\n",
       "    <tr>\n",
       "      <th>0</th>\n",
       "      <td>2</td>\n",
       "      <td>4</td>\n",
       "      <td>89</td>\n",
       "      <td>109</td>\n",
       "    </tr>\n",
       "    <tr>\n",
       "      <th>1</th>\n",
       "      <td>2</td>\n",
       "      <td>1</td>\n",
       "      <td>171</td>\n",
       "      <td>220</td>\n",
       "    </tr>\n",
       "    <tr>\n",
       "      <th>2</th>\n",
       "      <td>2</td>\n",
       "      <td>3</td>\n",
       "      <td>263</td>\n",
       "      <td>306</td>\n",
       "    </tr>\n",
       "    <tr>\n",
       "      <th>3</th>\n",
       "      <td>2</td>\n",
       "      <td>0</td>\n",
       "      <td>281</td>\n",
       "      <td>299</td>\n",
       "    </tr>\n",
       "    <tr>\n",
       "      <th>0</th>\n",
       "      <td>3</td>\n",
       "      <td>0</td>\n",
       "      <td>36</td>\n",
       "      <td>85</td>\n",
       "    </tr>\n",
       "    <tr>\n",
       "      <th>1</th>\n",
       "      <td>3</td>\n",
       "      <td>0</td>\n",
       "      <td>183</td>\n",
       "      <td>202</td>\n",
       "    </tr>\n",
       "    <tr>\n",
       "      <th>0</th>\n",
       "      <td>4</td>\n",
       "      <td>2</td>\n",
       "      <td>24</td>\n",
       "      <td>52</td>\n",
       "    </tr>\n",
       "    <tr>\n",
       "      <th>1</th>\n",
       "      <td>4</td>\n",
       "      <td>1</td>\n",
       "      <td>82</td>\n",
       "      <td>111</td>\n",
       "    </tr>\n",
       "    <tr>\n",
       "      <th>2</th>\n",
       "      <td>4</td>\n",
       "      <td>2</td>\n",
       "      <td>215</td>\n",
       "      <td>232</td>\n",
       "    </tr>\n",
       "    <tr>\n",
       "      <th>3</th>\n",
       "      <td>4</td>\n",
       "      <td>4</td>\n",
       "      <td>180</td>\n",
       "      <td>201</td>\n",
       "    </tr>\n",
       "    <tr>\n",
       "      <th>0</th>\n",
       "      <td>5</td>\n",
       "      <td>2</td>\n",
       "      <td>0</td>\n",
       "      <td>24</td>\n",
       "    </tr>\n",
       "    <tr>\n",
       "      <th>1</th>\n",
       "      <td>5</td>\n",
       "      <td>1</td>\n",
       "      <td>41</td>\n",
       "      <td>58</td>\n",
       "    </tr>\n",
       "    <tr>\n",
       "      <th>2</th>\n",
       "      <td>5</td>\n",
       "      <td>3</td>\n",
       "      <td>88</td>\n",
       "      <td>135</td>\n",
       "    </tr>\n",
       "    <tr>\n",
       "      <th>3</th>\n",
       "      <td>5</td>\n",
       "      <td>0</td>\n",
       "      <td>162</td>\n",
       "      <td>183</td>\n",
       "    </tr>\n",
       "    <tr>\n",
       "      <th>4</th>\n",
       "      <td>5</td>\n",
       "      <td>3</td>\n",
       "      <td>88</td>\n",
       "      <td>135</td>\n",
       "    </tr>\n",
       "    <tr>\n",
       "      <th>5</th>\n",
       "      <td>5</td>\n",
       "      <td>2</td>\n",
       "      <td>215</td>\n",
       "      <td>247</td>\n",
       "    </tr>\n",
       "    <tr>\n",
       "      <th>6</th>\n",
       "      <td>5</td>\n",
       "      <td>2</td>\n",
       "      <td>433</td>\n",
       "      <td>471</td>\n",
       "    </tr>\n",
       "    <tr>\n",
       "      <th>0</th>\n",
       "      <td>6</td>\n",
       "      <td>4</td>\n",
       "      <td>59</td>\n",
       "      <td>89</td>\n",
       "    </tr>\n",
       "    <tr>\n",
       "      <th>1</th>\n",
       "      <td>6</td>\n",
       "      <td>1</td>\n",
       "      <td>111</td>\n",
       "      <td>138</td>\n",
       "    </tr>\n",
       "    <tr>\n",
       "      <th>2</th>\n",
       "      <td>6</td>\n",
       "      <td>0</td>\n",
       "      <td>341</td>\n",
       "      <td>351</td>\n",
       "    </tr>\n",
       "    <tr>\n",
       "      <th>0</th>\n",
       "      <td>7</td>\n",
       "      <td>4</td>\n",
       "      <td>14</td>\n",
       "      <td>59</td>\n",
       "    </tr>\n",
       "    <tr>\n",
       "      <th>1</th>\n",
       "      <td>7</td>\n",
       "      <td>1</td>\n",
       "      <td>82</td>\n",
       "      <td>105</td>\n",
       "    </tr>\n",
       "    <tr>\n",
       "      <th>2</th>\n",
       "      <td>7</td>\n",
       "      <td>3</td>\n",
       "      <td>135</td>\n",
       "      <td>153</td>\n",
       "    </tr>\n",
       "    <tr>\n",
       "      <th>3</th>\n",
       "      <td>7</td>\n",
       "      <td>3</td>\n",
       "      <td>153</td>\n",
       "      <td>180</td>\n",
       "    </tr>\n",
       "    <tr>\n",
       "      <th>4</th>\n",
       "      <td>7</td>\n",
       "      <td>3</td>\n",
       "      <td>263</td>\n",
       "      <td>296</td>\n",
       "    </tr>\n",
       "    <tr>\n",
       "      <th>5</th>\n",
       "      <td>7</td>\n",
       "      <td>0</td>\n",
       "      <td>341</td>\n",
       "      <td>386</td>\n",
       "    </tr>\n",
       "    <tr>\n",
       "      <th>6</th>\n",
       "      <td>7</td>\n",
       "      <td>4</td>\n",
       "      <td>384</td>\n",
       "      <td>427</td>\n",
       "    </tr>\n",
       "    <tr>\n",
       "      <th>7</th>\n",
       "      <td>7</td>\n",
       "      <td>3</td>\n",
       "      <td>399</td>\n",
       "      <td>414</td>\n",
       "    </tr>\n",
       "    <tr>\n",
       "      <th>8</th>\n",
       "      <td>7</td>\n",
       "      <td>2</td>\n",
       "      <td>433</td>\n",
       "      <td>467</td>\n",
       "    </tr>\n",
       "    <tr>\n",
       "      <th>0</th>\n",
       "      <td>8</td>\n",
       "      <td>3</td>\n",
       "      <td>0</td>\n",
       "      <td>40</td>\n",
       "    </tr>\n",
       "    <tr>\n",
       "      <th>1</th>\n",
       "      <td>8</td>\n",
       "      <td>1</td>\n",
       "      <td>138</td>\n",
       "      <td>171</td>\n",
       "    </tr>\n",
       "    <tr>\n",
       "      <th>2</th>\n",
       "      <td>8</td>\n",
       "      <td>2</td>\n",
       "      <td>263</td>\n",
       "      <td>313</td>\n",
       "    </tr>\n",
       "    <tr>\n",
       "      <th>3</th>\n",
       "      <td>8</td>\n",
       "      <td>0</td>\n",
       "      <td>351</td>\n",
       "      <td>390</td>\n",
       "    </tr>\n",
       "    <tr>\n",
       "      <th>0</th>\n",
       "      <td>9</td>\n",
       "      <td>4</td>\n",
       "      <td>0</td>\n",
       "      <td>14</td>\n",
       "    </tr>\n",
       "    <tr>\n",
       "      <th>1</th>\n",
       "      <td>9</td>\n",
       "      <td>0</td>\n",
       "      <td>36</td>\n",
       "      <td>58</td>\n",
       "    </tr>\n",
       "    <tr>\n",
       "      <th>2</th>\n",
       "      <td>9</td>\n",
       "      <td>0</td>\n",
       "      <td>132</td>\n",
       "      <td>162</td>\n",
       "    </tr>\n",
       "    <tr>\n",
       "      <th>3</th>\n",
       "      <td>9</td>\n",
       "      <td>4</td>\n",
       "      <td>201</td>\n",
       "      <td>236</td>\n",
       "    </tr>\n",
       "    <tr>\n",
       "      <th>4</th>\n",
       "      <td>9</td>\n",
       "      <td>1</td>\n",
       "      <td>275</td>\n",
       "      <td>314</td>\n",
       "    </tr>\n",
       "    <tr>\n",
       "      <th>5</th>\n",
       "      <td>9</td>\n",
       "      <td>1</td>\n",
       "      <td>290</td>\n",
       "      <td>302</td>\n",
       "    </tr>\n",
       "    <tr>\n",
       "      <th>0</th>\n",
       "      <td>10</td>\n",
       "      <td>1</td>\n",
       "      <td>41</td>\n",
       "      <td>54</td>\n",
       "    </tr>\n",
       "    <tr>\n",
       "      <th>1</th>\n",
       "      <td>10</td>\n",
       "      <td>4</td>\n",
       "      <td>109</td>\n",
       "      <td>151</td>\n",
       "    </tr>\n",
       "    <tr>\n",
       "      <th>2</th>\n",
       "      <td>10</td>\n",
       "      <td>2</td>\n",
       "      <td>232</td>\n",
       "      <td>263</td>\n",
       "    </tr>\n",
       "  </tbody>\n",
       "</table>\n",
       "</div>"
      ],
      "text/plain": [
       "   machine_id  task_id  start_time  end_time\n",
       "0           1        2          52        70\n",
       "1           1        0          85       132\n",
       "2           1        4         151       180\n",
       "3           1        3         296       306\n",
       "4           1        3         306       341\n",
       "5           1        1         275       290\n",
       "6           1        2         471       500\n",
       "7           1        4         384       396\n",
       "0           2        4          89       109\n",
       "1           2        1         171       220\n",
       "2           2        3         263       306\n",
       "3           2        0         281       299\n",
       "0           3        0          36        85\n",
       "1           3        0         183       202\n",
       "0           4        2          24        52\n",
       "1           4        1          82       111\n",
       "2           4        2         215       232\n",
       "3           4        4         180       201\n",
       "0           5        2           0        24\n",
       "1           5        1          41        58\n",
       "2           5        3          88       135\n",
       "3           5        0         162       183\n",
       "4           5        3          88       135\n",
       "5           5        2         215       247\n",
       "6           5        2         433       471\n",
       "0           6        4          59        89\n",
       "1           6        1         111       138\n",
       "2           6        0         341       351\n",
       "0           7        4          14        59\n",
       "1           7        1          82       105\n",
       "2           7        3         135       153\n",
       "3           7        3         153       180\n",
       "4           7        3         263       296\n",
       "5           7        0         341       386\n",
       "6           7        4         384       427\n",
       "7           7        3         399       414\n",
       "8           7        2         433       467\n",
       "0           8        3           0        40\n",
       "1           8        1         138       171\n",
       "2           8        2         263       313\n",
       "3           8        0         351       390\n",
       "0           9        4           0        14\n",
       "1           9        0          36        58\n",
       "2           9        0         132       162\n",
       "3           9        4         201       236\n",
       "4           9        1         275       314\n",
       "5           9        1         290       302\n",
       "0          10        1          41        54\n",
       "1          10        4         109       151\n",
       "2          10        2         232       263"
      ]
     },
     "execution_count": 591,
     "metadata": {},
     "output_type": "execute_result"
    }
   ],
   "source": [
    "df_sumup = pd.concat(df_list,axis=0)\n",
    "df_sumup"
   ]
  },
  {
   "cell_type": "code",
   "execution_count": 592,
   "metadata": {},
   "outputs": [
    {
     "data": {
      "text/html": [
       "<div>\n",
       "<style scoped>\n",
       "    .dataframe tbody tr th:only-of-type {\n",
       "        vertical-align: middle;\n",
       "    }\n",
       "\n",
       "    .dataframe tbody tr th {\n",
       "        vertical-align: top;\n",
       "    }\n",
       "\n",
       "    .dataframe thead th {\n",
       "        text-align: right;\n",
       "    }\n",
       "</style>\n",
       "<table border=\"1\" class=\"dataframe\">\n",
       "  <thead>\n",
       "    <tr style=\"text-align: right;\">\n",
       "      <th></th>\n",
       "      <th>machine_id</th>\n",
       "      <th>task_id</th>\n",
       "      <th>start_time</th>\n",
       "      <th>end_time</th>\n",
       "    </tr>\n",
       "  </thead>\n",
       "  <tbody>\n",
       "    <tr>\n",
       "      <th>0</th>\n",
       "      <td>1</td>\n",
       "      <td>2</td>\n",
       "      <td>52</td>\n",
       "      <td>70</td>\n",
       "    </tr>\n",
       "    <tr>\n",
       "      <th>1</th>\n",
       "      <td>1</td>\n",
       "      <td>0</td>\n",
       "      <td>85</td>\n",
       "      <td>132</td>\n",
       "    </tr>\n",
       "    <tr>\n",
       "      <th>2</th>\n",
       "      <td>1</td>\n",
       "      <td>4</td>\n",
       "      <td>151</td>\n",
       "      <td>180</td>\n",
       "    </tr>\n",
       "    <tr>\n",
       "      <th>5</th>\n",
       "      <td>1</td>\n",
       "      <td>1</td>\n",
       "      <td>275</td>\n",
       "      <td>290</td>\n",
       "    </tr>\n",
       "    <tr>\n",
       "      <th>3</th>\n",
       "      <td>1</td>\n",
       "      <td>3</td>\n",
       "      <td>296</td>\n",
       "      <td>306</td>\n",
       "    </tr>\n",
       "    <tr>\n",
       "      <th>4</th>\n",
       "      <td>1</td>\n",
       "      <td>3</td>\n",
       "      <td>306</td>\n",
       "      <td>341</td>\n",
       "    </tr>\n",
       "    <tr>\n",
       "      <th>7</th>\n",
       "      <td>1</td>\n",
       "      <td>4</td>\n",
       "      <td>384</td>\n",
       "      <td>396</td>\n",
       "    </tr>\n",
       "    <tr>\n",
       "      <th>6</th>\n",
       "      <td>1</td>\n",
       "      <td>2</td>\n",
       "      <td>471</td>\n",
       "      <td>500</td>\n",
       "    </tr>\n",
       "  </tbody>\n",
       "</table>\n",
       "</div>"
      ],
      "text/plain": [
       "   machine_id  task_id  start_time  end_time\n",
       "0           1        2          52        70\n",
       "1           1        0          85       132\n",
       "2           1        4         151       180\n",
       "5           1        1         275       290\n",
       "3           1        3         296       306\n",
       "4           1        3         306       341\n",
       "7           1        4         384       396\n",
       "6           1        2         471       500"
      ]
     },
     "execution_count": 592,
     "metadata": {},
     "output_type": "execute_result"
    }
   ],
   "source": [
    "df_sumup[df_sumup['machine_id']==1].sort_values('start_time',ascending=True)"
   ]
  },
  {
   "cell_type": "code",
   "execution_count": 593,
   "metadata": {},
   "outputs": [
    {
     "data": {
      "text/html": [
       "<div>\n",
       "<style scoped>\n",
       "    .dataframe tbody tr th:only-of-type {\n",
       "        vertical-align: middle;\n",
       "    }\n",
       "\n",
       "    .dataframe tbody tr th {\n",
       "        vertical-align: top;\n",
       "    }\n",
       "\n",
       "    .dataframe thead th {\n",
       "        text-align: right;\n",
       "    }\n",
       "</style>\n",
       "<table border=\"1\" class=\"dataframe\">\n",
       "  <thead>\n",
       "    <tr style=\"text-align: right;\">\n",
       "      <th></th>\n",
       "      <th>machine_id</th>\n",
       "      <th>task_id</th>\n",
       "      <th>start_time</th>\n",
       "      <th>end_time</th>\n",
       "    </tr>\n",
       "  </thead>\n",
       "  <tbody>\n",
       "    <tr>\n",
       "      <th>1</th>\n",
       "      <td>5</td>\n",
       "      <td>1</td>\n",
       "      <td>41</td>\n",
       "      <td>58</td>\n",
       "    </tr>\n",
       "    <tr>\n",
       "      <th>0</th>\n",
       "      <td>10</td>\n",
       "      <td>1</td>\n",
       "      <td>41</td>\n",
       "      <td>54</td>\n",
       "    </tr>\n",
       "    <tr>\n",
       "      <th>1</th>\n",
       "      <td>4</td>\n",
       "      <td>1</td>\n",
       "      <td>82</td>\n",
       "      <td>111</td>\n",
       "    </tr>\n",
       "    <tr>\n",
       "      <th>1</th>\n",
       "      <td>7</td>\n",
       "      <td>1</td>\n",
       "      <td>82</td>\n",
       "      <td>105</td>\n",
       "    </tr>\n",
       "    <tr>\n",
       "      <th>1</th>\n",
       "      <td>6</td>\n",
       "      <td>1</td>\n",
       "      <td>111</td>\n",
       "      <td>138</td>\n",
       "    </tr>\n",
       "    <tr>\n",
       "      <th>1</th>\n",
       "      <td>8</td>\n",
       "      <td>1</td>\n",
       "      <td>138</td>\n",
       "      <td>171</td>\n",
       "    </tr>\n",
       "    <tr>\n",
       "      <th>1</th>\n",
       "      <td>2</td>\n",
       "      <td>1</td>\n",
       "      <td>171</td>\n",
       "      <td>220</td>\n",
       "    </tr>\n",
       "    <tr>\n",
       "      <th>5</th>\n",
       "      <td>1</td>\n",
       "      <td>1</td>\n",
       "      <td>275</td>\n",
       "      <td>290</td>\n",
       "    </tr>\n",
       "    <tr>\n",
       "      <th>4</th>\n",
       "      <td>9</td>\n",
       "      <td>1</td>\n",
       "      <td>275</td>\n",
       "      <td>314</td>\n",
       "    </tr>\n",
       "    <tr>\n",
       "      <th>5</th>\n",
       "      <td>9</td>\n",
       "      <td>1</td>\n",
       "      <td>290</td>\n",
       "      <td>302</td>\n",
       "    </tr>\n",
       "  </tbody>\n",
       "</table>\n",
       "</div>"
      ],
      "text/plain": [
       "   machine_id  task_id  start_time  end_time\n",
       "1           5        1          41        58\n",
       "0          10        1          41        54\n",
       "1           4        1          82       111\n",
       "1           7        1          82       105\n",
       "1           6        1         111       138\n",
       "1           8        1         138       171\n",
       "1           2        1         171       220\n",
       "5           1        1         275       290\n",
       "4           9        1         275       314\n",
       "5           9        1         290       302"
      ]
     },
     "execution_count": 593,
     "metadata": {},
     "output_type": "execute_result"
    }
   ],
   "source": [
    "df_sumup[df_sumup['task_id']==1].sort_values('start_time',ascending=True)"
   ]
  },
  {
   "cell_type": "code",
   "execution_count": 589,
   "metadata": {},
   "outputs": [
    {
     "name": "stdout",
     "output_type": "stream",
     "text": [
      "Task id: 1 \n",
      " jobs to perform: \n",
      " [(5, 46)]\n",
      "Task id: 2 \n",
      " jobs to perform: \n",
      " [(7, 13)]\n",
      "Task id: 3 \n",
      " jobs to perform: \n",
      " [(1, 26)]\n",
      "Task id: 4 \n",
      " jobs to perform: \n",
      " [(9, 39)]\n",
      "Task id: 5 \n",
      " jobs to perform: \n",
      " [(7, 36)]\n"
     ]
    }
   ],
   "source": [
    "for i in task_table:\n",
    "    print(i)"
   ]
  },
  {
   "cell_type": "code",
   "execution_count": 557,
   "metadata": {},
   "outputs": [
    {
     "name": "stdout",
     "output_type": "stream",
     "text": [
      "[5]\n",
      "[7]\n",
      "[1]\n",
      "[9]\n",
      "[7]\n"
     ]
    }
   ],
   "source": [
    "for i in task_table:\n",
    "    print(i.return_machines())"
   ]
  },
  {
   "cell_type": "code",
   "execution_count": 587,
   "metadata": {},
   "outputs": [],
   "source": [
    "testowy_genotyp.calculate_time()"
   ]
  },
  {
   "cell_type": "code",
   "execution_count": 588,
   "metadata": {},
   "outputs": [
    {
     "data": {
      "text/plain": [
       "500"
      ]
     },
     "execution_count": 588,
     "metadata": {},
     "output_type": "execute_result"
    }
   ],
   "source": [
    "testowy_genotyp.time"
   ]
  },
  {
   "cell_type": "code",
   "execution_count": 559,
   "metadata": {},
   "outputs": [
    {
     "name": "stdout",
     "output_type": "stream",
     "text": [
      "   machine_id  task_id  start_time  end_time\n",
      "0           1        2          52        70\n",
      "1           1        0          85       132\n",
      "2           1        4         192       221\n",
      "3           1        3         400       410\n",
      "4           1        3         410       445\n",
      "5           1        2         272       301\n",
      "6           1        1         342       357\n",
      "7           1        4         367       379\n",
      "   machine_id  task_id  start_time  end_time\n",
      "0           2        4          89       109\n",
      "1           2        0         236       254\n",
      "2           2        1         303       352\n",
      "3           2        3         346       389\n",
      "   machine_id  task_id  start_time  end_time\n",
      "0           3        0          36        85\n",
      "1           3        0         217       236\n",
      "   machine_id  task_id  start_time  end_time\n",
      "0           4        2          24        52\n",
      "1           4        2         102       119\n",
      "2           4        1         148       177\n",
      "3           4        4         221       242\n",
      "   machine_id  task_id  start_time  end_time\n",
      "0           5        2           0        24\n",
      "1           5        1          41        58\n",
      "2           5        2          70       102\n",
      "3           5        3         149       196\n",
      "4           5        3         149       196\n",
      "5           5        0         217       238\n",
      "6           5        2         234       272\n",
      "   machine_id  task_id  start_time  end_time\n",
      "0           6        4          59        89\n",
      "1           6        1         148       175\n",
      "2           6        0         324       334\n",
      "   machine_id  task_id  start_time  end_time\n",
      "0           7        4          14        59\n",
      "1           7        1          82       105\n",
      "2           7        2         200       234\n",
      "3           7        3         252       270\n",
      "4           7        3         252       279\n",
      "5           7        0         324       369\n",
      "6           7        4         367       410\n",
      "7           7        3         400       433\n",
      "8           7        3         445       460\n",
      "   machine_id  task_id  start_time  end_time\n",
      "0           8        3           0        40\n",
      "1           8        2         150       200\n",
      "2           8        1         233       266\n",
      "3           8        0         334       373\n",
      "   machine_id  task_id  start_time  end_time\n",
      "0           9        4           0        14\n",
      "1           9        0          36        58\n",
      "2           9        0         132       162\n",
      "3           9        4         242       277\n",
      "4           9        1         303       342\n",
      "5           9        1         357       369\n",
      "   machine_id  task_id  start_time  end_time\n",
      "0          10        1          41        54\n",
      "1          10        2         119       150\n",
      "2          10        4         192       234\n"
     ]
    }
   ],
   "source": [
    "for i in machine_table:\n",
    "    print(i.df_task_list())"
   ]
  },
  {
   "cell_type": "code",
   "execution_count": 560,
   "metadata": {},
   "outputs": [
    {
     "data": {
      "text/html": [
       "<div>\n",
       "<style scoped>\n",
       "    .dataframe tbody tr th:only-of-type {\n",
       "        vertical-align: middle;\n",
       "    }\n",
       "\n",
       "    .dataframe tbody tr th {\n",
       "        vertical-align: top;\n",
       "    }\n",
       "\n",
       "    .dataframe thead th {\n",
       "        text-align: right;\n",
       "    }\n",
       "</style>\n",
       "<table border=\"1\" class=\"dataframe\">\n",
       "  <thead>\n",
       "    <tr style=\"text-align: right;\">\n",
       "      <th></th>\n",
       "      <th>machine_id</th>\n",
       "      <th>task_id</th>\n",
       "      <th>start_time</th>\n",
       "      <th>end_time</th>\n",
       "    </tr>\n",
       "  </thead>\n",
       "  <tbody>\n",
       "  </tbody>\n",
       "</table>\n",
       "</div>"
      ],
      "text/plain": [
       "Empty DataFrame\n",
       "Columns: [machine_id, task_id, start_time, end_time]\n",
       "Index: []"
      ]
     },
     "execution_count": 560,
     "metadata": {},
     "output_type": "execute_result"
    }
   ],
   "source": [
    "df_sumup"
   ]
  },
  {
   "cell_type": "code",
   "execution_count": 526,
   "metadata": {},
   "outputs": [],
   "source": [
    "df_sumup['end'] = df_sumup['end_time'] - df_sumup['start_time']"
   ]
  },
  {
   "cell_type": "code",
   "execution_count": 404,
   "metadata": {},
   "outputs": [],
   "source": [
    "from plotly.express import bar"
   ]
  },
  {
   "cell_type": "code",
   "execution_count": 464,
   "metadata": {},
   "outputs": [
    {
     "data": {
      "application/vnd.plotly.v1+json": {
       "config": {
        "plotlyServerURL": "https://plot.ly"
       },
       "data": [
        {
         "alignmentgroup": "True",
         "base": [
          52,
          71,
          366,
          254,
          316,
          376,
          444,
          485,
          166,
          236,
          274,
          317,
          22,
          217,
          24,
          77,
          123,
          345,
          0,
          41,
          70,
          149,
          149,
          217,
          333,
          106,
          163,
          299,
          54,
          122,
          196,
          254,
          214,
          333,
          366,
          401,
          459,
          0,
          133,
          216,
          309,
          0,
          36,
          118,
          215,
          366,
          269,
          41,
          123,
          274
         ],
         "hovertemplate": "start_time=%{base}<br>end=%{x}<br>machine_id=%{y}<br>task_id=%{marker.color}<extra></extra>",
         "legendgroup": "",
         "marker": {
          "color": [
           2,
           0,
           3,
           1,
           4,
           3,
           4,
           2,
           1,
           0,
           4,
           3,
           0,
           0,
           2,
           1,
           2,
           4,
           2,
           1,
           2,
           3,
           3,
           0,
           2,
           1,
           4,
           0,
           1,
           4,
           3,
           0,
           3,
           2,
           3,
           4,
           3,
           3,
           1,
           2,
           0,
           0,
           4,
           0,
           1,
           4,
           1,
           1,
           2,
           4
          ],
          "coloraxis": "coloraxis",
          "pattern": {
           "shape": ""
          }
         },
         "name": "",
         "offsetgroup": "",
         "orientation": "h",
         "showlegend": false,
         "textposition": "auto",
         "type": "bar",
         "x": [
          18,
          47,
          10,
          15,
          29,
          35,
          12,
          29,
          49,
          18,
          20,
          43,
          49,
          19,
          28,
          29,
          17,
          21,
          24,
          17,
          32,
          47,
          47,
          21,
          38,
          27,
          30,
          10,
          23,
          45,
          18,
          45,
          27,
          34,
          33,
          43,
          15,
          40,
          33,
          50,
          39,
          22,
          14,
          30,
          39,
          35,
          12,
          13,
          31,
          42
         ],
         "xaxis": "x",
         "y": [
          1,
          1,
          1,
          1,
          1,
          1,
          1,
          1,
          2,
          2,
          2,
          2,
          3,
          3,
          4,
          4,
          4,
          4,
          5,
          5,
          5,
          5,
          5,
          5,
          5,
          6,
          6,
          6,
          7,
          7,
          7,
          7,
          7,
          7,
          7,
          7,
          7,
          8,
          8,
          8,
          8,
          9,
          9,
          9,
          9,
          9,
          9,
          10,
          10,
          10
         ],
         "yaxis": "y"
        }
       ],
       "layout": {
        "barmode": "relative",
        "coloraxis": {
         "colorbar": {
          "title": {
           "text": "task_id"
          }
         },
         "colorscale": [
          [
           0,
           "#0d0887"
          ],
          [
           0.1111111111111111,
           "#46039f"
          ],
          [
           0.2222222222222222,
           "#7201a8"
          ],
          [
           0.3333333333333333,
           "#9c179e"
          ],
          [
           0.4444444444444444,
           "#bd3786"
          ],
          [
           0.5555555555555556,
           "#d8576b"
          ],
          [
           0.6666666666666666,
           "#ed7953"
          ],
          [
           0.7777777777777778,
           "#fb9f3a"
          ],
          [
           0.8888888888888888,
           "#fdca26"
          ],
          [
           1,
           "#f0f921"
          ]
         ]
        },
        "legend": {
         "tracegroupgap": 0
        },
        "margin": {
         "t": 60
        },
        "template": {
         "data": {
          "bar": [
           {
            "error_x": {
             "color": "#2a3f5f"
            },
            "error_y": {
             "color": "#2a3f5f"
            },
            "marker": {
             "line": {
              "color": "#E5ECF6",
              "width": 0.5
             },
             "pattern": {
              "fillmode": "overlay",
              "size": 10,
              "solidity": 0.2
             }
            },
            "type": "bar"
           }
          ],
          "barpolar": [
           {
            "marker": {
             "line": {
              "color": "#E5ECF6",
              "width": 0.5
             },
             "pattern": {
              "fillmode": "overlay",
              "size": 10,
              "solidity": 0.2
             }
            },
            "type": "barpolar"
           }
          ],
          "carpet": [
           {
            "aaxis": {
             "endlinecolor": "#2a3f5f",
             "gridcolor": "white",
             "linecolor": "white",
             "minorgridcolor": "white",
             "startlinecolor": "#2a3f5f"
            },
            "baxis": {
             "endlinecolor": "#2a3f5f",
             "gridcolor": "white",
             "linecolor": "white",
             "minorgridcolor": "white",
             "startlinecolor": "#2a3f5f"
            },
            "type": "carpet"
           }
          ],
          "choropleth": [
           {
            "colorbar": {
             "outlinewidth": 0,
             "ticks": ""
            },
            "type": "choropleth"
           }
          ],
          "contour": [
           {
            "colorbar": {
             "outlinewidth": 0,
             "ticks": ""
            },
            "colorscale": [
             [
              0,
              "#0d0887"
             ],
             [
              0.1111111111111111,
              "#46039f"
             ],
             [
              0.2222222222222222,
              "#7201a8"
             ],
             [
              0.3333333333333333,
              "#9c179e"
             ],
             [
              0.4444444444444444,
              "#bd3786"
             ],
             [
              0.5555555555555556,
              "#d8576b"
             ],
             [
              0.6666666666666666,
              "#ed7953"
             ],
             [
              0.7777777777777778,
              "#fb9f3a"
             ],
             [
              0.8888888888888888,
              "#fdca26"
             ],
             [
              1,
              "#f0f921"
             ]
            ],
            "type": "contour"
           }
          ],
          "contourcarpet": [
           {
            "colorbar": {
             "outlinewidth": 0,
             "ticks": ""
            },
            "type": "contourcarpet"
           }
          ],
          "heatmap": [
           {
            "colorbar": {
             "outlinewidth": 0,
             "ticks": ""
            },
            "colorscale": [
             [
              0,
              "#0d0887"
             ],
             [
              0.1111111111111111,
              "#46039f"
             ],
             [
              0.2222222222222222,
              "#7201a8"
             ],
             [
              0.3333333333333333,
              "#9c179e"
             ],
             [
              0.4444444444444444,
              "#bd3786"
             ],
             [
              0.5555555555555556,
              "#d8576b"
             ],
             [
              0.6666666666666666,
              "#ed7953"
             ],
             [
              0.7777777777777778,
              "#fb9f3a"
             ],
             [
              0.8888888888888888,
              "#fdca26"
             ],
             [
              1,
              "#f0f921"
             ]
            ],
            "type": "heatmap"
           }
          ],
          "heatmapgl": [
           {
            "colorbar": {
             "outlinewidth": 0,
             "ticks": ""
            },
            "colorscale": [
             [
              0,
              "#0d0887"
             ],
             [
              0.1111111111111111,
              "#46039f"
             ],
             [
              0.2222222222222222,
              "#7201a8"
             ],
             [
              0.3333333333333333,
              "#9c179e"
             ],
             [
              0.4444444444444444,
              "#bd3786"
             ],
             [
              0.5555555555555556,
              "#d8576b"
             ],
             [
              0.6666666666666666,
              "#ed7953"
             ],
             [
              0.7777777777777778,
              "#fb9f3a"
             ],
             [
              0.8888888888888888,
              "#fdca26"
             ],
             [
              1,
              "#f0f921"
             ]
            ],
            "type": "heatmapgl"
           }
          ],
          "histogram": [
           {
            "marker": {
             "pattern": {
              "fillmode": "overlay",
              "size": 10,
              "solidity": 0.2
             }
            },
            "type": "histogram"
           }
          ],
          "histogram2d": [
           {
            "colorbar": {
             "outlinewidth": 0,
             "ticks": ""
            },
            "colorscale": [
             [
              0,
              "#0d0887"
             ],
             [
              0.1111111111111111,
              "#46039f"
             ],
             [
              0.2222222222222222,
              "#7201a8"
             ],
             [
              0.3333333333333333,
              "#9c179e"
             ],
             [
              0.4444444444444444,
              "#bd3786"
             ],
             [
              0.5555555555555556,
              "#d8576b"
             ],
             [
              0.6666666666666666,
              "#ed7953"
             ],
             [
              0.7777777777777778,
              "#fb9f3a"
             ],
             [
              0.8888888888888888,
              "#fdca26"
             ],
             [
              1,
              "#f0f921"
             ]
            ],
            "type": "histogram2d"
           }
          ],
          "histogram2dcontour": [
           {
            "colorbar": {
             "outlinewidth": 0,
             "ticks": ""
            },
            "colorscale": [
             [
              0,
              "#0d0887"
             ],
             [
              0.1111111111111111,
              "#46039f"
             ],
             [
              0.2222222222222222,
              "#7201a8"
             ],
             [
              0.3333333333333333,
              "#9c179e"
             ],
             [
              0.4444444444444444,
              "#bd3786"
             ],
             [
              0.5555555555555556,
              "#d8576b"
             ],
             [
              0.6666666666666666,
              "#ed7953"
             ],
             [
              0.7777777777777778,
              "#fb9f3a"
             ],
             [
              0.8888888888888888,
              "#fdca26"
             ],
             [
              1,
              "#f0f921"
             ]
            ],
            "type": "histogram2dcontour"
           }
          ],
          "mesh3d": [
           {
            "colorbar": {
             "outlinewidth": 0,
             "ticks": ""
            },
            "type": "mesh3d"
           }
          ],
          "parcoords": [
           {
            "line": {
             "colorbar": {
              "outlinewidth": 0,
              "ticks": ""
             }
            },
            "type": "parcoords"
           }
          ],
          "pie": [
           {
            "automargin": true,
            "type": "pie"
           }
          ],
          "scatter": [
           {
            "fillpattern": {
             "fillmode": "overlay",
             "size": 10,
             "solidity": 0.2
            },
            "type": "scatter"
           }
          ],
          "scatter3d": [
           {
            "line": {
             "colorbar": {
              "outlinewidth": 0,
              "ticks": ""
             }
            },
            "marker": {
             "colorbar": {
              "outlinewidth": 0,
              "ticks": ""
             }
            },
            "type": "scatter3d"
           }
          ],
          "scattercarpet": [
           {
            "marker": {
             "colorbar": {
              "outlinewidth": 0,
              "ticks": ""
             }
            },
            "type": "scattercarpet"
           }
          ],
          "scattergeo": [
           {
            "marker": {
             "colorbar": {
              "outlinewidth": 0,
              "ticks": ""
             }
            },
            "type": "scattergeo"
           }
          ],
          "scattergl": [
           {
            "marker": {
             "colorbar": {
              "outlinewidth": 0,
              "ticks": ""
             }
            },
            "type": "scattergl"
           }
          ],
          "scattermapbox": [
           {
            "marker": {
             "colorbar": {
              "outlinewidth": 0,
              "ticks": ""
             }
            },
            "type": "scattermapbox"
           }
          ],
          "scatterpolar": [
           {
            "marker": {
             "colorbar": {
              "outlinewidth": 0,
              "ticks": ""
             }
            },
            "type": "scatterpolar"
           }
          ],
          "scatterpolargl": [
           {
            "marker": {
             "colorbar": {
              "outlinewidth": 0,
              "ticks": ""
             }
            },
            "type": "scatterpolargl"
           }
          ],
          "scatterternary": [
           {
            "marker": {
             "colorbar": {
              "outlinewidth": 0,
              "ticks": ""
             }
            },
            "type": "scatterternary"
           }
          ],
          "surface": [
           {
            "colorbar": {
             "outlinewidth": 0,
             "ticks": ""
            },
            "colorscale": [
             [
              0,
              "#0d0887"
             ],
             [
              0.1111111111111111,
              "#46039f"
             ],
             [
              0.2222222222222222,
              "#7201a8"
             ],
             [
              0.3333333333333333,
              "#9c179e"
             ],
             [
              0.4444444444444444,
              "#bd3786"
             ],
             [
              0.5555555555555556,
              "#d8576b"
             ],
             [
              0.6666666666666666,
              "#ed7953"
             ],
             [
              0.7777777777777778,
              "#fb9f3a"
             ],
             [
              0.8888888888888888,
              "#fdca26"
             ],
             [
              1,
              "#f0f921"
             ]
            ],
            "type": "surface"
           }
          ],
          "table": [
           {
            "cells": {
             "fill": {
              "color": "#EBF0F8"
             },
             "line": {
              "color": "white"
             }
            },
            "header": {
             "fill": {
              "color": "#C8D4E3"
             },
             "line": {
              "color": "white"
             }
            },
            "type": "table"
           }
          ]
         },
         "layout": {
          "annotationdefaults": {
           "arrowcolor": "#2a3f5f",
           "arrowhead": 0,
           "arrowwidth": 1
          },
          "autotypenumbers": "strict",
          "coloraxis": {
           "colorbar": {
            "outlinewidth": 0,
            "ticks": ""
           }
          },
          "colorscale": {
           "diverging": [
            [
             0,
             "#8e0152"
            ],
            [
             0.1,
             "#c51b7d"
            ],
            [
             0.2,
             "#de77ae"
            ],
            [
             0.3,
             "#f1b6da"
            ],
            [
             0.4,
             "#fde0ef"
            ],
            [
             0.5,
             "#f7f7f7"
            ],
            [
             0.6,
             "#e6f5d0"
            ],
            [
             0.7,
             "#b8e186"
            ],
            [
             0.8,
             "#7fbc41"
            ],
            [
             0.9,
             "#4d9221"
            ],
            [
             1,
             "#276419"
            ]
           ],
           "sequential": [
            [
             0,
             "#0d0887"
            ],
            [
             0.1111111111111111,
             "#46039f"
            ],
            [
             0.2222222222222222,
             "#7201a8"
            ],
            [
             0.3333333333333333,
             "#9c179e"
            ],
            [
             0.4444444444444444,
             "#bd3786"
            ],
            [
             0.5555555555555556,
             "#d8576b"
            ],
            [
             0.6666666666666666,
             "#ed7953"
            ],
            [
             0.7777777777777778,
             "#fb9f3a"
            ],
            [
             0.8888888888888888,
             "#fdca26"
            ],
            [
             1,
             "#f0f921"
            ]
           ],
           "sequentialminus": [
            [
             0,
             "#0d0887"
            ],
            [
             0.1111111111111111,
             "#46039f"
            ],
            [
             0.2222222222222222,
             "#7201a8"
            ],
            [
             0.3333333333333333,
             "#9c179e"
            ],
            [
             0.4444444444444444,
             "#bd3786"
            ],
            [
             0.5555555555555556,
             "#d8576b"
            ],
            [
             0.6666666666666666,
             "#ed7953"
            ],
            [
             0.7777777777777778,
             "#fb9f3a"
            ],
            [
             0.8888888888888888,
             "#fdca26"
            ],
            [
             1,
             "#f0f921"
            ]
           ]
          },
          "colorway": [
           "#636efa",
           "#EF553B",
           "#00cc96",
           "#ab63fa",
           "#FFA15A",
           "#19d3f3",
           "#FF6692",
           "#B6E880",
           "#FF97FF",
           "#FECB52"
          ],
          "font": {
           "color": "#2a3f5f"
          },
          "geo": {
           "bgcolor": "white",
           "lakecolor": "white",
           "landcolor": "#E5ECF6",
           "showlakes": true,
           "showland": true,
           "subunitcolor": "white"
          },
          "hoverlabel": {
           "align": "left"
          },
          "hovermode": "closest",
          "mapbox": {
           "style": "light"
          },
          "paper_bgcolor": "white",
          "plot_bgcolor": "#E5ECF6",
          "polar": {
           "angularaxis": {
            "gridcolor": "white",
            "linecolor": "white",
            "ticks": ""
           },
           "bgcolor": "#E5ECF6",
           "radialaxis": {
            "gridcolor": "white",
            "linecolor": "white",
            "ticks": ""
           }
          },
          "scene": {
           "xaxis": {
            "backgroundcolor": "#E5ECF6",
            "gridcolor": "white",
            "gridwidth": 2,
            "linecolor": "white",
            "showbackground": true,
            "ticks": "",
            "zerolinecolor": "white"
           },
           "yaxis": {
            "backgroundcolor": "#E5ECF6",
            "gridcolor": "white",
            "gridwidth": 2,
            "linecolor": "white",
            "showbackground": true,
            "ticks": "",
            "zerolinecolor": "white"
           },
           "zaxis": {
            "backgroundcolor": "#E5ECF6",
            "gridcolor": "white",
            "gridwidth": 2,
            "linecolor": "white",
            "showbackground": true,
            "ticks": "",
            "zerolinecolor": "white"
           }
          },
          "shapedefaults": {
           "line": {
            "color": "#2a3f5f"
           }
          },
          "ternary": {
           "aaxis": {
            "gridcolor": "white",
            "linecolor": "white",
            "ticks": ""
           },
           "baxis": {
            "gridcolor": "white",
            "linecolor": "white",
            "ticks": ""
           },
           "bgcolor": "#E5ECF6",
           "caxis": {
            "gridcolor": "white",
            "linecolor": "white",
            "ticks": ""
           }
          },
          "title": {
           "x": 0.05
          },
          "xaxis": {
           "automargin": true,
           "gridcolor": "white",
           "linecolor": "white",
           "ticks": "",
           "title": {
            "standoff": 15
           },
           "zerolinecolor": "white",
           "zerolinewidth": 2
          },
          "yaxis": {
           "automargin": true,
           "gridcolor": "white",
           "linecolor": "white",
           "ticks": "",
           "title": {
            "standoff": 15
           },
           "zerolinecolor": "white",
           "zerolinewidth": 2
          }
         }
        },
        "xaxis": {
         "anchor": "y",
         "domain": [
          0,
          1
         ],
         "title": {
          "text": "end"
         }
        },
        "yaxis": {
         "anchor": "x",
         "domain": [
          0,
          1
         ],
         "title": {
          "text": "machine_id"
         }
        }
       }
      }
     },
     "metadata": {},
     "output_type": "display_data"
    }
   ],
   "source": [
    "bar(data_frame=df_sumup,base='start_time',x = 'end',y = 'machine_id',color = \"task_id\",orientation='h')"
   ]
  },
  {
   "cell_type": "code",
   "execution_count": 18,
   "metadata": {},
   "outputs": [
    {
     "name": "stdout",
     "output_type": "stream",
     "text": [
      "Task id: 1 \n",
      " jobs to perform: \n",
      " [(9, 22), (3, 49), (1, 47), (9, 30), (5, 21), (3, 19), (2, 18), (7, 45), (6, 10), (8, 39), (5, 46)]\n",
      "Task id: 2 \n",
      " jobs to perform: \n",
      " [(5, 17), (10, 13), (7, 23), (4, 29), (6, 27), (8, 33), (2, 49), (9, 39), (1, 15), (9, 12), (7, 13)]\n",
      "Task id: 3 \n",
      " jobs to perform: \n",
      " [(5, 24), (4, 28), (1, 18), (5, 32), (4, 17), (10, 31), (8, 50), (7, 34), (5, 38), (1, 29), (1, 26)]\n",
      "Task id: 4 \n",
      " jobs to perform: \n",
      " [(8, 40), (5, 47), (5, 47), (7, 18), (7, 27), (2, 43), (7, 33), (1, 10), (1, 35), (7, 15), (9, 39)]\n",
      "Task id: 5 \n",
      " jobs to perform: \n",
      " [(9, 14), (7, 45), (6, 30), (2, 20), (10, 42), (1, 29), (4, 21), (9, 35), (7, 43), (1, 12), (7, 36)]\n"
     ]
    }
   ],
   "source": [
    "for i in task_table:\n",
    "    print(i)"
   ]
  },
  {
   "cell_type": "code",
   "execution_count": null,
   "metadata": {},
   "outputs": [],
   "source": []
  },
  {
   "cell_type": "code",
   "execution_count": 19,
   "metadata": {},
   "outputs": [],
   "source": [
    "class Machines:\n",
    "    \"\"\"Initialize machine object \"\"\"\n",
    "    def __init__(self, ix):\n",
    "        self.id = ix + 1   # machines are also 0 index\n",
    "        self.busy_until = None   \n",
    "        self.tasks = [[],[],[],[]]  # we'll try to perform visualization in a gant chart style, probably will work only on some small subset of our tasks \n",
    "        # format to then convert it to dataframe and utilize plotly so [[machine_id],[task_id],[start_time],[end_time]\n",
    "        self.machines_tasks = self.assign_tasks()\n",
    "        \n",
    "    \n",
    "    def assign_tasks(self):\n",
    "        table = []\n",
    "        for i in self.tasks:  # just small loop to figure out of numbers of machines thats required\n",
    "            for j in i:\n",
    "                table.append(j[0])\n",
    "        machines_number = len(set(table))\n",
    "        \n",
    "        \n",
    "        machines = [[] for _ in range(machines_number)]   # 'machines' ready now fill them with tasks to perform on  them # we have 0 index there \n",
    "        for task, task_req in enumerate(self.tasks):\n",
    "            for job in task_req:\n",
    "                machines[job[0]].append(task)    # in the table with machines we store task which we'll be performed\n",
    "        return machines\n",
    " "
   ]
  }
 ],
 "metadata": {
  "kernelspec": {
   "display_name": "Python 3",
   "language": "python",
   "name": "python3"
  },
  "language_info": {
   "codemirror_mode": {
    "name": "ipython",
    "version": 3
   },
   "file_extension": ".py",
   "mimetype": "text/x-python",
   "name": "python",
   "nbconvert_exporter": "python",
   "pygments_lexer": "ipython3",
   "version": "3.12.0"
  }
 },
 "nbformat": 4,
 "nbformat_minor": 2
}
