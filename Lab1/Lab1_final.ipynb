{
 "cells": [
  {
   "cell_type": "markdown",
   "metadata": {},
   "source": [
    "# Introduction to Artificial Intelligence\n",
    "Laboratory 1\n",
    "\n"
   ]
  },
  {
   "cell_type": "markdown",
   "metadata": {},
   "source": [
    "Exercise 1 Route searching \n",
    "1.\tCreate a set of cities (as points) with coordinates x, y on a plane with height as z coordinate. The cost of going from city A to city B is equal to the Euclidean distance between two cities, if there exists a road. You should define scenarios according to two criteria: \n",
    "a.\tThere are all the direct connections / c.a. 80% of possible connections\n",
    "b.\tThe problem is symmetrical / asymmetrical (in asymmetrical – going up is height +10%, going down: -10%)\n",
    "You should choose the coordinates randomly from the range <-100, 100> for x,y and <0, 50> for z.\n",
    "2.\tRepresent the created map as a weighted (directed) graph, where cities are the nodes and roads are the edges of the graph.\n",
    "3.\tIn the created scene, solve the traveling salesman problem: The salesman starts from a chosen city and has to visit every city exactly once before returning to the starting city. The goal is to find a path with the lowest cost.\n",
    "In the problem, we define state as a partial or full path from the starting city and the corresponding state. You should represent the search problem in a form of state tree.\n",
    "a.\tImplement a full search of the tree, using BFS and DFS methods.\n",
    "b.\tApproximate the solution using greedy search (NN and Dijkstra)\n",
    "c.\tSolve/approximate the solution using A* with inadmissible/admissible heuristics\n",
    "d.\tApproximate the solution using ACO algorithm\n",
    "4.\tTest each algorithm, in each scenario, for n=5…20 cities, in terms of the found path cost, time and memory consumption.\n"
   ]
  },
  {
   "cell_type": "code",
   "execution_count": 2,
   "metadata": {},
   "outputs": [],
   "source": [
    "import random\n",
    "from support import euclidean_distance,euclidean_distance_assymetrical\n",
    "class CitiesMap():\n",
    "    def __init__(self,n,seed = None):\n",
    "        \"\"\"\n",
    "        initialize with number of cities to include in graph \n",
    "        \"\"\"    \n",
    "        \n",
    "        if seed is not None:\n",
    "            random.seed(seed)\n",
    "        self.seed = seed\n",
    "        self.n = n \n",
    "        self.cities = []\n",
    "        self.routes = [[0 for _ in range(n)] for _ in range(n)]\n",
    "        # we can represent routes between cities as a matrix with n x n shape \n",
    "        for i in range(n):\n",
    "            self.cities.append((random.randint(-101,101),random.randint(-101,101),random.randint(0,51)))\n",
    "\n",
    "        # now let's make sure that we don't have duplicated cities so we'll get derired number of unique cities\n",
    "        \n",
    "        len_check = len(set(self.cities))\n",
    "        \n",
    "        while (len_check != n):\n",
    "            self.cities.append((random.randint(-101,101),random.randint(-101,101),random.randint(0,51)))\n",
    "            len_check = len(set(self.cities))\n",
    "        self.cities = list(set(self.cities))\n",
    "    \n",
    "    \n",
    "    def calculate_distance(self,symmetrical: bool = True , connections: float = 1):\n",
    "        \"\"\"\n",
    "        Fill matrix with distnaces between city i and j  0 < i,j < n with 0 on main diagonal , conenctions 1 means all cities will be connected\n",
    "        0.5 only half of them and so on \n",
    "        \n",
    "        \"\"\"\n",
    "             \n",
    "        if (symmetrical):\n",
    "            if (connections==1):   \n",
    "                for i in range(self.n):\n",
    "                    for j in range(i+1 , self.n):  # to not double calcualte\n",
    "                        \n",
    "                        distance = euclidean_distance(self.cities[i], self.cities[j])\n",
    "                    \n",
    "                        # Store the route only once, as it is undirected\n",
    "                        self.routes[i][j] = distance\n",
    "                        self.routes[j][i] = distance\n",
    "                return self.routes\n",
    "            else:\n",
    "                # in this case we nned to delete number of connections that equals to connections * (n^2-n)/2 \n",
    "                \n",
    "                n_to_delete = int(round((1 - connections) * ((self.n**2 - self.n) / 2),0))\n",
    "\n",
    "                indexes_list = []    \n",
    "                                \n",
    "                for i in range(self.n):\n",
    "                    for j in range(i+1 , self.n):  # to not double calcualte\n",
    "                        \n",
    "                        indexes_list.append((i,j))\n",
    "                        \n",
    "                        distance = euclidean_distance(self.cities[i], self.cities[j])\n",
    "                    \n",
    "                        # Store the route only once, as it is undirected\n",
    "                        self.routes[i][j] = distance\n",
    "                        self.routes[j][i] = distance\n",
    "            \n",
    "                indexes_to_delete = random.sample(indexes_list,n_to_delete)\n",
    "                \n",
    "                for i in indexes_to_delete:\n",
    "                    # in the list that we iterate over we have pair of matrix indexes when let's say i means position with 0 index in matrix rows, j column\n",
    "                    self.routes[i[0]][i[1]] = 0     # deletes i,i\n",
    "                    self.routes[i[1]][i[0]] = 0        # deletes j,i \n",
    "                    \n",
    "                    \n",
    "                \n",
    "                \n",
    "                return self.routes\n",
    "                \n",
    "                \n",
    "                \n",
    "        else: \n",
    "            if (connections==1):  \n",
    "                for i in range(self.n):\n",
    "                    for j in range(self.n):\n",
    "                        self.routes[i][j] = euclidean_distance_assymetrical(self.cities[i], self.cities[j])\n",
    "                        \n",
    "                return self.routes  \n",
    "            else:\n",
    "                # in this case we nned to delete number of connections that equals to connections * (n^2-n) # assymetrical \n",
    "                \n",
    "                n_to_delete = int(round((1 - connections) * ((self.n**2 - self.n) / 2),0))\n",
    "                indexes_list = []    \n",
    "                                \n",
    "                for i in range(self.n):\n",
    "                    for j in range(self.n):\n",
    "                        # however with connections to delete we'll keep approach from previous one as I understand that lack connections means no road between two points \n",
    "                        # no matter how long \n",
    "                        \n",
    "                        self.routes[i][j] = euclidean_distance_assymetrical(self.cities[i], self.cities[j])\n",
    "                        \n",
    "                        # adds to indexes base only ones from above main diagonal \n",
    "                        if (j>i):\n",
    "                            indexes_list.append((i,j))\n",
    "                    \n",
    "                    \n",
    "                        \n",
    "                indexes_to_delete = random.sample(indexes_list,n_to_delete)\n",
    "                \n",
    "                \n",
    "                for i in indexes_to_delete:\n",
    "                    # in the list that we iterate over we have pair of matrix indexes \n",
    "                    self.routes[i[0]][i[1]] = 0     # deletes i,i\n",
    "                    self.routes[i[1]][i[0]] = 0\n",
    "                    \n",
    "                    \n",
    "                \n",
    "                \n",
    "                return self.routes\n",
    "                \n",
    "                \n",
    "    \n",
    "    \n"
   ]
  },
  {
   "cell_type": "code",
   "execution_count": 3,
   "metadata": {},
   "outputs": [],
   "source": [
    "from queue import PriorityQueue\n",
    "from sys import maxsize\n",
    "class RouteSearch:\n",
    "    def __init__(self,cities_map : CitiesMap):\n",
    "        self.nodes = cities_map.cities\n",
    "        self.size = cities_map.n\n",
    "        self.edges = cities_map.routes\n",
    "        # self.states = []\n",
    "        self.max = maxsize\n",
    "    def dfs_all_paths(self, starting_node: int):\n",
    "        \"\"\"\n",
    "        Perform DFS to explore all possible paths, both complete and incomplete.\n",
    "        \n",
    "        Parameters:\n",
    "        starting_node : int - the node from which to start the search\n",
    "        \n",
    "        Returns:\n",
    "        list : A list of paths. Path can be incomplete or complete.\n",
    "        \"\"\"\n",
    "        # Stack for DFS\n",
    "        stack = [[starting_node]]\n",
    "        all_paths = []\n",
    "\n",
    "        while stack:\n",
    "            path = stack.pop()\n",
    "            last_node = path[-1]\n",
    "            \n",
    "            \n",
    "            # Record the current (incomplete or complete) path and its cost\n",
    "            all_paths.append(path)\n",
    "\n",
    "            # If the path includes all cities, check if it can return to the start\n",
    "            if len(path) == self.size:\n",
    "                return_to_start_cost = self.edges[last_node][starting_node]\n",
    "                if return_to_start_cost != 0:     # to make sure that we can return to start from there\n",
    "                    # Record the completed cycle (path returns to the start)\n",
    "                    all_paths.append(path + [starting_node])\n",
    "\n",
    "            # Explore all unvisited neighbors (continue DFS)\n",
    "            for neighbor in range(self.size - 1, -1, -1):  # reverse order to simulate stack behavior\n",
    "                if neighbor not in path and self.edges[last_node][neighbor] != 0:\n",
    "                    new_path = path + [neighbor]\n",
    "                    stack.append(new_path)\n",
    "                    \n",
    "        return all_paths    \n",
    "\n",
    "    def bfs_all_paths(self, starting_node: int):\n",
    "        \"\"\"\n",
    "        Perform BS to explore all possible paths, both complete and incomplete.\n",
    "        \n",
    "        Parameters:\n",
    "        starting_node : int - the node from which to start the search\n",
    "        \n",
    "        Returns:\n",
    "        list : A list of paths. Path can be incomplete or complete.\n",
    "        \"\"\"\n",
    "        from collections import deque\n",
    "\n",
    "        # queue for bfs\n",
    "        # queue = [[starting_node]]  # with this by hand implementation this algorithm was useless already around n = 10. As I read due to O(n) pop(0) opearation. \n",
    "        queue = deque([[starting_node]]) \n",
    "\n",
    "        all_paths = []\n",
    "\n",
    "        while queue:\n",
    "            # path = queue.pop(0)   # take first element from list (queue)\n",
    "            path = queue.popleft()\n",
    "            last_node = path[-1]\n",
    "            \n",
    "            # Record the current (incomplete or complete) path and its cost\n",
    "            all_paths.append(path)\n",
    "\n",
    "            # If the path includes all cities, check if it can return to the start\n",
    "            if len(path) == self.size:\n",
    "                return_to_start_cost = self.edges[last_node][starting_node]   # to make sure that we can return to start from there\n",
    "                if return_to_start_cost != 0:\n",
    "                    # Record the completed cycle (path returns to the start)\n",
    "                    all_paths.append(path + [starting_node])\n",
    "\n",
    "                continue\n",
    "\n",
    "            # Explore all unvisited neighbors (continue bfs)\n",
    "            for neighbor in range(0, self.size):  # normal queue order\n",
    "                if neighbor not in path and self.edges[last_node][neighbor] != 0:\n",
    "                    new_path = path + [neighbor]\n",
    "                    queue.append(new_path)\n",
    "\n",
    "        return all_paths\n",
    "    \n",
    "    def get_distance(self,cycle):\n",
    "        distance = 0\n",
    "        for index in range(self.size):  # it's in fact len(state_tree) - 1 -> exactly what we need in this approach\n",
    "            distance += self.edges[cycle[index]][cycle[index+1]]  # we need to extract ith and ith+1 element of our cycle \n",
    "        return distance\n",
    "    \n",
    "    def get_min_distance(self,state_tree):\n",
    "        \"\"\" Requires state tree object from for example dfs or bfs algo, calculate distance only for full paths\"\"\"\n",
    "        \n",
    "        min_distance = self.max\n",
    "        shortest_route = []\n",
    "        for cycle in state_tree:\n",
    "            if (len(cycle)==self.size + 1):  # we calculate distance only in case of full cycle\n",
    "                distance = self.get_distance(cycle)\n",
    "            \n",
    "                if (distance < min_distance):\n",
    "                    min_distance = distance\n",
    "                    shortest_route = cycle\n",
    "\n",
    "        return (shortest_route,min_distance)\n",
    "    \n",
    "    def nn(self,start):\n",
    "        path = [start]\n",
    "        \n",
    "        while(len(path)!=self.size):\n",
    "            dist = maxsize  # initialize distance as maxsize\n",
    "            node = path[-1]  # get last node from path as a new 'starting node'\n",
    "            target = -1  # initialize target as a number from outside matrix index\n",
    "            for neighbour in range(self.size):   # iterate over neighbours of 'new' target                 \n",
    "                cur_dist = self.edges[node][neighbour] \n",
    "                if ((neighbour not in path) & (0 < cur_dist < dist)):    # if path exists and is shorter than previous lower from this starting point \n",
    "                    target = neighbour   # store neighbour\n",
    "                    dist = cur_dist   # store shortest distance \n",
    "                    \n",
    "            if target == -1:    # we got in the dead end \n",
    "                return path , \"Didn't find complete route\"\n",
    "            path.append(target)\n",
    "        \n",
    "        if (self.edges[target][start]!=0):    # if we reached there and we can go back to start we found complete circle\n",
    "            path.append(start)\n",
    "            return path , self.get_distance(path)\n",
    "        \n",
    "        # póki co nie testuję nn\n",
    "        return path, \"Didn't find complete route - no connection between last node and starting node\"\n",
    "            \n",
    "   \n",
    "        \n",
    "    def a_star(self,start):\n",
    "        \n",
    "        pq = PriorityQueue() \n",
    "        \n",
    "        pq.put((0, [start])) # pair, distance path \n",
    "        \n",
    "        # Track best solution\n",
    "        best_tour = None\n",
    "        best_distance = maxsize\n",
    "        current_f_score = 0\n",
    "        \n",
    "        while not pq.empty():\n",
    "            distance , path = pq.get()\n",
    "            current_node = path[-1]\n",
    "            if len(path) == self.size:\n",
    "                if self.edges[current_node][start] != 0:\n",
    "                    total_distance = distance + self.edges[current_node][start]\n",
    "                    complete_path = path + [start]\n",
    "                   \n",
    "                    # Update best tour\n",
    "                    if total_distance < best_distance:\n",
    "                        best_tour = complete_path\n",
    "                        best_distance = total_distance\n",
    "                continue\n",
    "            \n",
    "            for neighbour in range(self.size):\n",
    "                if neighbour not in path and self.edges[current_node][neighbour] != 0:                         \n",
    "                    new_distance = distance + self.edges[current_node][neighbour]\n",
    "                    \n",
    "                    # Create new path\n",
    "                    new_path = path + [neighbour]\n",
    "                    \n",
    "                    pq.put((new_distance,new_path))\n",
    "            \n",
    "        return best_tour, best_distance\n",
    "        \n",
    "\n",
    "    def aco(self, alfa =0.9 , beta = 1.5 , decay = .5, Q = 5,steps = 10, ants = None ,best_half_update= True,random_seed = 42):\n",
    "        if random_seed:\n",
    "            random.seed(random_seed)\n",
    "        \n",
    "        # default to number of cities in the problem\n",
    "        if ants:\n",
    "            pass\n",
    "        else:  \n",
    "            ants = self.size    \n",
    "        \n",
    "        # initialize matrix for pheromones storage \n",
    "        phero_table = [[1 for _ in range(self.size)] for _ in range(self.size)]\n",
    "        shortest_distance = maxsize\n",
    "        def ant_path(start):\n",
    "            path = [start]\n",
    "            path_distance = 0\n",
    "            \n",
    "            # we will first create list of possibles continuations and their probs \n",
    "            while len(path) < self.size: \n",
    "                current = path[-1]\n",
    "\n",
    "                probs = []\n",
    "                possible_steps = []\n",
    "                for neighbour in range(self.size):\n",
    "                    dist = self.edges[current][neighbour]\n",
    "                    if ((dist != 0)& (neighbour not in path)):\n",
    "                        possible_steps.append(neighbour)  # we append possible step together with pheromone of it \n",
    "                        prob_temp = phero_table[current][neighbour]**alfa / dist **beta # we store distance there \n",
    "                        probs.append(prob_temp)\n",
    "\n",
    "                if len(possible_steps) == 0: \n",
    "                    # print(\"First if fired\")\n",
    "                    return path,maxsize   # we went to dead end \n",
    "                next_step = random.choices(possible_steps,weights=probs)[0]    # we are choosing next step, appending distance and direction \n",
    "                path_distance += self.edges[current][next_step]\n",
    "                path.append(next_step)\n",
    "                current = next_step\n",
    "            # try to return to start \n",
    "            if (self.edges[current][path[0]]!=0):\n",
    "                path.append(start)\n",
    "                path_distance += self.edges[current][path[0]] # back to the start \n",
    "            else:\n",
    "                return path, maxsize  # we will divide by very huge number so we will update pheromon by very low value  \n",
    "            # if we get there we found complet cycle. Let's return path and  distnace of cycle\n",
    "            return path, path_distance\n",
    "            \n",
    "        \n",
    "        for step in range(steps):\n",
    "            # we will place ants in order and if ants>self.size then we will start from the 0 index city again \n",
    "            results_table = []\n",
    "            \n",
    "            for ant in range(ants):\n",
    "                results_table.append(ant_path(ant % self.size))\n",
    "\n",
    "            # also let's keep best solution in step for now just for printing it out\n",
    "            results_table.sort(key = lambda x: x[1])\n",
    "\n",
    "            # if update only based on top half of solution \n",
    "            if best_half_update:\n",
    "                results_table = results_table[:len(results_table)//2]\n",
    "            \n",
    "            \n",
    "            # now we need to update phero_table according to formula, first of all we can apply decay rate \n",
    "            \n",
    "            for i in range(self.size):\n",
    "                for j in range(self.size):\n",
    "                    phero_table[i][j] = phero_table[i][j] * (1 - decay)\n",
    "        \n",
    "            # now update based on result table - solutions generated by ants in previous step \n",
    "            for route, distance in results_table: \n",
    "                for k in range (len(route)-1):\n",
    "                    r = route[k]\n",
    "                    s = route[k+1]   # we extract pairs of city on path of this ant\n",
    "                    # and update pehero_table in cosent with formula\n",
    "                    phero_table[r][s] += Q / distance                         \n",
    "            print(f\"Step: {step} best route distance: {results_table[0][1]}\")\n",
    "        \n",
    "            # keep best soluton \n",
    "            if results_table[0][1] < shortest_distance:\n",
    "                shortest_distance = results_table[0][1]\n",
    "                best_solution = results_table[0][0] , results_table[0][1]\n",
    "        \n",
    "        \n",
    "        \n",
    "        return best_solution"
   ]
  },
  {
   "cell_type": "code",
   "execution_count": 4,
   "metadata": {},
   "outputs": [],
   "source": [
    "# test = CitiesMap(20,seed=42)  # this will generate route without connection with nn\n",
    "test = CitiesMap(10,seed=40)\n",
    "test.calculate_distance(symmetrical=False,connections=1);"
   ]
  },
  {
   "cell_type": "code",
   "execution_count": 5,
   "metadata": {},
   "outputs": [],
   "source": [
    "algos = RouteSearch(test)"
   ]
  },
  {
   "cell_type": "code",
   "execution_count": 6,
   "metadata": {},
   "outputs": [],
   "source": [
    "\n",
    "paths = algos.dfs_all_paths(0)\n"
   ]
  },
  {
   "cell_type": "code",
   "execution_count": 7,
   "metadata": {},
   "outputs": [],
   "source": [
    "paths1 = algos.bfs_all_paths(0)"
   ]
  },
  {
   "cell_type": "code",
   "execution_count": 8,
   "metadata": {},
   "outputs": [
    {
     "data": {
      "text/plain": [
       "([0, 3, 5, 2, 1, 9, 8, 6, 4, 7, 0], 735.3157640026147)"
      ]
     },
     "execution_count": 8,
     "metadata": {},
     "output_type": "execute_result"
    }
   ],
   "source": [
    "algos.get_min_distance(paths)   # based on route from dfs or bfs "
   ]
  },
  {
   "cell_type": "code",
   "execution_count": 9,
   "metadata": {},
   "outputs": [
    {
     "data": {
      "text/plain": [
       "([0, 3, 5, 2, 1, 9, 8, 6, 4, 7, 0], 735.3157640026147)"
      ]
     },
     "execution_count": 9,
     "metadata": {},
     "output_type": "execute_result"
    }
   ],
   "source": [
    "algos.get_min_distance(paths1)   # based on route from dfs or bfs "
   ]
  },
  {
   "cell_type": "code",
   "execution_count": 10,
   "metadata": {},
   "outputs": [
    {
     "data": {
      "text/plain": [
       "([0, 3, 5, 1, 2, 9, 6, 8, 4, 7, 0], 766.845408778468)"
      ]
     },
     "execution_count": 10,
     "metadata": {},
     "output_type": "execute_result"
    }
   ],
   "source": [
    "algos.nn(0)"
   ]
  },
  {
   "cell_type": "code",
   "execution_count": 11,
   "metadata": {},
   "outputs": [
    {
     "ename": "AttributeError",
     "evalue": "'RouteSearch' object has no attribute 'dijkstra'",
     "output_type": "error",
     "traceback": [
      "\u001b[1;31m---------------------------------------------------------------------------\u001b[0m",
      "\u001b[1;31mAttributeError\u001b[0m                            Traceback (most recent call last)",
      "Cell \u001b[1;32mIn[11], line 1\u001b[0m\n\u001b[1;32m----> 1\u001b[0m \u001b[43malgos\u001b[49m\u001b[38;5;241;43m.\u001b[39;49m\u001b[43mdijkstra\u001b[49m(\u001b[38;5;241m0\u001b[39m)\n",
      "\u001b[1;31mAttributeError\u001b[0m: 'RouteSearch' object has no attribute 'dijkstra'"
     ]
    }
   ],
   "source": [
    "algos.dijkstra(0)"
   ]
  },
  {
   "cell_type": "code",
   "execution_count": 11,
   "metadata": {},
   "outputs": [
    {
     "data": {
      "text/plain": [
       "([0, 3, 5, 1, 2, 9, 6, 8, 4, 7, 0], 766.845408778468)"
      ]
     },
     "execution_count": 11,
     "metadata": {},
     "output_type": "execute_result"
    }
   ],
   "source": [
    "algos.dijkstra_nn(0)"
   ]
  },
  {
   "cell_type": "code",
   "execution_count": 12,
   "metadata": {},
   "outputs": [
    {
     "data": {
      "text/plain": [
       "([0, 3, 5, 2, 1, 9, 8, 6, 4, 7, 0], 735.3157640026147)"
      ]
     },
     "execution_count": 12,
     "metadata": {},
     "output_type": "execute_result"
    }
   ],
   "source": [
    "algos.a_star(0)"
   ]
  },
  {
   "cell_type": "code",
   "execution_count": 13,
   "metadata": {},
   "outputs": [
    {
     "name": "stdout",
     "output_type": "stream",
     "text": [
      "Step: 0 best route distance: 979.6547508095234\n",
      "Step: 1 best route distance: 827.7877354275223\n",
      "Step: 2 best route distance: 812.6388852763098\n",
      "Step: 3 best route distance: 881.6318800353075\n",
      "Step: 4 best route distance: 828.0397886418963\n",
      "Step: 5 best route distance: 759.6180817856014\n",
      "Step: 6 best route distance: 736.437276608299\n",
      "Step: 7 best route distance: 736.437276608299\n",
      "Step: 8 best route distance: 759.6180817856014\n",
      "Step: 9 best route distance: 759.6180817856014\n"
     ]
    },
    {
     "data": {
      "text/plain": [
       "([9, 1, 2, 5, 3, 0, 7, 4, 6, 8, 9], 736.437276608299)"
      ]
     },
     "execution_count": 13,
     "metadata": {},
     "output_type": "execute_result"
    }
   ],
   "source": [
    "algos.aco(steps=10,decay=0.9,Q=10,best_half_update=True,random_seed=42)"
   ]
  }
 ],
 "metadata": {
  "kernelspec": {
   "display_name": "Python 3",
   "language": "python",
   "name": "python3"
  },
  "language_info": {
   "codemirror_mode": {
    "name": "ipython",
    "version": 3
   },
   "file_extension": ".py",
   "mimetype": "text/x-python",
   "name": "python",
   "nbconvert_exporter": "python",
   "pygments_lexer": "ipython3",
   "version": "3.12.8"
  }
 },
 "nbformat": 4,
 "nbformat_minor": 2
}
